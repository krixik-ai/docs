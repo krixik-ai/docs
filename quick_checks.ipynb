{
 "cells": [
  {
   "cell_type": "code",
   "execution_count": 1,
   "metadata": {},
   "outputs": [],
   "source": [
    "from utilities.converter import collect_mkdocks_toc\n",
    "from utilities.link_check import check_file_links\n",
    "from utilities.converter import convert_all_notebooks_remove\n",
    "all_toc = collect_mkdocks_toc()\n",
    "%load_ext autoreload\n",
    "%autoreload 2"
   ]
  },
  {
   "cell_type": "code",
   "execution_count": 2,
   "metadata": {},
   "outputs": [],
   "source": [
    "# convert all notebooks - removing those tagged with \"remove_cell\"\n",
    "convert_all_notebooks_remove()"
   ]
  },
  {
   "cell_type": "code",
   "execution_count": 7,
   "metadata": {},
   "outputs": [],
   "source": [
    "example=\"examples/search_pipeline_examples/multi_keyword_searchable_image_captions.md\"\n",
    "dead_links = check_file_links(example, all_toc)\n"
   ]
  },
  {
   "cell_type": "code",
   "execution_count": 8,
   "metadata": {},
   "outputs": [
    {
     "data": {
      "text/plain": [
       "[]"
      ]
     },
     "execution_count": 8,
     "metadata": {},
     "output_type": "execute_result"
    }
   ],
   "source": [
    "dead_links"
   ]
  },
  {
   "cell_type": "code",
   "execution_count": 3,
   "metadata": {},
   "outputs": [
    {
     "name": "stdout",
     "output_type": "stream",
     "text": [
      "looking through doc index.md for dead linkes...\n",
      "looking through doc system/system_overview.md for dead linkes...\n",
      "looking through doc system/initialization/install_cli.md for dead linkes...\n",
      "looking through doc system/initialization/initialize_and_authenticate.md for dead linkes...\n",
      "looking through doc system/pipeline_creation/create_pipeline.md for dead linkes...\n",
      "dead links found: ['#the-create_pipeline-method']\n",
      "=========\n",
      "\n",
      "\n",
      "looking through doc system/pipeline_creation/pipeline_config.md for dead linkes...\n",
      "looking through doc system/pipeline_creation/saving_and_loading_pipelines.md for dead linkes...\n",
      "dead links found: ['#the-save_pipeline-method', '#the-load_pipeline-method', '#the-save_pipeline-method']\n",
      "=========\n",
      "\n",
      "\n",
      "looking through doc system/parameters_processing_files_through_pipelines/process_method.md for dead linkes...\n",
      "dead links found: ['#core-process-method-arguments']\n",
      "=========\n",
      "\n",
      "\n",
      "looking through doc system/parameters_processing_files_through_pipelines/JSON_input_format.md for dead linkes...\n",
      "looking through doc system/parameters_processing_files_through_pipelines/process_status_method.md for dead linkes...\n",
      "dead links found: ['#process_status-method-arguments', '#process_status-example', '#process_status-example-with-deleted-file', 'docs/system/parameters_processing_files_through_pipelines/process_method.md#core-process-method-arguments', 'docs/system/parameters_processing_files_through_pipelines/process_method.md#core-process-method-arguments']\n",
      "=========\n",
      "\n",
      "\n",
      "looking through doc system/parameters_processing_files_through_pipelines/fetch_output_method.md for dead linkes...\n",
      "looking through doc system/parameters_processing_files_through_pipelines/data_deletion_policy.md for dead linkes...\n",
      "looking through doc system/file_system/list_method.md for dead linkes...\n",
      "dead links found: ['#list-method-arguments', '#using-multiple-arguments-with-the-list-method']\n",
      "=========\n",
      "\n",
      "\n",
      "looking through doc system/file_system/update_method.md for dead linkes...\n",
      "dead links found: ['#update-method-arguments', '#update-method-example', '#observations-on-the-update-method', 'docs/system/parameters_processing_files_through_pipelines/process_method.md#core-process-method-arguments', 'docs/system/parameters_processing_files_through_pipelines/process_method.md#core-process-method-arguments', 'docs/system/parameters_processing_files_through_pipelines/process_method.md#core-process-method-arguments']\n",
      "=========\n",
      "\n",
      "\n",
      "looking through doc system/file_system/delete_method.md for dead linkes...\n",
      "dead links found: ['docs/system/parameters_processing_files_through_pipelines/process_method.md#core-process-method-arguments']\n",
      "=========\n",
      "\n",
      "\n",
      "looking through doc system/file_system/show_tree_method.md for dead linkes...\n",
      "dead links found: ['#show_tree-method-arguments', '#show_tree-method-example']\n",
      "=========\n",
      "\n",
      "\n",
      "looking through doc system/search_methods/semantic_search_method.md for dead linkes...\n",
      "dead links found: ['#semantic_search-method-arguments']\n",
      "=========\n",
      "\n",
      "\n",
      "looking through doc system/search_methods/keyword_search_method.md for dead linkes...\n",
      "dead links found: ['#keyword_search-method-arguments']\n",
      "=========\n",
      "\n",
      "\n",
      "looking through doc system/convenience_methods/convenience_methods.md for dead linkes...\n",
      "dead links found: ['#view-all-available-modules-with-the-available_modules-property', '#examine-configuration-of-a-module-with-the-module_details-method', '#view-pipeline-module-chain-with-the-module_chain-property', '#test-pipeline-input-with-the-test_input-method', '#view-module-click-data-with-the-click_data-method', '#view-pipeline-module-chain-with-the-module_chain-property']\n",
      "=========\n",
      "\n",
      "\n",
      "looking through doc modules/modules_overview.md for dead linkes...\n",
      "looking through doc modules/ai_model_modules/caption_module.md for dead linkes...\n",
      "dead links found: ['#further-information-on-caption-module-io-and-clickability', 'docs/system/convenience_methods/convenience_methods.md#view-module-click-data-with-the-click_data-method']\n",
      "=========\n",
      "\n",
      "\n",
      "looking through doc modules/ai_model_modules/ocr_module.md for dead linkes...\n",
      "dead links found: ['#further-information-on-ocr-module-io-and-clickability', 'docs/system/convenience_methods/convenience_methods.md#view-module-click-data-with-the-click_data-method']\n",
      "=========\n",
      "\n",
      "\n",
      "looking through doc modules/ai_model_modules/sentiment_module.md for dead linkes...\n",
      "dead links found: ['#further-information-on-sentiment-module-io-and-clickability', 'docs/system/convenience_methods/convenience_methods.md#view-module-click-data-with-the-click_data-method']\n",
      "=========\n",
      "\n",
      "\n",
      "looking through doc modules/ai_model_modules/summarize_module.md for dead linkes...\n",
      "dead links found: ['#further-information-on-summarize-module-io-and-clickability', 'docs/system/convenience_methods/convenience_methods.md#view-module-click-data-with-the-click_data-method']\n",
      "=========\n",
      "\n",
      "\n",
      "looking through doc modules/ai_model_modules/text-embedder_module.md for dead linkes...\n",
      "dead links found: ['#further-information-on-text-embedder-module-io-and-clickability', 'docs/system/convenience_methods/convenience_methods.md#view-module-click-data-with-the-click_data-method']\n",
      "=========\n",
      "\n",
      "\n",
      "looking through doc modules/ai_model_modules/parser_module.md for dead linkes...\n",
      "dead links found: ['#further-information-on-parser-module-io-and-clickability', 'docs/system/convenience_methods/convenience_methods.md#view-module-click-data-with-the-click_data-method']\n",
      "=========\n",
      "\n",
      "\n",
      "looking through doc modules/ai_model_modules/transcribe_module.md for dead linkes...\n",
      "dead links found: ['#further-information-on-transcribe-module-io-and-clickability', 'docs/system/convenience_methods/convenience_methods.md#view-module-click-data-with-the-click_data-method']\n",
      "=========\n",
      "\n",
      "\n",
      "looking through doc modules/ai_model_modules/translate_module.md for dead linkes...\n",
      "dead links found: ['#further-information-on-translate-module-io-and-clickability', 'docs/system/convenience_methods/convenience_methods.md#view-module-click-data-with-the-click_data-method']\n",
      "=========\n",
      "\n",
      "\n",
      "looking through doc modules/database_modules/vector-db_module.md for dead linkes...\n",
      "dead links found: ['#a-single-module-pipeline-for-the-vector-db-module-and-local-querying', '#the-semantic_search-method', '#further-information-on-vector-db-module-io-and-clickability', 'docs/system/convenience_methods/convenience_methods.md#view-module-click-data-with-the-click_data-method']\n",
      "=========\n",
      "\n",
      "\n",
      "looking through doc modules/database_modules/keyword-db_module.md for dead linkes...\n",
      "dead links found: ['#a-single-module-pipeline-for-the-keyword-db-module-and-local-querying', '#the-keyword_search-method', '#further-information-on-keyword-db-module-io-and-clickability', 'docs/system/convenience_methods/convenience_methods.md#view-module-click-data-with-the-click_data-method']\n",
      "=========\n",
      "\n",
      "\n",
      "looking through doc modules/support_function_modules/json-to-txt_module.md for dead linkes...\n",
      "dead links found: ['#further-information-on-json-to-txt-module-io-and-clickability', 'docs/system/convenience_methods/convenience_methods.md#view-module-click-data-with-the-click_data-method']\n",
      "=========\n",
      "\n",
      "\n",
      "looking through doc examples/pipeline_examples_overview.md for dead linkes...\n",
      "looking through doc examples/single_module_pipelines/single_caption.md for dead linkes...\n",
      "looking through doc examples/single_module_pipelines/single_ocr.md for dead linkes...\n",
      "looking through doc examples/single_module_pipelines/single_sentiment.md for dead linkes...\n",
      "looking through doc examples/single_module_pipelines/single_summarize.md for dead linkes...\n"
     ]
    }
   ],
   "source": [
    "### check for dead links ###\n",
    "# collect all entries from the mkdocs toc\n",
    "all_toc = collect_mkdocks_toc()\n",
    "\n",
    "# pick an example doc\n",
    "for i in range(len(all_toc)):\n",
    "    doc = all_toc[i]\n",
    "    # look for dead links in doc\n",
    "    dead_links = check_file_links(doc, all_toc)\n",
    "    if len(dead_links) > 0:\n",
    "        print(f\"looking through doc {doc} for dead linkes...\")\n",
    "        print(f\"dead links found: {dead_links}\")\n",
    "        print(\"=========\")\n",
    "        print(\"\\n\")\n"
   ]
  }
 ],
 "metadata": {
  "kernelspec": {
   "display_name": "venv",
   "language": "python",
   "name": "python3"
  },
  "language_info": {
   "codemirror_mode": {
    "name": "ipython",
    "version": 3
   },
   "file_extension": ".py",
   "mimetype": "text/x-python",
   "name": "python",
   "nbconvert_exporter": "python",
   "pygments_lexer": "ipython3",
   "version": "3.10.13"
  }
 },
 "nbformat": 4,
 "nbformat_minor": 2
}
