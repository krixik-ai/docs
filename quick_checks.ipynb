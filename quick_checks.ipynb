{
 "cells": [
  {
   "cell_type": "code",
   "execution_count": 1,
   "metadata": {},
   "outputs": [],
   "source": [
    "from utilities.converter import collect_mkdocks_toc\n",
    "from utilities.link_check import check_file_links\n",
    "from utilities.converter import convert_all_notebooks_remove\n",
    "from utilities.data_check import check_for_dead_data_links\n",
    "\n",
    "\n",
    "all_toc = collect_mkdocks_toc()\n",
    "%load_ext autoreload\n",
    "%autoreload 2"
   ]
  },
  {
   "cell_type": "code",
   "execution_count": 2,
   "metadata": {},
   "outputs": [
    {
     "data": {
      "text/plain": [
       "([], [])"
      ]
     },
     "execution_count": 2,
     "metadata": {},
     "output_type": "execute_result"
    }
   ],
   "source": [
    "check_for_dead_data_links()"
   ]
  },
  {
   "cell_type": "code",
   "execution_count": 2,
   "metadata": {},
   "outputs": [],
   "source": [
    "# convert all notebooks - removing those tagged with \"remove_cell\"\n",
    "convert_all_notebooks_remove()"
   ]
  },
  {
   "cell_type": "code",
   "execution_count": 3,
   "metadata": {},
   "outputs": [],
   "source": [
    "doc = \"system/pipeline_creation/saving_and_loading_pipelines.md\"\n",
    "dead_links = check_file_links(doc, all_toc)"
   ]
  },
  {
   "cell_type": "code",
   "execution_count": 4,
   "metadata": {},
   "outputs": [],
   "source": [
    "### check for dead links ###\n",
    "# collect all entries from the mkdocs toc\n",
    "all_toc = collect_mkdocks_toc()\n",
    "\n",
    "# pick an example doc\n",
    "for i in range(len(all_toc)):\n",
    "    doc = all_toc[i]\n",
    "    # look for dead links in doc\n",
    "    dead_links = check_file_links(doc, all_toc)\n",
    "    if len(dead_links) > 0:\n",
    "        print(f\"looking through doc {doc} for dead links...\")\n",
    "        print(f\"dead links found: {dead_links}\")\n",
    "        print(\"=========\")\n",
    "        print(\"\\n\")"
   ]
  }
 ],
 "metadata": {
  "kernelspec": {
   "display_name": "venv",
   "language": "python",
   "name": "python3"
  },
  "language_info": {
   "codemirror_mode": {
    "name": "ipython",
    "version": 3
   },
   "file_extension": ".py",
   "mimetype": "text/x-python",
   "name": "python",
   "nbconvert_exporter": "python",
   "pygments_lexer": "ipython3",
   "version": "3.10.13"
  }
 },
 "nbformat": 4,
 "nbformat_minor": 2
}
