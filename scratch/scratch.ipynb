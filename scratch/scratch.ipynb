{
 "cells": [
  {
   "cell_type": "code",
   "execution_count": 1,
   "metadata": {},
   "outputs": [
    {
     "name": "stdout",
     "output_type": "stream",
     "text": [
      "SUCCESS: You are now authenticated.\n"
     ]
    }
   ],
   "source": [
    "# import utilities\n",
    "import sys \n",
    "import json\n",
    "import importlib\n",
    "sys.path.append('../')\n",
    "reset = importlib.import_module(\"utilities.reset\")\n",
    "reset_pipeline = reset.reset_pipeline\n",
    "\n",
    "# load secrets from a .env file using python-dotenv\n",
    "from dotenv import load_dotenv\n",
    "import os\n",
    "load_dotenv(\"../../.env\")\n",
    "MY_API_KEY = os.getenv('MY_API_KEY')\n",
    "MY_API_URL = os.getenv('MY_API_URL')\n",
    "\n",
    "# import krixik and initialize it with your personal secrets\n",
    "from krixik import krixik\n",
    "krixik.init(api_key = MY_API_KEY, \n",
    "            api_url = MY_API_URL)"
   ]
  },
  {
   "cell_type": "code",
   "execution_count": 30,
   "metadata": {},
   "outputs": [],
   "source": [
    "import yaml\n",
    "\n",
    "file_path = \"../mkdocs.yml\"\n",
    "with open(file_path, \"r\") as file:\n",
    "    mkdocks_toc = yaml.safe_load(file)\n",
    "\n",
    "# pipeilne examples\n",
    "pipeline_examples_docs = mkdocks_toc[\"nav\"][3][\"Pipeline examples\"]\n",
    "modules_docs = mkdocks_toc[\"nav\"][4][\"Modules\"][0][\"currently available\"]\n",
    "system_docs = mkdocks_toc[\"nav\"][5][\"System\"][0][\"methods\"]\n",
    "builder_docs = mkdocks_toc[\"nav\"][6][\"Pipeline builder\"][0]"
   ]
  },
  {
   "cell_type": "code",
   "execution_count": 28,
   "metadata": {},
   "outputs": [
    {
     "data": {
      "text/plain": [
       "[{'Overview': [{'introduction': 'pipeline_builder/introduction.md'},\n",
       "   {'view modules': 'pipeline_builder/existing_modules.md'},\n",
       "   {'create module': 'pipeline_builder/create_module.md'},\n",
       "   {'view a module config': 'pipeline_builder/view_module_config.md'},\n",
       "   {'build your first custom pipeline': 'pipeline_builder/first_pipeline.md'},\n",
       "   {'test your pipeline': 'pipeline_builder/testing_pipeline.md'},\n",
       "   {'useful pipeline properties': 'pipeline_builder/useful_pipeline_properties.md'},\n",
       "   {'save and load your pipeline config': 'pipeline_builder/save_load.md'}]},\n",
       " {'Modules - advanced details': [{'introduction': 'advanced_details/modules/introduction.md'},\n",
       "   {'click data': 'advanced_details/modules/click_data.md'},\n",
       "   {'module io data': 'advanced_details/modules/io_data.md'},\n",
       "   {'module io dataclasses': 'advanced_details/modules/io_dataclasses.md'}]},\n",
       " {'Pipelines - advanced details': [{'introduction': 'advanced_details/pipelines/introduction.md'},\n",
       "   {'building module by module': 'advanced_details/pipelines/modular_build.md'}]}]"
      ]
     },
     "execution_count": 28,
     "metadata": {},
     "output_type": "execute_result"
    }
   ],
   "source": [
    "mkdocks_toc[\"nav\"][6][\"Pipeline builder\"]"
   ]
  }
 ],
 "metadata": {
  "kernelspec": {
   "display_name": "venv",
   "language": "python",
   "name": "python3"
  },
  "language_info": {
   "codemirror_mode": {
    "name": "ipython",
    "version": 3
   },
   "file_extension": ".py",
   "mimetype": "text/x-python",
   "name": "python",
   "nbconvert_exporter": "python",
   "pygments_lexer": "ipython3",
   "version": "3.10.13"
  }
 },
 "nbformat": 4,
 "nbformat_minor": 2
}
