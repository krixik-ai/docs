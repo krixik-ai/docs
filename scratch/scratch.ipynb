{
 "cells": [
  {
   "cell_type": "code",
   "execution_count": 1,
   "metadata": {},
   "outputs": [],
   "source": [
    "%load_ext autoreload\n",
    "%autoreload 2"
   ]
  },
  {
   "cell_type": "code",
   "execution_count": 2,
   "metadata": {},
   "outputs": [
    {
     "name": "stdout",
     "output_type": "stream",
     "text": [
      "SUCCESS: You are now authenticated.\n"
     ]
    }
   ],
   "source": [
    "# import utilities\n",
    "import sys \n",
    "import json\n",
    "import importlib\n",
    "sys.path.append('../')\n",
    "reset = importlib.import_module(\"utilities.reset\")\n",
    "reset_pipeline = reset.reset_pipeline\n",
    "\n",
    "# load secrets from a .env file using python-dotenv\n",
    "from dotenv import load_dotenv\n",
    "import os\n",
    "load_dotenv(\"../../.env\")\n",
    "MY_API_KEY = os.getenv('MY_API_KEY')\n",
    "MY_API_URL = os.getenv('MY_API_URL')\n",
    "\n",
    "# import krixik and initialize it with your personal secrets\n",
    "from krixik import krixik\n",
    "krixik.init(api_key = MY_API_KEY, \n",
    "            api_url = MY_API_URL)"
   ]
  },
  {
   "cell_type": "code",
   "execution_count": 3,
   "metadata": {},
   "outputs": [],
   "source": [
    "from utilities.converter import convert_all_notebooks\n",
    "from utilities.converter import collect_mkdocks_toc\n",
    "from utilities.link_check import check_file_links"
   ]
  },
  {
   "cell_type": "code",
   "execution_count": 4,
   "metadata": {},
   "outputs": [],
   "source": [
    "convert_all_notebooks()"
   ]
  },
  {
   "cell_type": "code",
   "execution_count": 5,
   "metadata": {},
   "outputs": [],
   "source": [
    "toc_files = collect_mkdocks_toc()"
   ]
  },
  {
   "cell_type": "code",
   "execution_count": 6,
   "metadata": {},
   "outputs": [
    {
     "name": "stdout",
     "output_type": "stream",
     "text": [
      "file system/initialize.md contains the following dead links\n",
      "['https://pypi.org/project/python-dotenv/', 'https://pypi.org/project/python-dotenv/']\n",
      "\n",
      "\n",
      "file system/create_save_load.md contains the following dead links\n",
      "['examples/overview.md']\n",
      "\n",
      "\n",
      "file system/process_status.md contains the following dead links\n",
      "['#basic-usage-required-input-and-output-breakdown', '#optional-input-arguments', '#defaults-when-using-process', '#automatic-data-type-transformations', 'modules/parser.md#basic-usage-and-output-breakdown']\n",
      "\n",
      "\n",
      "file system/fetch_output.md contains the following dead links\n",
      "['modules/parser.md#basic-usage-and-output-breakdown']\n",
      "\n",
      "\n",
      "file system/list.md contains the following dead links\n",
      "['#basic-usage-required-input-and-output-breakdown', 'modules/parser.md#basic-usage-and-output-breakdown']\n",
      "\n",
      "\n",
      "file system/update.md contains the following dead links\n",
      "['#basic-usage-required-input-and-output-breakdown', 'modules/parser.md#basic-usage-and-output-breakdown']\n",
      "\n",
      "\n",
      "file system/delete.md contains the following dead links\n",
      "['#basic-usage-required-input-and-output-breakdown', 'modules/parser.md#basic-usage-and-output-breakdown']\n",
      "\n",
      "\n",
      "file system/show_tree.md contains the following dead links\n",
      "['https://www.tecmint.com/linux-tree-command-examples/', '#basic-usage-required-input-and-output-breakdown', 'modules/parser.md#basic-usage-and-output-breakdown']\n",
      "\n",
      "\n",
      "file system/keyword_search.md contains the following dead links\n",
      "['#basic-usage-required-input-and-output-breakdown']\n",
      "\n",
      "\n",
      "file system/semantic_search.md contains the following dead links\n",
      "['#basic-usage-required-input-and-output-breakdown', 'modules/parser.md#basic-usage-and-output-breakdown']\n",
      "\n",
      "\n",
      "file modules/caption.md contains the following dead links\n",
      "['https://pypi.org/project/python-dotenv/', 'https://huggingface.co/nlpconnect/vit-gpt2-image-captioning', 'https://huggingface.co/microsoft/git-base', 'https://huggingface.co/Salesforce/blip-image-captioning-base', 'https://huggingface.co/Salesforce/blip-image-captioning-large']\n",
      "\n",
      "\n",
      "file modules/json-to-txt.md contains the following dead links\n",
      "['https://pypi.org/project/python-dotenv/']\n",
      "\n",
      "\n",
      "file modules/keyword-db.md contains the following dead links\n",
      "['https://pypi.org/project/python-dotenv/', '#using-the-keyword-search-method', 'keyword_search_method.md']\n",
      "\n",
      "\n",
      "file modules/ocr.md contains the following dead links\n",
      "['https://pypi.org/project/python-dotenv/', 'https://github.com/tesseract-ocr/tesseract', 'https://github.com/tesseract-ocr/tesseract']\n",
      "\n",
      "\n",
      "file modules/parser.md contains the following dead links\n",
      "['https://pypi.org/project/python-dotenv/']\n",
      "\n",
      "\n",
      "file modules/sentiment.md contains the following dead links\n",
      "['https://pypi.org/project/python-dotenv/', '#using-a-non-default-model']\n",
      "\n",
      "\n",
      "file modules/summarize.md contains the following dead links\n",
      "['https://pypi.org/project/python-dotenv/', 'https://huggingface.co/facebook/bart-large-cnn', 'https://huggingface.co/Falconsai/text_summarization', 'https://huggingface.co/facebook/bart-large-cnn', 'https://huggingface.co/Falconsai/text_summarization', 'https://huggingface.co/Falconsai/text_summarization']\n",
      "\n",
      "\n",
      "file modules/text-embedder.md contains the following dead links\n",
      "['https://pypi.org/project/python-dotenv/', '#using-a-non-default-model', 'https://huggingface.co/sentence-transformers/all-MiniLM-L6-v2', 'https://huggingface.co/sentence-transformers/all-mpnet-base-v2', 'https://huggingface.co/sentence-transformers/all-MiniLM-L12-v2', 'https://huggingface.co/sentence-transformers/multi-qa-MiniLM-L6-cos-v1', 'https://huggingface.co/sentence-transformers/msmarco-distilbert-dot-v5', 'https://huggingface.co/sentence-transformers/all-MiniLM-L6-v2', 'https://huggingface.co/sentence-transformers/all-mpnet-base-v2']\n",
      "\n",
      "\n",
      "file modules/transcribe.md contains the following dead links\n",
      "['https://pypi.org/project/python-dotenv/', 'https://openai.com/research/whisper', 'https://huggingface.co/openai/whisper-tiny', 'https://huggingface.co/openai/whisper-base', 'https://huggingface.co/openai/whisper-small', 'https://huggingface.co/openai/whisper-medium', 'https://huggingface.co/openai/whisper-large-v3']\n",
      "\n",
      "\n",
      "file modules/translate.md contains the following dead links\n",
      "['https://pypi.org/project/python-dotenv/', 'https://huggingface.co/Helsinki-NLP', 'https://huggingface.co/Helsinki-NLP/opus-mt-en-es', 'https://huggingface.co/Helsinki-NLP/opus-mt-es-en', 'https://huggingface.co/Helsinki-NLP/opus-mt-de-en', 'https://huggingface.co/Helsinki-NLP/opus-mt-en-fr', 'https://huggingface.co/Helsinki-NLP/opus-mt-fr-en', 'https://huggingface.co/Helsinki-NLP/opus-mt-it-en', 'https://huggingface.co/Helsinki-NLP/opus-mt-zh-en']\n",
      "\n",
      "\n",
      "file modules/vector-db.md contains the following dead links\n",
      "['https://github.com/facebookresearch/faiss', 'https://pypi.org/project/python-dotenv/', '#using-the-semantic-search-method', 'https://pypi.org/project/faiss-cpu/', 'https://pypi.org/project/faiss-gpu/']\n",
      "\n",
      "\n"
     ]
    }
   ],
   "source": [
    "for file in toc_files:\n",
    "    dead_links = check_file_links(file, toc_files)\n",
    "    if len(dead_links) > 0:\n",
    "        print(f\"file {file} contains the following dead links\")\n",
    "        print(dead_links)\n",
    "        print(\"\\n\")"
   ]
  },
  {
   "cell_type": "code",
   "execution_count": 7,
   "metadata": {},
   "outputs": [
    {
     "data": {
      "text/plain": [
       "'examples/transcribe/overview.md'"
      ]
     },
     "execution_count": 7,
     "metadata": {},
     "output_type": "execute_result"
    }
   ],
   "source": [
    "toc_files[0]"
   ]
  }
 ],
 "metadata": {
  "kernelspec": {
   "display_name": "venv",
   "language": "python",
   "name": "python3"
  },
  "language_info": {
   "codemirror_mode": {
    "name": "ipython",
    "version": 3
   },
   "file_extension": ".py",
   "mimetype": "text/x-python",
   "name": "python",
   "nbconvert_exporter": "python",
   "pygments_lexer": "ipython3",
   "version": "3.10.13"
  }
 },
 "nbformat": 4,
 "nbformat_minor": 2
}
