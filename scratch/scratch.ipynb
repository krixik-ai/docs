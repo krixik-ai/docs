{
 "cells": [
  {
   "cell_type": "code",
   "execution_count": 1,
   "metadata": {},
   "outputs": [],
   "source": [
    "%load_ext autoreload\n",
    "%autoreload 2"
   ]
  },
  {
   "cell_type": "code",
   "execution_count": 2,
   "metadata": {},
   "outputs": [
    {
     "name": "stdout",
     "output_type": "stream",
     "text": [
      "SUCCESS: You are now authenticated.\n"
     ]
    }
   ],
   "source": [
    "# import utilities\n",
    "import sys \n",
    "import json\n",
    "import importlib\n",
    "sys.path.append('../')\n",
    "reset = importlib.import_module(\"utilities.reset\")\n",
    "reset_pipeline = reset.reset_pipeline\n",
    "\n",
    "# load secrets from a .env file using python-dotenv\n",
    "from dotenv import load_dotenv\n",
    "import os\n",
    "load_dotenv(\"../../.env\")\n",
    "MY_API_KEY = os.getenv('MY_API_KEY')\n",
    "MY_API_URL = os.getenv('MY_API_URL')\n",
    "\n",
    "# import krixik and initialize it with your personal secrets\n",
    "from krixik import krixik\n",
    "krixik.init(api_key = MY_API_KEY, \n",
    "            api_url = MY_API_URL)"
   ]
  },
  {
   "cell_type": "code",
   "execution_count": 2,
   "metadata": {},
   "outputs": [],
   "source": [
    "import yaml\n",
    "\n",
    "file_path = \"../mkdocs.yml\"\n",
    "with open(file_path, \"r\") as file:\n",
    "    mkdocks_toc = yaml.safe_load(file)\n",
    "\n",
    "pipeline_examples_docs = mkdocks_toc[\"nav\"][3][\"Pipeline examples\"]\n",
    "system_docs = mkdocks_toc[\"nav\"][5][\"System\"][0][\"methods\"]\n",
    "modules_docs = mkdocks_toc[\"nav\"][4][\"Modules\"][0][\"currently available\"]\n",
    "builder_docs = mkdocks_toc[\"nav\"][6][\"Pipeline builder\"]\n",
    "\n",
    "\n",
    "# collect paths to example docs\n",
    "examples_mds = []\n",
    "for item in pipeline_examples_docs:\n",
    "    item_values = list(item.values())[0]\n",
    "    for subitem in item_values:\n",
    "        docpath = list(subitem.values())[0]\n",
    "        examples_mds.append(docpath)\n",
    "        \n",
    "# collect paths to system docs\n",
    "system_mds = []\n",
    "for item in system_docs:\n",
    "    docpath = list(item.values())[0]\n",
    "    system_mds.append(docpath)\n",
    "    \n",
    "# collect paths to modules docs\n",
    "modules_mds = []\n",
    "for item in modules_docs:\n",
    "    docpath = list(item.values())[0]\n",
    "    modules_mds.append(docpath)\n",
    "    \n",
    "# collect paths to builder docs\n",
    "builder_mds = []\n",
    "for item in builder_docs[0][\"Overview\"]:\n",
    "    docpath = list(item.values())[0]\n",
    "    builder_mds.append(docpath)\n",
    "for item in builder_docs[1][\"Modules - advanced details\"]:\n",
    "    docpath = list(item.values())[0]\n",
    "    builder_mds.append(docpath)\n",
    "for item in builder_docs[2][\"Pipelines - advanced details\"]:\n",
    "    docpath = list(item.values())[0]\n",
    "    builder_mds.append(docpath)\n",
    "    \n",
    "# merge all mds\n",
    "all_mds = examples_mds + system_mds + modules_mds + builder_mds"
   ]
  },
  {
   "cell_type": "code",
   "execution_count": 3,
   "metadata": {},
   "outputs": [],
   "source": [
    "import subprocess\n",
    "\n",
    "\n",
    "def convert_notebook_to_markdown(docpath: str) -> None:\n",
    "    command = [\n",
    "        \"jupyter\",\n",
    "        \"nbconvert\",\n",
    "        f\"{docpath}\",\n",
    "        \"--TagRemovePreprocessor.enabled=True\",\n",
    "        \"--TagRemovePreprocessor.remove_cell_tags=['remove_cell']\",\n",
    "        \"--TagRemovePreprocessor.remove_all_outputs_tags=['remove_output']\",\n",
    "        \"--to\",\n",
    "        \"markdown\"\n",
    "    ]\n",
    "\n",
    "    # Run the command\n",
    "    process = subprocess.run(command, stdout=subprocess.PIPE, stderr=subprocess.PIPE)\n",
    "\n",
    "    # Check the return code\n",
    "    if process.returncode != 0:\n",
    "        # Print the error message\n",
    "        print(\"Error:\", process.stderr.decode().strip())\n"
   ]
  },
  {
   "cell_type": "code",
   "execution_count": 4,
   "metadata": {},
   "outputs": [
    {
     "name": "stdout",
     "output_type": "stream",
     "text": [
      "Error: [NbConvertApp] WARNING | pattern '../docs/modules/overview.ipynb' matched no files\n",
      "Error: [NbConvertApp] WARNING | pattern '../docs/pipeline_builder/introduction.ipynb' matched no files\n",
      "Error: [NbConvertApp] WARNING | pattern '../docs/pipeline_builder/existing_modules.ipynb' matched no files\n",
      "Error: [NbConvertApp] WARNING | pattern '../docs/pipeline_builder/create_module.ipynb' matched no files\n",
      "Error: [NbConvertApp] WARNING | pattern '../docs/pipeline_builder/view_module_config.ipynb' matched no files\n",
      "Error: [NbConvertApp] WARNING | pattern '../docs/pipeline_builder/first_pipeline.ipynb' matched no files\n",
      "Error: [NbConvertApp] WARNING | pattern '../docs/pipeline_builder/testing_pipeline.ipynb' matched no files\n",
      "Error: [NbConvertApp] WARNING | pattern '../docs/pipeline_builder/useful_pipeline_properties.ipynb' matched no files\n",
      "Error: [NbConvertApp] WARNING | pattern '../docs/pipeline_builder/save_load.ipynb' matched no files\n",
      "Error: [NbConvertApp] WARNING | pattern '../docs/advanced_details/modules/introduction.ipynb' matched no files\n",
      "Error: [NbConvertApp] WARNING | pattern '../docs/advanced_details/modules/click_data.ipynb' matched no files\n",
      "Error: [NbConvertApp] WARNING | pattern '../docs/advanced_details/modules/io_data.ipynb' matched no files\n",
      "Error: [NbConvertApp] WARNING | pattern '../docs/advanced_details/modules/io_dataclasses.ipynb' matched no files\n",
      "Error: [NbConvertApp] WARNING | pattern '../docs/advanced_details/pipelines/introduction.ipynb' matched no files\n",
      "Error: [NbConvertApp] WARNING | pattern '../docs/advanced_details/pipelines/modular_build.ipynb' matched no files\n"
     ]
    }
   ],
   "source": [
    "for i in range(len(all_mds)):\n",
    "    docpath = \"../docs/\" + all_mds[i].replace(\".md\",\".ipynb\")\n",
    "    convert_notebook_to_markdown(docpath)"
   ]
  }
 ],
 "metadata": {
  "kernelspec": {
   "display_name": "venv",
   "language": "python",
   "name": "python3"
  },
  "language_info": {
   "codemirror_mode": {
    "name": "ipython",
    "version": 3
   },
   "file_extension": ".py",
   "mimetype": "text/x-python",
   "name": "python",
   "nbconvert_exporter": "python",
   "pygments_lexer": "ipython3",
   "version": "3.10.13"
  }
 },
 "nbformat": 4,
 "nbformat_minor": 2
}
