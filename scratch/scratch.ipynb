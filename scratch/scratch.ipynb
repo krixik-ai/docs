{
 "cells": [
  {
   "cell_type": "code",
   "execution_count": 1,
   "metadata": {},
   "outputs": [],
   "source": [
    "%load_ext autoreload\n",
    "%autoreload 2"
   ]
  },
  {
   "cell_type": "code",
   "execution_count": 2,
   "metadata": {},
   "outputs": [
    {
     "name": "stdout",
     "output_type": "stream",
     "text": [
      "SUCCESS: You are now authenticated.\n"
     ]
    }
   ],
   "source": [
    "# import utilities\n",
    "import sys \n",
    "import json\n",
    "import importlib\n",
    "sys.path.append('../')\n",
    "reset = importlib.import_module(\"utilities.reset\")\n",
    "reset_pipeline = reset.reset_pipeline\n",
    "\n",
    "# load secrets from a .env file using python-dotenv\n",
    "from dotenv import load_dotenv\n",
    "import os\n",
    "load_dotenv(\"../../.env\")\n",
    "MY_API_KEY = os.getenv('MY_API_KEY')\n",
    "MY_API_URL = os.getenv('MY_API_URL')\n",
    "\n",
    "# import krixik and initialize it with your personal secrets\n",
    "from krixik import krixik\n",
    "krixik.init(api_key = MY_API_KEY, \n",
    "            api_url = MY_API_URL)"
   ]
  },
  {
   "cell_type": "code",
   "execution_count": 14,
   "metadata": {},
   "outputs": [],
   "source": [
    "from utilities.converter import convert_all_notebooks\n",
    "from utilities.converter import collect_mkdocks_toc\n",
    "from utilities.link_check import check_file_links\n",
    "from utilities import base_dir"
   ]
  },
  {
   "cell_type": "code",
   "execution_count": 15,
   "metadata": {},
   "outputs": [
    {
     "data": {
      "text/plain": [
       "'/Users/jeremywatt/Desktop/krixik/code/krixik-docs'"
      ]
     },
     "execution_count": 15,
     "metadata": {},
     "output_type": "execute_result"
    }
   ],
   "source": [
    "base_dir"
   ]
  },
  {
   "cell_type": "code",
   "execution_count": 4,
   "metadata": {},
   "outputs": [],
   "source": [
    "convert_all_notebooks()"
   ]
  },
  {
   "cell_type": "code",
   "execution_count": 5,
   "metadata": {},
   "outputs": [],
   "source": [
    "all_docs = collect_mkdocks_toc()"
   ]
  },
  {
   "cell_type": "code",
   "execution_count": 20,
   "metadata": {},
   "outputs": [],
   "source": []
  },
  {
   "cell_type": "code",
   "execution_count": 39,
   "metadata": {},
   "outputs": [],
   "source": [
    "import re\n",
    "\n",
    "def get_code_from_markdown(lines: list[str], *, language: str = \"python\") -> list[str]:\n",
    "    \"\"\"Outputs extracted code blocks from a list of strings of markdown text\"\"\"\n",
    "    # from: https://github.com/tassaron/get_code_from_markdown\n",
    "    regex = re.compile(\n",
    "        r\"(?P<start>^```(?P<block_language>(\\w|-)+)\\n)(?P<code>.*?\\n)(?P<end>```)\",\n",
    "        re.DOTALL | re.MULTILINE,\n",
    "    )\n",
    "    blocks = [\n",
    "        (match.group(\"block_language\"), match.group(\"code\"))\n",
    "        for match in regex.finditer(\"\".join(lines))\n",
    "    ]\n",
    "    return [block for block_language, block in blocks if block_language == language]\n",
    "\n",
    "\n",
    "def gather_pipeline_names(md_filepath: str) -> list:\n",
    "    try:\n",
    "        with open(md_filepath, 'r', encoding='utf-8') as file:\n",
    "            markdown_content = file.read()\n",
    "        code_blocks = get_code_from_markdown([markdown_content])\n",
    "        create_pattern = r'\\.create_pipeline\\([^)]*\\)'\n",
    "        name_pattern = r'name=\"([^\"]*)\"'\n",
    "        pipeline_names = []\n",
    "        for block in code_blocks:\n",
    "            create_matches = []\n",
    "            create_matches = re.findall(create_pattern, block)\n",
    "            if len(create_matches) > 0:\n",
    "                name_matches = []\n",
    "                for match in create_matches:\n",
    "                    name_matches = re.findall(name_pattern, match)\n",
    "                    for item in name_matches:\n",
    "                        pipeline_names.append(item)\n",
    "        if len(pipeline_names) > 0:\n",
    "            pipeline_names = list(set(pipeline_names))\n",
    "        return pipeline_names\n",
    "    except Exception as e:\n",
    "        raise Exception(f\"FAILURE: gather_pipeline_names failed on file {markdown_file} with exception {e}\")\n",
    "\n",
    "def duplicate_name_check():\n",
    "    try:\n",
    "        # collect all paths to md docs\n",
    "        all_docs = collect_mkdocks_toc()\n",
    "\n",
    "        # collect all pipeline names\n",
    "        all_names = []\n",
    "        all_md_names = []\n",
    "        for i in range(len(all_docs)):\n",
    "            md_filepath = base_dir + \"/docs/\" +  all_docs[i]\n",
    "            pipeline_names = gather_pipeline_names(md_filepath)\n",
    "            all_md_names.append(pipeline_names)\n",
    "            for name in pipeline_names:\n",
    "                all_names.append(name)\n",
    "                \n",
    "        # determine duplicates\n",
    "        my_dict = {i:all_names.count(i) for i in all_names}\n",
    "        keys = list(my_dict.keys())\n",
    "        values = list(my_dict.values())\n",
    "        duplicates = [key for key in keys if my_dict[key] > 1]\n",
    "\n",
    "        if len(duplicates) > 0:\n",
    "            # gather all paths to mds containing duplicate pipeline names\n",
    "            duplicates_dict = {v:[] for v in duplicates}\n",
    "            \n",
    "            for d in duplicates:\n",
    "                for i in range(len(all_docs)):\n",
    "                    docs_names = all_md_names[i]\n",
    "                    if d in docs_names:\n",
    "                        duplicates_dict[d].append(all_docs[i])\n",
    "                        \n",
    "            print(f\"FAILURE: the following pipeline names are found in multiple markdown docs: {duplicate_dicts}\")\n",
    "            return False\n",
    "        return True\n",
    "    except Exception as e:\n",
    "        print(f\"FAILURE: duplicate_name_check failed with exception {e}\")\n",
    "        return False"
   ]
  },
  {
   "cell_type": "code",
   "execution_count": 50,
   "metadata": {},
   "outputs": [],
   "source": []
  },
  {
   "cell_type": "code",
   "execution_count": 48,
   "metadata": {},
   "outputs": [],
   "source": []
  },
  {
   "cell_type": "code",
   "execution_count": 49,
   "metadata": {},
   "outputs": [
    {
     "data": {
      "text/plain": [
       "[]"
      ]
     },
     "execution_count": 49,
     "metadata": {},
     "output_type": "execute_result"
    }
   ],
   "source": [
    "dupcliates"
   ]
  }
 ],
 "metadata": {
  "kernelspec": {
   "display_name": "venv",
   "language": "python",
   "name": "python3"
  },
  "language_info": {
   "codemirror_mode": {
    "name": "ipython",
    "version": 3
   },
   "file_extension": ".py",
   "mimetype": "text/x-python",
   "name": "python",
   "nbconvert_exporter": "python",
   "pygments_lexer": "ipython3",
   "version": "3.10.13"
  }
 },
 "nbformat": 4,
 "nbformat_minor": 2
}
