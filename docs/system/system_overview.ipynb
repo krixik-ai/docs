{
 "cells": [
  {
   "cell_type": "markdown",
   "metadata": {},
   "source": [
    "## Getting Started and Beyond: An Overview of the Krixik System\n",
    "\n",
    "In this section we take a deeper look at the methods and underlying concepts of the Krixik system—at all the tools you will need to assemble, parameterize, and consume Krixik pipelines. The topics we'll review herein are the following:"
   ]
  },
  {
   "cell_type": "markdown",
   "metadata": {},
   "source": [
    "### Initialization\n",
    "\n",
    "- [Installing the CLI](../system/initialization/install_cli.md)\n",
    "\n",
    "- [Initializing and Authenticating](../system/initialization/initialize_and_authenticate.md)\n",
    "\n",
    "### Pipeline Creation\n",
    "\n",
    "- [Creating a Pipeline](../system/pipeline_creation/create_pipeline.md)\n",
    "\n",
    "- [Pipeline `.config`](../system/pipeline_creation/pipeline_config.md)\n",
    "\n",
    "- [Saving and Loading Pipelines](../system/pipeline_creation/saving_and_loading_pipelines.md)\n",
    "\n",
    "### Parameters + Processing Files Through Pipelines\n",
    "\n",
    "- [Process Files with the Parameterizable `.process` Method](../system/parameters_processing_files_through_pipelines/process_method.md)\n",
    "\n",
    "- [JSON Input Format](../system/parameters_processing_files_through_pipelines/JSON_input_format.md)\n",
    "\n",
    "- [The `.process_status` Method](../system/system/parameters_processing_files_through_pipelines/process_status_method.md)\n",
    "\n",
    "- [The `.fetch_output` Method](../system/parameters_processing_files_through_pipelines/fetch_output_method.md)\n",
    "\n",
    "### The File System\n",
    "\n",
    "- [The `.list` Method](../system/file_system/list_method.md)\n",
    "\n",
    "- [The `.update` Method](../system/file_system/update_method.md)\n",
    "\n",
    "- [The `.delete` Method](../system/file_system/delete_method.md)\n",
    "\n",
    "- [The `.show_tree` Method](../system/file_system/show_tree_method.md)\n",
    "\n",
    "### Search Methods\n",
    "\n",
    "- [The `.semantic_search` Method](../system/search_methods/semantic_search_method.md)\n",
    "\n",
    "- [The `.keyword_search` Method](../system/search_methods/keyword_search_method.md)\n",
    "\n",
    "### Convenience Methods and More\n",
    "\n",
    "- [Convenience Methods (and More!)](../system/convenience_methods/convenience_methods.md)"
   ]
  }
 ],
 "metadata": {
  "language_info": {
   "name": "python"
  }
 },
 "nbformat": 4,
 "nbformat_minor": 2
}
