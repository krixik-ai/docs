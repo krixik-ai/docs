{
 "cells": [
  {
   "cell_type": "markdown",
   "metadata": {},
   "source": [
    "## Installing the CLI"
   ]
  },
  {
   "cell_type": "markdown",
   "metadata": {},
   "source": [
    "### Install the Krixik CLI Using `pip`\n",
    "\n",
    "Execute the following line of code at your terminal to `pip install` the Krixik Python CLI."
   ]
  },
  {
   "cell_type": "markdown",
   "metadata": {},
   "source": [
    "```python\n",
    "# pip install the krixik cli\n",
    "pip install krixik\n",
    "```"
   ]
  },
  {
   "cell_type": "markdown",
   "metadata": {},
   "source": [
    "Note: Python version 3.10 or higher is required to use the Krixik CLI.\n",
    "\n",
    "Once that's done, you can [initialize your session](initialize_and_authenticate.md)."
   ]
  }
 ],
 "metadata": {
  "language_info": {
   "name": "python"
  }
 },
 "nbformat": 4,
 "nbformat_minor": 2
}
