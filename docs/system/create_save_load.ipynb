{
 "cells": [
  {
   "cell_type": "markdown",
   "metadata": {},
   "source": [
    "## Create, save, and load a pipeline"
   ]
  },
  {
   "cell_type": "markdown",
   "metadata": {},
   "source": [
    "In this document we introduce how to create, save, and load a pipeline from disk.\n",
    "\n",
    "A table of contents for the remainder of this document is shown below.\n",
    "\n",
    "- [using the `create_pipeline` method](#using-the-create_pipeline-method)\n",
    "- [using the `config` method](#using-the-config-method)\n",
    "- [using the `save_pipeline` method](#using-the-save_pipeline-method)\n",
    "- [using the `load_pipeline` method](#using-the-load_pipeline-method)"
   ]
  },
  {
   "cell_type": "code",
   "execution_count": 1,
   "metadata": {
    "tags": [
     "remove_cell"
    ]
   },
   "outputs": [
    {
     "name": "stdout",
     "output_type": "stream",
     "text": [
      "SUCCESS: You are now authenticated.\n"
     ]
    }
   ],
   "source": [
    "import os\n",
    "import sys\n",
    "import importlib\n",
    "from dotenv import load_dotenv\n",
    "\n",
    "# add path to data\n",
    "sys.path.append(\"../../\")\n",
    "reset = importlib.import_module(\"utilities.reset\")\n",
    "reset_pipeline = reset.reset_pipeline\n",
    "\n",
    "# load secrets from a .env file using python-dotenv\n",
    "load_dotenv()\n",
    "MY_API_KEY = os.getenv(\"MY_API_KEY\")\n",
    "MY_API_URL = os.getenv(\"MY_API_URL\")\n",
    "\n",
    "# import krixik and initialize it with your personal secrets\n",
    "from krixik import krixik\n",
    "\n",
    "krixik.init(api_key=MY_API_KEY, api_url=MY_API_URL)"
   ]
  },
  {
   "cell_type": "markdown",
   "metadata": {},
   "source": [
    "## Using the `create_pipeline` method"
   ]
  },
  {
   "cell_type": "markdown",
   "metadata": {},
   "source": [
    "`create_pipeline` is used to instantiate a modular pipeline with krixik.  Required input to this method include the following:\n",
    "\n",
    "- `name`: your custom pipeline name (required)\n",
    "- `module_chain`: a list of [module names](modules/overview.md) constituting your desired processing steps\n",
    "\n",
    "Below we setup a simple one module pipeline using the [`parser` module](modules/parser.md).  This is an example of a single module pipeline."
   ]
  },
  {
   "cell_type": "code",
   "execution_count": 2,
   "metadata": {},
   "outputs": [],
   "source": [
    "# create a pipeline with a single module\n",
    "pipeline = krixik.create_pipeline(\n",
    "    name=\"system-create-save-load-1\", module_chain=[\"parser\"]\n",
    ")"
   ]
  },
  {
   "cell_type": "markdown",
   "metadata": {},
   "source": [
    "Make sure you have [initialized your session](system/initialize.md) before executing this code."
   ]
  },
  {
   "cell_type": "markdown",
   "metadata": {},
   "source": [
    "Now we setup a pipeline consisting of three modules: a [`parser`](modules/parser.md), [`text-embedder`](modules/text-embedder.md), and [`vector-db`](modules/vector-db.md).  This `module_chain` constitutes a basic document-based semantic (or vector) search pipeline."
   ]
  },
  {
   "cell_type": "code",
   "execution_count": 3,
   "metadata": {},
   "outputs": [],
   "source": [
    "# create a pipeline basic document based semantic search pipeline\n",
    "pipeline = krixik.create_pipeline(\n",
    "    name=\"system-create-save-load-2\",\n",
    "    module_chain=[\"parser\", \"text-embedder\", \"vector-db\"],\n",
    ")"
   ]
  },
  {
   "cell_type": "markdown",
   "metadata": {},
   "source": [
    "An array of multi-module pipeline examples can be found in the of this documentation."
   ]
  },
  {
   "cell_type": "markdown",
   "metadata": {},
   "source": [
    "Upon execution, the krixik cli performs checks to ensure that these three modules will run properly in the provided sequence.  If they do not, a local exception is thrown with a message about why a module pair cannot be placed in a particular order."
   ]
  },
  {
   "cell_type": "markdown",
   "metadata": {},
   "source": [
    "For example, attempting to build the following two module pipeline consisting of [`parser`](modules/parser.md) and [`caption`](modules/caption.md) modules in sequence will rightly produce failure with local exception.  This is because the `parser` outputs a json file, while `caption` takes in images."
   ]
  },
  {
   "cell_type": "code",
   "execution_count": 4,
   "metadata": {
    "tags": [
     "raises-exception"
    ]
   },
   "outputs": [
    {
     "ename": "TypeError",
     "evalue": "format type mismatch between parser - whose output format is json - and caption - whose input format is image",
     "output_type": "error",
     "traceback": [
      "\u001b[0;31m---------------------------------------------------------------------------\u001b[0m",
      "\u001b[0;31mTypeError\u001b[0m                                 Traceback (most recent call last)",
      "Cell \u001b[0;32mIn[4], line 2\u001b[0m\n\u001b[1;32m      1\u001b[0m \u001b[38;5;66;03m# create a pipeline basic document based semantic search pipeline\u001b[39;00m\n\u001b[0;32m----> 2\u001b[0m pipeline \u001b[38;5;241m=\u001b[39m \u001b[43mkrixik\u001b[49m\u001b[38;5;241;43m.\u001b[39;49m\u001b[43mcreate_pipeline\u001b[49m\u001b[43m(\u001b[49m\n\u001b[1;32m      3\u001b[0m \u001b[43m    \u001b[49m\u001b[43mname\u001b[49m\u001b[38;5;241;43m=\u001b[39;49m\u001b[38;5;124;43m\"\u001b[39;49m\u001b[38;5;124;43msystem-create-save-load-3\u001b[39;49m\u001b[38;5;124;43m\"\u001b[39;49m\u001b[43m,\u001b[49m\u001b[43m \u001b[49m\u001b[43mmodule_chain\u001b[49m\u001b[38;5;241;43m=\u001b[39;49m\u001b[43m[\u001b[49m\u001b[38;5;124;43m\"\u001b[39;49m\u001b[38;5;124;43mparser\u001b[39;49m\u001b[38;5;124;43m\"\u001b[39;49m\u001b[43m,\u001b[49m\u001b[43m \u001b[49m\u001b[38;5;124;43m\"\u001b[39;49m\u001b[38;5;124;43mcaption\u001b[39;49m\u001b[38;5;124;43m\"\u001b[39;49m\u001b[43m]\u001b[49m\n\u001b[1;32m      4\u001b[0m \u001b[43m)\u001b[49m\n",
      "File \u001b[0;32m~/Desktop/krixik/code/krixik-docs/docs/system/../../krixik/main.py:73\u001b[0m, in \u001b[0;36mkrixik.create_pipeline\u001b[0;34m(cls, name, module_chain)\u001b[0m\n\u001b[1;32m     71\u001b[0m         \u001b[38;5;28;01mraise\u001b[39;00m \u001b[38;5;167;01mValueError\u001b[39;00m(\u001b[38;5;124mf\u001b[39m\u001b[38;5;124m\"\u001b[39m\u001b[38;5;124mmodule_chain item - \u001b[39m\u001b[38;5;132;01m{\u001b[39;00mitem\u001b[38;5;132;01m}\u001b[39;00m\u001b[38;5;124m - is not a currently one of the currently available modules -\u001b[39m\u001b[38;5;132;01m{\u001b[39;00mavailable_modules\u001b[38;5;132;01m}\u001b[39;00m\u001b[38;5;124m\"\u001b[39m)\n\u001b[1;32m     72\u001b[0m module_chain_ \u001b[38;5;241m=\u001b[39m [Module(m_name) \u001b[38;5;28;01mfor\u001b[39;00m m_name \u001b[38;5;129;01min\u001b[39;00m module_chain]\n\u001b[0;32m---> 73\u001b[0m custom \u001b[38;5;241m=\u001b[39m \u001b[43mCreatePipeline\u001b[49m\u001b[43m(\u001b[49m\u001b[43mname\u001b[49m\u001b[38;5;241;43m=\u001b[39;49m\u001b[43mname\u001b[49m\u001b[43m,\u001b[49m\n\u001b[1;32m     74\u001b[0m \u001b[43m                        \u001b[49m\u001b[43mmodule_chain\u001b[49m\u001b[38;5;241;43m=\u001b[39;49m\u001b[43mmodule_chain_\u001b[49m\u001b[43m)\u001b[49m\n\u001b[1;32m     75\u001b[0m \u001b[38;5;28;01mreturn\u001b[39;00m \u001b[38;5;28mcls\u001b[39m\u001b[38;5;241m.\u001b[39mload_pipeline(pipeline\u001b[38;5;241m=\u001b[39mcustom)\n",
      "File \u001b[0;32m~/Desktop/krixik/code/krixik-docs/docs/system/../../krixik/pipeline_builder/pipeline.py:58\u001b[0m, in \u001b[0;36mCreatePipeline.__init__\u001b[0;34m(self, name, module_chain, config_path)\u001b[0m\n\u001b[1;32m     56\u001b[0m chain_check(module_chain)\n\u001b[1;32m     57\u001b[0m \u001b[38;5;28;01mfor\u001b[39;00m module \u001b[38;5;129;01min\u001b[39;00m module_chain:\n\u001b[0;32m---> 58\u001b[0m     \u001b[38;5;28;43mself\u001b[39;49m\u001b[38;5;241;43m.\u001b[39;49m\u001b[43m_add\u001b[49m\u001b[43m(\u001b[49m\u001b[43mmodule\u001b[49m\u001b[43m)\u001b[49m\n\u001b[1;32m     59\u001b[0m \u001b[38;5;28mself\u001b[39m\u001b[38;5;241m.\u001b[39mtest_connections()\n",
      "File \u001b[0;32m~/Desktop/krixik/code/krixik-docs/docs/system/../../krixik/pipeline_builder/pipeline.py:85\u001b[0m, in \u001b[0;36mCreatePipeline._add\u001b[0;34m(self, module, insert_index)\u001b[0m\n\u001b[1;32m     82\u001b[0m \u001b[38;5;28mself\u001b[39m\u001b[38;5;241m.\u001b[39m__module_chain_configs\u001b[38;5;241m.\u001b[39mappend(module\u001b[38;5;241m.\u001b[39mconfig)\n\u001b[1;32m     83\u001b[0m \u001b[38;5;28mself\u001b[39m\u001b[38;5;241m.\u001b[39m__module_chain_output_process_keys\u001b[38;5;241m.\u001b[39mappend(module\u001b[38;5;241m.\u001b[39moutput_process_key)\n\u001b[0;32m---> 85\u001b[0m \u001b[38;5;28;43mself\u001b[39;49m\u001b[38;5;241;43m.\u001b[39;49m\u001b[43mtest_connections\u001b[49m\u001b[43m(\u001b[49m\u001b[43m)\u001b[49m\n",
      "File \u001b[0;32m~/Desktop/krixik/code/krixik-docs/docs/system/../../krixik/pipeline_builder/pipeline.py:154\u001b[0m, in \u001b[0;36mCreatePipeline.test_connections\u001b[0;34m(self)\u001b[0m\n\u001b[1;32m    152\u001b[0m \u001b[38;5;66;03m# check format compatibility\u001b[39;00m\n\u001b[1;32m    153\u001b[0m \u001b[38;5;28;01mif\u001b[39;00m prev_module_output_format \u001b[38;5;241m!=\u001b[39m curr_module_input_format:\n\u001b[0;32m--> 154\u001b[0m     \u001b[38;5;28;01mraise\u001b[39;00m \u001b[38;5;167;01mTypeError\u001b[39;00m(\n\u001b[1;32m    155\u001b[0m         \u001b[38;5;124mf\u001b[39m\u001b[38;5;124m\"\u001b[39m\u001b[38;5;124mformat type mismatch between \u001b[39m\u001b[38;5;132;01m{\u001b[39;00mprev_module\u001b[38;5;241m.\u001b[39mname\u001b[38;5;132;01m}\u001b[39;00m\u001b[38;5;124m - whose output format is \u001b[39m\u001b[38;5;132;01m{\u001b[39;00mprev_module_output_format\u001b[38;5;132;01m}\u001b[39;00m\u001b[38;5;124m - and \u001b[39m\u001b[38;5;132;01m{\u001b[39;00mcurr_module\u001b[38;5;241m.\u001b[39mname\u001b[38;5;132;01m}\u001b[39;00m\u001b[38;5;124m - whose input format is \u001b[39m\u001b[38;5;132;01m{\u001b[39;00mcurr_module_input_format\u001b[38;5;132;01m}\u001b[39;00m\u001b[38;5;124m\"\u001b[39m\n\u001b[1;32m    156\u001b[0m     )\n\u001b[1;32m    158\u001b[0m \u001b[38;5;66;03m# check process key type compatibility\u001b[39;00m\n\u001b[1;32m    159\u001b[0m \u001b[38;5;28;01mif\u001b[39;00m (\n\u001b[1;32m    160\u001b[0m     prev_module_output_process_key_type\n\u001b[1;32m    161\u001b[0m     \u001b[38;5;241m!=\u001b[39m curr_module_input_process_key_type\n\u001b[1;32m    162\u001b[0m ):\n",
      "\u001b[0;31mTypeError\u001b[0m: format type mismatch between parser - whose output format is json - and caption - whose input format is image"
     ]
    }
   ],
   "source": [
    "# create a pipeline basic document based semantic search pipeline\n",
    "pipeline = krixik.create_pipeline(\n",
    "    name=\"system-create-save-load-3\", module_chain=[\"parser\", \"caption\"]\n",
    ")"
   ]
  },
  {
   "cell_type": "markdown",
   "metadata": {},
   "source": [
    "## Using the `config` method"
   ]
  },
  {
   "cell_type": "markdown",
   "metadata": {},
   "source": [
    "View the configuration of a pipeline by using the `.config` method on a pipeline object.  This displays required input for each module, the models available for each module of a pipeline and any parameters of these models.  A pipeline's configuration is its complete \"under the hood\" description."
   ]
  },
  {
   "cell_type": "code",
   "execution_count": 5,
   "metadata": {},
   "outputs": [
    {
     "data": {
      "text/plain": [
       "{'pipeline': {'name': 'system-create-save-load-4',\n",
       "  'modules': [{'name': 'parser',\n",
       "    'models': [{'name': 'sentence'},\n",
       "     {'name': 'fixed',\n",
       "      'params': {'chunk_size': {'type': 'int', 'default': 10},\n",
       "       'overlap_size': {'type': 'int', 'default': 4}}}],\n",
       "    'defaults': {'model': 'sentence'},\n",
       "    'input': {'type': 'text',\n",
       "     'permitted_extensions': ['.txt', '.pdf', '.docx', '.pptx']},\n",
       "    'output': {'type': 'json'}},\n",
       "   {'name': 'text-embedder',\n",
       "    'models': [{'name': 'all-MiniLM-L6-v2',\n",
       "      'params': {'quantize': {'type': 'bool', 'default': True}}},\n",
       "     {'name': 'all-mpnet-base-v2',\n",
       "      'params': {'quantize': {'type': 'bool', 'default': True}}},\n",
       "     {'name': 'all-MiniLM-L12-v2',\n",
       "      'params': {'quantize': {'type': 'bool', 'default': True}}},\n",
       "     {'name': 'multi-qa-MiniLM-L6-cos-v1',\n",
       "      'params': {'quantize': {'type': 'bool', 'default': True}}},\n",
       "     {'name': 'msmarco-distilbert-dot-v5',\n",
       "      'params': {'quantize': {'type': 'bool', 'default': True}}}],\n",
       "    'defaults': {'model': 'all-MiniLM-L6-v2', 'params': {'quantize': True}},\n",
       "    'input': {'type': 'json', 'permitted_extensions': ['.json']},\n",
       "    'output': {'type': 'npy'}},\n",
       "   {'name': 'vector-db',\n",
       "    'models': [{'name': 'faiss'}],\n",
       "    'defaults': {'model': 'faiss'},\n",
       "    'input': {'type': 'npy', 'permitted_extensions': ['.npy']},\n",
       "    'output': {'type': 'faiss'}}]}}"
      ]
     },
     "execution_count": 5,
     "metadata": {},
     "output_type": "execute_result"
    }
   ],
   "source": [
    "# create a valid pipeline - here a basic document based semantic search pipeline\n",
    "pipeline = krixik.create_pipeline(\n",
    "    name=\"system-create-save-load-4\",\n",
    "    module_chain=[\"parser\", \"text-embedder\", \"vector-db\"],\n",
    ")\n",
    "\n",
    "# view the pipeline's configuration file\n",
    "pipeline.config"
   ]
  },
  {
   "cell_type": "markdown",
   "metadata": {},
   "source": [
    "## Using the `save_pipeline` method"
   ]
  },
  {
   "cell_type": "markdown",
   "metadata": {},
   "source": [
    "Saving your pipeline in krixik means *saving its configuration*.\n",
    "\n",
    "You can save the configuration of pipeline at any time by using the `save_pipeline` method.  Required input to this method:\n",
    "\n",
    "- `config_path`: a valid local file path\n",
    "\n",
    "Your `config_path` must end with a `.yml` or `.yaml` extension."
   ]
  },
  {
   "cell_type": "code",
   "execution_count": 6,
   "metadata": {},
   "outputs": [],
   "source": [
    "# save a pipeline's configuration to disk - to the data/pipeline_configs directory of the docs repository\n",
    "pipeline.save_pipeline(\n",
    "    config_path=\"../../data/pipeline_configs/save-pipeline-demo.yaml\"\n",
    ")"
   ]
  },
  {
   "cell_type": "markdown",
   "metadata": {},
   "source": [
    "## Using the `load_pipeline` method"
   ]
  },
  {
   "cell_type": "markdown",
   "metadata": {},
   "source": [
    "A pipeline's configuration is its fundamental descriptor in krixik.  \n",
    "\n",
    "Any valid config file can be loaded into krixik, re-instantiating its associated pipeline."
   ]
  },
  {
   "cell_type": "code",
   "execution_count": null,
   "metadata": {},
   "outputs": [],
   "source": [
    "# load a pipeline into memory via its valid configuration file - stored in the data/pipeline_configs directory of the krixik docs repository\n",
    "pipeline = krixik.load_pipeline(\n",
    "    config_path=\"../../data/pipeline_configs/save-pipeline-demo.yaml\"\n",
    ")"
   ]
  }
 ],
 "metadata": {
  "kernelspec": {
   "display_name": "venv",
   "language": "python",
   "name": "python3"
  },
  "language_info": {
   "codemirror_mode": {
    "name": "ipython",
    "version": 3
   },
   "file_extension": ".py",
   "mimetype": "text/x-python",
   "name": "python",
   "nbconvert_exporter": "python",
   "pygments_lexer": "ipython3",
   "version": "3.10.13"
  }
 },
 "nbformat": 4,
 "nbformat_minor": 2
}
