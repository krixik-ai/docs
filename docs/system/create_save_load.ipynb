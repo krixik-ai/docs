{
 "cells": [
  {
   "cell_type": "markdown",
   "metadata": {},
   "source": [
    "## Create, save, and load a pipeline"
   ]
  },
  {
   "cell_type": "markdown",
   "metadata": {},
   "source": [
    "In this document we introduce how to create, save, and load a pipeline from disk.\n",
    "\n",
    "A table of contents for the remainder of this document is shown below.\n",
    "\n",
    "- [using the `create_pipeline` method](#using-the-create-pipeline-method)\n",
    "- [using the `config` method](#using-the-config-method)\n",
    "- [using the `save_pipeline` method](#using-the-save-pipeline-method)\n",
    "- [using the `load_pipeline` method](#using-the-load-pipeline-method)"
   ]
  },
  {
   "cell_type": "code",
   "execution_count": null,
   "metadata": {
    "tags": [
     "remove_cell"
    ]
   },
   "outputs": [],
   "source": [
    "import os\n",
    "import sys\n",
    "import importlib\n",
    "from dotenv import load_dotenv\n",
    "\n",
    "# add path to data\n",
    "sys.path.append('../../')\n",
    "reset = importlib.import_module(\"utilities.reset\")\n",
    "reset_pipeline = reset.reset_pipeline\n",
    "\n",
    "# load secrets from a .env file using python-dotenv\n",
    "load_dotenv()\n",
    "MY_API_KEY = os.getenv('MY_API_KEY')\n",
    "MY_API_URL = os.getenv('MY_API_URL')\n",
    "\n",
    "# import krixik and initialize it with your personal secrets\n",
    "from krixik import krixik\n",
    "krixik.init(api_key = MY_API_KEY, \n",
    "            api_url = MY_API_URL)"
   ]
  },
  {
   "cell_type": "markdown",
   "metadata": {},
   "source": [
    "## Using the `create_pipeline` method"
   ]
  },
  {
   "cell_type": "markdown",
   "metadata": {},
   "source": [
    "`create_pipeline` is used to instantiate a modular pipeline with krixik.  Required input to this method include the following:\n",
    "\n",
    "- `name`: your custom pipeline name (required)\n",
    "- `module_chain`: a list of [module names](modules/overview.md) constituting your desired processing steps\n",
    "\n",
    "Below we setup a simple one module pipeline using the [`parser` module](modules/parser.md).  This is an example of a single module pipeline."
   ]
  },
  {
   "cell_type": "code",
   "execution_count": null,
   "metadata": {},
   "outputs": [],
   "source": [
    "# create a pipeline with a single module\n",
    "pipeline = krixik.create_pipeline(name=\"system-create-save-load-1\",\n",
    "                                  module_chain=[\"parser\"])"
   ]
  },
  {
   "cell_type": "markdown",
   "metadata": {},
   "source": [
    "Make sure you have [initialized your session](system/initialize.md) before executing this code."
   ]
  },
  {
   "cell_type": "markdown",
   "metadata": {},
   "source": [
    "Now we setup a pipeline consisting of three modules: a [`parser`](modules/parser.md), [`text-embedder`](modules/text-embedder.md), and [`vector-db`](modules/vector-db.md).  This `module_chain` constitutes a basic document-based semantic (or vector) search pipeline."
   ]
  },
  {
   "cell_type": "code",
   "execution_count": null,
   "metadata": {},
   "outputs": [],
   "source": [
    "# create a pipeline basic document based semantic search pipeline\n",
    "pipeline = krixik.create_pipeline(name=\"system-create-save-load-2\",\n",
    "                                  module_chain=[\"parser\", \n",
    "                                                \"text-embedder\", \n",
    "                                                \"vector-db\"])"
   ]
  },
  {
   "cell_type": "markdown",
   "metadata": {},
   "source": [
    "An array of multi-module pipeline examples can be found in the [examples section](examples/overview.md) of this documentation."
   ]
  },
  {
   "cell_type": "markdown",
   "metadata": {},
   "source": [
    "Upon execution, the krixik cli performs checks to ensure that these three modules will run properly in the provided sequence.  If they do not, a local exception is thrown with a message about why a module pair cannot be placed in a particular order."
   ]
  },
  {
   "cell_type": "markdown",
   "metadata": {},
   "source": [
    "For example, attempting to build the following two module pipeline consisting of [`parser`](modules/parser.md) and [`caption`](modules/caption.md) modules in sequence will rightly produce failure with local exception.  This is because the `parser` outputs a json file, while `caption` takes in images."
   ]
  },
  {
   "cell_type": "code",
   "execution_count": null,
   "metadata": {
    "tags": [
     "should_fail"
    ]
   },
   "outputs": [],
   "source": [
    "# create a pipeline basic document based semantic search pipeline\n",
    "pipeline = krixik.create_pipeline(name=\"system-create-save-load-3\",\n",
    "                                  module_chain=[\"parser\", \n",
    "                                                \"caption\"])"
   ]
  },
  {
   "cell_type": "markdown",
   "metadata": {},
   "source": [
    "## Using the `config` method"
   ]
  },
  {
   "cell_type": "markdown",
   "metadata": {},
   "source": [
    "View the configuration of a pipeline by using the `.config` method on a pipeline object.  This displays required input for each module, the models available for each module of a pipeline and any parameters of these models.  A pipeline's configuration is its complete \"under the hood\" description."
   ]
  },
  {
   "cell_type": "code",
   "execution_count": null,
   "metadata": {},
   "outputs": [],
   "source": [
    "# create a valid pipeline - here a basic document based semantic search pipeline\n",
    "pipeline = krixik.create_pipeline(name=\"system-create-save-load-4\",\n",
    "                                  module_chain=[\"parser\", \n",
    "                                                \"text-embedder\", \n",
    "                                                \"vector-db\"])\n",
    "\n",
    "# view the pipeline's configuration file\n",
    "pipeline.config"
   ]
  },
  {
   "cell_type": "markdown",
   "metadata": {},
   "source": [
    "## Using the `save_pipeline` method"
   ]
  },
  {
   "cell_type": "markdown",
   "metadata": {},
   "source": [
    "Saving your pipeline in krixik means *saving its configuration*.\n",
    "\n",
    "You can save the configuration of pipeline at any time by using the `save_pipeline` method.  Required input to this method:\n",
    "\n",
    "- `config_path`: a valid local file path\n",
    "\n",
    "Your `config_path` must end with a `.yml` or `.yaml` extension."
   ]
  },
  {
   "cell_type": "code",
   "execution_count": null,
   "metadata": {},
   "outputs": [],
   "source": [
    "# save a pipeline's configuration to disk - to the data/pipeline_configs directory of the docs repository\n",
    "pipeline.save_pipeline(config_path=\"../../data/pipeline_configs/save-pipeline-demo.yaml\")"
   ]
  },
  {
   "cell_type": "markdown",
   "metadata": {},
   "source": [
    "## Using the `load_pipeline` method"
   ]
  },
  {
   "cell_type": "markdown",
   "metadata": {},
   "source": [
    "A pipeline's configuration is its fundamental descriptor in krixik.  \n",
    "\n",
    "Any valid config file can be loaded into krixik, re-instantiating its associated pipeline."
   ]
  },
  {
   "cell_type": "code",
   "execution_count": null,
   "metadata": {},
   "outputs": [],
   "source": [
    "# load a pipeline into memory via its valid configuration file - stored in the data/pipeline_configs directory of the krixik docs repository\n",
    "pipeline = krixik.load_pipeline(config_path=\"../../data/pipeline_configs/save-pipeline-demo.yaml\")"
   ]
  }
 ],
 "metadata": {
  "language_info": {
   "name": "python"
  }
 },
 "nbformat": 4,
 "nbformat_minor": 2
}
