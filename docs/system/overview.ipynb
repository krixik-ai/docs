{
 "cells": [
  {
   "cell_type": "markdown",
   "metadata": {},
   "source": [
    "## Overview of krixik system apis\n",
    "\n",
    "In this Section we illustrate the usage of krixik system apis.  These are apis avaiilable with all pipelines built with krixik."
   ]
  },
  {
   "cell_type": "markdown",
   "metadata": {},
   "source": [
    "A table of contents for this section is shown below.\n",
    "\n",
    "- [initialize your session](system/initialize.md)\n",
    "- [create, save, and load pipelines](system/create_save_load.md)\n",
    "- [the `process` method](systems/process.md)\n",
    "- [the `process_status` method](systems/process_status.md)\n",
    "- [the `fetch_output` method](systems/fetch_output.md)\n",
    "- [the `list` method](systems/list.md)\n",
    "- [the `update` method](systems/update.md)\n",
    "\n",
    "\n",
    "\n",
    "- [the `.delete` method](#the-delete-method)\n",
    "- [the `.show_tree` method](#the-show_tree-method)\n",
    "- [the `.keyword_search` method](#the-keyword_search-method)\n",
    "    [a simple keyword search pipeline](#a-simple-keyword-search-pipeline)\n",
    "    [invoking the `keyword_search`  method](#invoking-the-keyword-search-method)\n",
    "- [the `.semantic_search` method](#the-semantic_search-method)\n",
    "    [a simple semantic search pipeline](#a-simple-semantic-search-pipeline)\n",
    "    [invoking the `semantic_search`  method](#invoking-the-semantic-search-method)"
   ]
  }
 ],
 "metadata": {
  "language_info": {
   "name": "python"
  }
 },
 "nbformat": 4,
 "nbformat_minor": 2
}
