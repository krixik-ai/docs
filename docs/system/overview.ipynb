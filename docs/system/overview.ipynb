{
 "cells": [
  {
   "cell_type": "markdown",
   "metadata": {},
   "source": [
    "## Overview of krixik system apis\n",
    "\n",
    "In this Section we illustrate the usage of krixik system apis.  These are apis avaiilable with all pipelines built with krixik."
   ]
  },
  {
   "cell_type": "markdown",
   "metadata": {},
   "source": [
    "A table of contents for this section is shown below.\n",
    "\n",
    "- [initialize your session](system/initialize.md)\n",
    "- [create, save, and load pipelines](system/create_save_load.md)\n",
    "- [the `process` method](systems/process.md)\n",
    "  \n",
    "- [the `process_status` method](#the-process_status-method)\n",
    "- [the `.fetch_output` method](#the-fetch_output-method)\n",
    "- [the `.list` method](#the-list-method)\n",
    "    - [listing by `file_ids`](#listing-by-file_ids)\n",
    "    - [listing by `file_names`](#listing-by-file_names)\n",
    "    - [listing by `symbolic_directory_paths`](#listing-by-symbolic_directory_paths)\n",
    "    - [listing by `file_tags`](#listing-by-file_tags)\n",
    "    - [listing by `created_at` and `updated_at` bookend times](#listing-by-created_at-and-updated_at-bookend-times)\n",
    "    - [wildcard arguments](#wildcard-arguments)\n",
    "    - [using multiple arguments with `.list`](#using-multiple-arguments-with-list)\n",
    "- [the `.update` method](#the-update-method)\n",
    "- [the `.delete` method](#the-delete-method)\n",
    "- [the `.show_tree` method](#the-show_tree-method)\n",
    "- [the `.keyword_search` method](#the-keyword_search-method)\n",
    "    [a simple keyword search pipeline](#a-simple-keyword-search-pipeline)\n",
    "    [invoking the `keyword_search`  method](#invoking-the-keyword-search-method)\n",
    "- [the `.semantic_search` method](#the-semantic_search-method)\n",
    "    [a simple semantic search pipeline](#a-simple-semantic-search-pipeline)\n",
    "    [invoking the `semantic_search`  method](#invoking-the-semantic-search-method)"
   ]
  }
 ],
 "metadata": {
  "language_info": {
   "name": "python"
  }
 },
 "nbformat": 4,
 "nbformat_minor": 2
}
