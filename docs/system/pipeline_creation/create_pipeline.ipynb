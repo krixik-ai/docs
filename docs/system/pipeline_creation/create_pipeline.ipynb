{
 "cells": [
  {
   "cell_type": "markdown",
   "metadata": {},
   "source": [
    "## Creating a Pipeline"
   ]
  },
  {
   "cell_type": "markdown",
   "metadata": {},
   "source": [
    "### The `.create_pipeline` Method\n",
    "\n",
    "The `.create_pipeline` method instantiates new pipelines. It's a very simple method that takes two arguments, both required:\n",
    "\n",
    "- `name` (str): The name of your new pipeline. Set it wisely: pipeline names are their key identifiers, and no two pipelines can share the same name.\n",
    "- `module_chain` (list): The sequential list of modules that your new pipeline is comprised of.\n",
    "\n",
    "[Click here](../../modules/modules_overview.md) to see the current list of available Krixik modules. Remember that as long as outputs and inputs match any combination of modules is fair game, including those with module repetition.\n",
    "\n",
    "### A Single-Module Pipeline\n",
    "\n",
    "Let's use the `.create_pipeline` method to create a single-module pipeline. We'll use the [`parser module`](../../modules/ai_model_modules/parser_module.md), which divides input text files into shorter snippets."
   ]
  },
  {
   "cell_type": "code",
   "execution_count": null,
   "metadata": {},
   "outputs": [],
   "source": [
    "# create a pipeline with a single parser module\n",
    "\n",
    "pipeline_1 = krixik.create_pipeline(name=\"create_pipeline_1_parser\",\n",
    "                                    module_chain=[\"parser\"])"
   ]
  },
  {
   "cell_type": "markdown",
   "metadata": {},
   "source": [
    "Make sure that you have [initialized your session](../initialization/initialize_and_authenticate.md) before executing this code.\n",
    "\n",
    "Note that the `name` argument can be whatever string you want it to be. However, the `module_chain` list can only be comprised of established [module identifiers](../17-convenience_methods#view-all-available-modules-with-the-available_modules-property)."
   ]
  },
  {
   "cell_type": "markdown",
   "metadata": {},
   "source": [
    "### A Multi-Module Pipeline\n",
    "\n",
    "Now let's set up a pipeline sequentially consisting of three modules: a [`parser module`](../../modules/ai_model_modules/parser_module.md), a [`text-embedder module`](../../modules/modules/ai_model_modules/text-embedder_module.md), and a [`vector-db module`](../modules/database_modules/vector-db_module.md).  This popular `module_chain` arises often: it's the basic document-based semantic (a.k.a. vector) search [pipeline](../../examples/search_pipeline_examples/multi_basic_semantic_search.md).\n",
    "\n",
    "As you can see, pipeline setup syntax is the same as above. The order of the modules in `module_chain` is the the order they'll process pipeline input in:"
   ]
  },
  {
   "cell_type": "code",
   "execution_count": 3,
   "metadata": {},
   "outputs": [],
   "source": [
    "# create a basic semantic search multi-module pipeline\n",
    "\n",
    "pipeline_2 = krixik.create_pipeline(name=\"create_pipeline_2_parser_embedder_vector\",\n",
    "                                    module_chain=[\"parser\", \"text-embedder\", \"vector-db\"])"
   ]
  },
  {
   "cell_type": "markdown",
   "metadata": {},
   "source": [
    "An array of multi-module pipeline examples can be [found here](../../examples/pipeline_examples_overview.md)."
   ]
  },
  {
   "cell_type": "markdown",
   "metadata": {},
   "source": [
    "### Module Sequence Validation\n",
    "\n",
    "Upon `.create_pipeline` execution the Krixik CLI confirms that the modules indicated will run properly in the provided sequence. If they cannot—which is generally a consequence of one module's output not matching the next module's input—an explanatory local exception is thrown.\n",
    "\n",
    "For example, attempting to build a two-module pipeline that sequentially consists of a [`parser module`](../../modules/ai_model_modules/parser_module.md) and a [`caption module`](../../modules/ai_model_modules/caption_module.md) modules will rightly fail and produce a local exception.  This is because the [`parser module`](../../modules/ai_model_modules/parser_module.md) outputs a JSON file, while the [`caption module`](../../modules/ai_model_modules/caption_module.md) accepts only image input, as the error message below indicates:"
   ]
  },
  {
   "cell_type": "code",
   "execution_count": 5,
   "metadata": {
    "tags": [
     "raises-exception"
    ]
   },
   "outputs": [
    {
     "ename": "TypeError",
     "evalue": "format type mismatch between parser - whose output format is json - and caption - whose input format is image",
     "output_type": "error",
     "traceback": [
      "\u001b[1;31m---------------------------------------------------------------------------\u001b[0m",
      "\u001b[1;31mTypeError\u001b[0m                                 Traceback (most recent call last)",
      "Cell \u001b[1;32mIn[5], line 3\u001b[0m\n\u001b[0;32m      1\u001b[0m \u001b[38;5;66;03m# attempt to create a pipeline sequentially comprised of a parser and a caption module\u001b[39;00m\n\u001b[1;32m----> 3\u001b[0m pipeline_3 \u001b[38;5;241m=\u001b[39m \u001b[43mkrixik\u001b[49m\u001b[38;5;241;43m.\u001b[39;49m\u001b[43mcreate_pipeline\u001b[49m\u001b[43m(\u001b[49m\u001b[43mname\u001b[49m\u001b[38;5;241;43m=\u001b[39;49m\u001b[38;5;124;43m\"\u001b[39;49m\u001b[38;5;124;43mcreate_pipeline_3_parser_caption\u001b[39;49m\u001b[38;5;124;43m\"\u001b[39;49m\u001b[43m,\u001b[49m\n\u001b[0;32m      4\u001b[0m \u001b[43m                                    \u001b[49m\u001b[43mmodule_chain\u001b[49m\u001b[38;5;241;43m=\u001b[39;49m\u001b[43m[\u001b[49m\u001b[38;5;124;43m\"\u001b[39;49m\u001b[38;5;124;43mparser\u001b[39;49m\u001b[38;5;124;43m\"\u001b[39;49m\u001b[43m,\u001b[49m\u001b[43m \u001b[49m\u001b[38;5;124;43m\"\u001b[39;49m\u001b[38;5;124;43mcaption\u001b[39;49m\u001b[38;5;124;43m\"\u001b[39;49m\u001b[43m]\u001b[49m\u001b[43m)\u001b[49m\n",
      "File \u001b[1;32mc:\\Users\\Lucas\\Desktop\\Krixik Documentation 1\\Version One\\System\\krixik\\main.py:72\u001b[0m, in \u001b[0;36mkrixik.create_pipeline\u001b[1;34m(cls, name, module_chain)\u001b[0m\n\u001b[0;32m     70\u001b[0m         \u001b[38;5;28;01mraise\u001b[39;00m \u001b[38;5;167;01mValueError\u001b[39;00m(\u001b[38;5;124mf\u001b[39m\u001b[38;5;124m\"\u001b[39m\u001b[38;5;124mmodule_chain item - \u001b[39m\u001b[38;5;132;01m{\u001b[39;00mitem\u001b[38;5;132;01m}\u001b[39;00m\u001b[38;5;124m - is not a currently one of the currently available modules -\u001b[39m\u001b[38;5;132;01m{\u001b[39;00mavailable_modules\u001b[38;5;132;01m}\u001b[39;00m\u001b[38;5;124m\"\u001b[39m)\n\u001b[0;32m     71\u001b[0m module_chain_ \u001b[38;5;241m=\u001b[39m [Module(m_name) \u001b[38;5;28;01mfor\u001b[39;00m m_name \u001b[38;5;129;01min\u001b[39;00m module_chain]\n\u001b[1;32m---> 72\u001b[0m custom \u001b[38;5;241m=\u001b[39m \u001b[43mCreatePipeline\u001b[49m\u001b[43m(\u001b[49m\u001b[43mname\u001b[49m\u001b[38;5;241;43m=\u001b[39;49m\u001b[43mname\u001b[49m\u001b[43m,\u001b[49m\n\u001b[0;32m     73\u001b[0m \u001b[43m                        \u001b[49m\u001b[43mmodule_chain\u001b[49m\u001b[38;5;241;43m=\u001b[39;49m\u001b[43mmodule_chain_\u001b[49m\u001b[43m)\u001b[49m\n\u001b[0;32m     74\u001b[0m \u001b[38;5;28;01mreturn\u001b[39;00m \u001b[38;5;28mcls\u001b[39m\u001b[38;5;241m.\u001b[39mload_pipeline(pipeline\u001b[38;5;241m=\u001b[39mcustom)\n",
      "File \u001b[1;32mc:\\Users\\Lucas\\Desktop\\Krixik Documentation 1\\Version One\\System\\krixik\\pipeline_builder\\pipeline.py:58\u001b[0m, in \u001b[0;36mCreatePipeline.__init__\u001b[1;34m(self, name, module_chain, config_path)\u001b[0m\n\u001b[0;32m     56\u001b[0m chain_check(module_chain)\n\u001b[0;32m     57\u001b[0m \u001b[38;5;28;01mfor\u001b[39;00m module \u001b[38;5;129;01min\u001b[39;00m module_chain:\n\u001b[1;32m---> 58\u001b[0m     \u001b[38;5;28;43mself\u001b[39;49m\u001b[38;5;241;43m.\u001b[39;49m\u001b[43madd\u001b[49m\u001b[43m(\u001b[49m\u001b[43mmodule\u001b[49m\u001b[43m)\u001b[49m\n\u001b[0;32m     59\u001b[0m \u001b[38;5;28mself\u001b[39m\u001b[38;5;241m.\u001b[39mtest_connections()\n",
      "File \u001b[1;32mc:\\Users\\Lucas\\Desktop\\Krixik Documentation 1\\Version One\\System\\krixik\\pipeline_builder\\pipeline.py:85\u001b[0m, in \u001b[0;36mCreatePipeline.add\u001b[1;34m(self, module, insert_index)\u001b[0m\n\u001b[0;32m     82\u001b[0m \u001b[38;5;28mself\u001b[39m\u001b[38;5;241m.\u001b[39m__module_chain_configs\u001b[38;5;241m.\u001b[39mappend(module\u001b[38;5;241m.\u001b[39mconfig)\n\u001b[0;32m     83\u001b[0m \u001b[38;5;28mself\u001b[39m\u001b[38;5;241m.\u001b[39m__module_chain_output_process_keys\u001b[38;5;241m.\u001b[39mappend(module\u001b[38;5;241m.\u001b[39moutput_process_key)\n\u001b[1;32m---> 85\u001b[0m \u001b[38;5;28;43mself\u001b[39;49m\u001b[38;5;241;43m.\u001b[39;49m\u001b[43mtest_connections\u001b[49m\u001b[43m(\u001b[49m\u001b[43m)\u001b[49m\n",
      "File \u001b[1;32mc:\\Users\\Lucas\\Desktop\\Krixik Documentation 1\\Version One\\System\\krixik\\pipeline_builder\\pipeline.py:154\u001b[0m, in \u001b[0;36mCreatePipeline.test_connections\u001b[1;34m(self)\u001b[0m\n\u001b[0;32m    152\u001b[0m \u001b[38;5;66;03m# check format compatibility\u001b[39;00m\n\u001b[0;32m    153\u001b[0m \u001b[38;5;28;01mif\u001b[39;00m prev_module_output_format \u001b[38;5;241m!=\u001b[39m curr_module_input_format:\n\u001b[1;32m--> 154\u001b[0m     \u001b[38;5;28;01mraise\u001b[39;00m \u001b[38;5;167;01mTypeError\u001b[39;00m(\n\u001b[0;32m    155\u001b[0m         \u001b[38;5;124mf\u001b[39m\u001b[38;5;124m\"\u001b[39m\u001b[38;5;124mformat type mismatch between \u001b[39m\u001b[38;5;132;01m{\u001b[39;00mprev_module\u001b[38;5;241m.\u001b[39mname\u001b[38;5;132;01m}\u001b[39;00m\u001b[38;5;124m - whose output format is \u001b[39m\u001b[38;5;132;01m{\u001b[39;00mprev_module_output_format\u001b[38;5;132;01m}\u001b[39;00m\u001b[38;5;124m - and \u001b[39m\u001b[38;5;132;01m{\u001b[39;00mcurr_module\u001b[38;5;241m.\u001b[39mname\u001b[38;5;132;01m}\u001b[39;00m\u001b[38;5;124m - whose input format is \u001b[39m\u001b[38;5;132;01m{\u001b[39;00mcurr_module_input_format\u001b[38;5;132;01m}\u001b[39;00m\u001b[38;5;124m\"\u001b[39m\n\u001b[0;32m    156\u001b[0m     )\n\u001b[0;32m    158\u001b[0m \u001b[38;5;66;03m# check process key type compatibility\u001b[39;00m\n\u001b[0;32m    159\u001b[0m \u001b[38;5;28;01mif\u001b[39;00m (\n\u001b[0;32m    160\u001b[0m     prev_module_output_process_key_type\n\u001b[0;32m    161\u001b[0m     \u001b[38;5;241m!=\u001b[39m curr_module_input_process_key_type\n\u001b[0;32m    162\u001b[0m ):\n",
      "\u001b[1;31mTypeError\u001b[0m: format type mismatch between parser - whose output format is json - and caption - whose input format is image"
     ]
    }
   ],
   "source": [
    "# attempt to create a pipeline sequentially comprised of a parser and a caption module\n",
    "\n",
    "pipeline_3 = krixik.create_pipeline(name=\"create_pipeline_3_parser_caption\",\n",
    "                                    module_chain=[\"parser\", \"caption\"])"
   ]
  },
  {
   "cell_type": "markdown",
   "metadata": {},
   "source": [
    "### Pipeline Name Repetition\n",
    "\n",
    "Krixik will not allow you to create a pipeline with the name of a pipeline you have already created. The only exception is if the new pipeline has a module chain identical to the old one.\n",
    "\n",
    "For instance, with the following code you'll create another pipeline with the name \"create_pipeline_1_parser\", a name you used to create a pipeline earlier in this document. Since the module chain you're using is the same one as above, no issue will arise:"
   ]
  },
  {
   "cell_type": "code",
   "execution_count": null,
   "metadata": {},
   "outputs": [],
   "source": [
    "# valid creation of a pipeline with a pre-existing name\n",
    "\n",
    "pipeline_4 = krixik.create_pipeline(name=\"create_pipeline_1_parser\",\n",
    "                                    module_chain=[\"parser\"])"
   ]
  },
  {
   "cell_type": "markdown",
   "metadata": {},
   "source": [
    "Now suppose you want to use the same pipeline name, but this time adding a [`summarize module`](../../modules/ai_model_modules/summarize_module.md) to the [`parser module`](../../modules/ai_model_modules/parser_module.md). Since the `module_chain` has changed, Krixik will not allow you to use the same name as above, and pipeline creation will fail:"
   ]
  },
  {
   "cell_type": "code",
   "execution_count": null,
   "metadata": {
    "tags": [
     "raises-exception"
    ]
   },
   "outputs": [],
   "source": [
    "# invalid creation of a pipeline with a pre-existing name\n",
    "\n",
    "pipeline_5 = krixik.create_pipeline(name=\"create_pipeline_1_parser\",\n",
    "                                    module_chain=[\"parser\", \"summarize\"])"
   ]
  },
  {
   "cell_type": "markdown",
   "metadata": {},
   "source": [
    "Note that the name itself does not matter; instead of the string \"create_pipeline_1_parser\", you could have used the string \"apples are red\" for a name, and the outcome would have been the same."
   ]
  }
 ],
 "metadata": {
  "kernelspec": {
   "display_name": "venv",
   "language": "python",
   "name": "python3"
  },
  "language_info": {
   "codemirror_mode": {
    "name": "ipython",
    "version": 3
   },
   "file_extension": ".py",
   "mimetype": "text/x-python",
   "name": "python",
   "nbconvert_exporter": "python",
   "pygments_lexer": "ipython3",
   "version": "3.12.0"
  }
 },
 "nbformat": 4,
 "nbformat_minor": 2
}
