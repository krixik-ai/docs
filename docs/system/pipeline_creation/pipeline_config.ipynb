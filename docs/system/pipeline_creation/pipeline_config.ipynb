{
 "cells": [
  {
   "cell_type": "markdown",
   "metadata": {},
   "source": [
    "## Pipeline `.config`\n",
    "\n",
    "The `.config` method allows you to view a pipeline's configuration. For each module in the pipeline it displays acceptable input formats, output formats, models available, and any parameters of the available models.  In other words, a pipeline's configuration is its complete \"under the hood\" description.\n",
    "\n",
    "Using the `.config` method is very simple. First let's create a pipeline to try it on:"
   ]
  },
  {
   "cell_type": "code",
   "execution_count": 1,
   "metadata": {
    "tags": [
     "remove_cell"
    ]
   },
   "outputs": [
    {
     "name": "stdout",
     "output_type": "stream",
     "text": [
      "SUCCESS: You are now authenticated.\n"
     ]
    }
   ],
   "source": [
    "# import utilities\n",
    "import sys \n",
    "import json\n",
    "import importlib\n",
    "sys.path.append('../../../')\n",
    "reset = importlib.import_module(\"utilities.reset\")\n",
    "reset_pipeline = reset.reset_pipeline\n",
    "\n",
    "# load secrets from a .env file using python-dotenv\n",
    "from dotenv import load_dotenv\n",
    "import os\n",
    "load_dotenv(\"../../../.env\")\n",
    "MY_API_KEY = os.getenv('MY_API_KEY')\n",
    "MY_API_URL = os.getenv('MY_API_URL')\n",
    "\n",
    "# import krixik and initialize it with your personal secrets\n",
    "from krixik import krixik\n",
    "krixik.init(api_key = MY_API_KEY, \n",
    "            api_url = MY_API_URL)"
   ]
  },
  {
   "cell_type": "code",
   "execution_count": 2,
   "metadata": {},
   "outputs": [],
   "source": [
    "# first create a valid pipeline\n",
    "pipeline = krixik.create_pipeline(name=\"pipeline_config_1_parser_translate_sentiment\",\n",
    "                                  module_chain=[\"translate\", \"sentiment\"])"
   ]
  },
  {
   "cell_type": "markdown",
   "metadata": {},
   "source": [
    "Now let's view this pipeline's configuration with the `.config` method:"
   ]
  },
  {
   "cell_type": "code",
   "execution_count": 3,
   "metadata": {},
   "outputs": [
    {
     "data": {
      "text/plain": [
       "{'pipeline': {'name': 'pipeline_config_1_parser_translate_sentiment',\n",
       "  'modules': [{'name': 'translate',\n",
       "    'models': [{'name': 'opus-mt-de-en'},\n",
       "     {'name': 'opus-mt-en-es'},\n",
       "     {'name': 'opus-mt-es-en'},\n",
       "     {'name': 'opus-mt-en-fr'},\n",
       "     {'name': 'opus-mt-fr-en'},\n",
       "     {'name': 'opus-mt-it-en'},\n",
       "     {'name': 'opus-mt-zh-en'}],\n",
       "    'defaults': {'model': 'opus-mt-en-es'},\n",
       "    'input': {'type': 'json', 'permitted_extensions': ['.json']},\n",
       "    'output': {'type': 'json'}},\n",
       "   {'name': 'sentiment',\n",
       "    'models': [{'name': 'distilbert-base-uncased-finetuned-sst-2-english'},\n",
       "     {'name': 'bert-base-multilingual-uncased-sentiment'},\n",
       "     {'name': 'distilbert-base-multilingual-cased-sentiments-student'},\n",
       "     {'name': 'distilroberta-finetuned-financial-news-sentiment-analysis'}],\n",
       "    'defaults': {'model': 'distilbert-base-uncased-finetuned-sst-2-english'},\n",
       "    'input': {'type': 'json', 'permitted_extensions': ['.json']},\n",
       "    'output': {'type': 'json'}}]}}"
      ]
     },
     "execution_count": 3,
     "metadata": {},
     "output_type": "execute_result"
    }
   ],
   "source": [
    "# view the pipeline's configuration file\n",
    "pipeline.config"
   ]
  },
  {
   "cell_type": "markdown",
   "metadata": {},
   "source": [
    "As you can see, the `.config` method has provided all relevant details for this pipeline's modules, which are a [`translate module`](../../modules/ai_modules/translate_module.md) and a [`sentiment module`](../../modules/ai_modules/sentiment_module.md). A blueprint of sorts has been displayed."
   ]
  },
  {
   "cell_type": "code",
   "execution_count": null,
   "metadata": {
    "tags": [
     "remove_cell"
    ]
   },
   "outputs": [],
   "source": [
    "# delete all processed datapoints belonging to this pipeline\n",
    "reset_pipeline(pipeline)"
   ]
  }
 ],
 "metadata": {
  "kernelspec": {
   "display_name": "venv",
   "language": "python",
   "name": "python3"
  },
  "language_info": {
   "codemirror_mode": {
    "name": "ipython",
    "version": 3
   },
   "file_extension": ".py",
   "mimetype": "text/x-python",
   "name": "python",
   "nbconvert_exporter": "python",
   "pygments_lexer": "ipython3",
   "version": "3.12.0"
  }
 },
 "nbformat": 4,
 "nbformat_minor": 2
}
