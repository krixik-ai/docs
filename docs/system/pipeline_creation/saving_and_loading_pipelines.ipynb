{
 "cells": [
  {
   "cell_type": "markdown",
   "metadata": {},
   "source": [
    "## Saving and Loading Pipelines"
   ]
  },
  {
   "cell_type": "markdown",
   "metadata": {},
   "source": [
    "### The `.save_pipeline` Method"
   ]
  },
  {
   "cell_type": "markdown",
   "metadata": {},
   "source": [
    "Saving your pipeline in Krixik means *saving its [configuration](../pipeline_creation/pipeline_config.md)* to disk.\n",
    "\n",
    "You can save the [configuration](../pipeline_creation/pipeline_config.md) of a pipeline by using the `.save_pipeline` method. This method takes one (required) argument:\n",
    "\n",
    "- `config_path`: A valid local file path.\n",
    "\n",
    "`config_path` must end with a `.yml` or `.yaml` extension. This is currently the only file format that Krixik saves pipelines into.\n",
    "\n",
    "To demonstrate how it works, first you'll need to create a pipeline with the [`.create_pipeline`](../pipeline_creation/create_pipeline.md) method:"
   ]
  },
  {
   "cell_type": "code",
   "execution_count": null,
   "metadata": {},
   "outputs": [],
   "source": [
    "# first create a pipeline\n",
    "\n",
    "pipeline_1 = krixik.create_pipeline(name='saving_and_loading_pipelines_1_summarize_summarize_keyword-db',\n",
    "                                    module_chain=['summarize', 'summarize', 'keyword-db'])"
   ]
  },
  {
   "cell_type": "markdown",
   "metadata": {},
   "source": [
    "Now that you have a pipeline you can use the `.save_pipeline` method to save that pipeline to disk:"
   ]
  },
  {
   "cell_type": "code",
   "execution_count": 6,
   "metadata": {},
   "outputs": [],
   "source": [
    "# save a pipeline's configuration to disk - example file path provided\n",
    "\n",
    "pipeline_1.save_pipeline(config_path=\"../data/pipeline_configs/save-pipeline-demo.yaml\")"
   ]
  },
  {
   "cell_type": "markdown",
   "metadata": {},
   "source": [
    "For your convenience, if a file by the given filename does not exist at the given location, Krixik will locally create the file and then save your pipeline\n",
    " into it."
   ]
  },
  {
   "cell_type": "markdown",
   "metadata": {},
   "source": [
    "### The `.load_pipeline` Method"
   ]
  },
  {
   "cell_type": "markdown",
   "metadata": {},
   "source": [
    "Given that a pipeline's [configuration](../pipeline_creation/pipeline_config.md) is its fundamental descriptor, any valid config file can be loaded into Krixik, thus reinstantiating its associated pipeline.\n",
    "\n",
    "The `.load_pipeline` method takes a single (required) argument:\n",
    "\n",
    "- `config_path`: A valid local file path.\n",
    "\n",
    "For the `.load_pipeline` method to work, the file indicated by `config_path` must (a) exist, (b) have a `.yaml` or `.yml` extension, and (c) hold a properly formatted Krixik pipeline [configuration](../pipeline_creation/pipeline_config.md). If one of these is not true, the method will fail. If you've earlier [saved](#the-save_pipeline-method) a Krixik pipeline to that destination with that file name, it should work just fine. \n",
    "\n",
    "Using the `.load_pipeline` method looks like this:"
   ]
  },
  {
   "cell_type": "code",
   "execution_count": null,
   "metadata": {},
   "outputs": [],
   "source": [
    "# load a pipeline into memory via its valid configuration file\n",
    "\n",
    "my_pipeline_2 = krixik.load_pipeline(config_path=\"../data/pipeline_configs/save-pipeline-demo.yaml\")"
   ]
  },
  {
   "cell_type": "markdown",
   "metadata": {},
   "source": [
    "Note that you don't need to have previously dealt with the saved pipeline yourself. For instance, a colleague may have shared a pipeline [configuration](../system/pipeline_creation/pipeline_config.md) file with you, or you may have written the file from scratch. As long as the config is properly formatted, the `.load_pipeline` method will work as it should."
   ]
  },
  {
   "cell_type": "markdown",
   "metadata": {},
   "source": [
    "### The `reset_pipeline` Function"
   ]
  },
  {
   "cell_type": "markdown",
   "metadata": {},
   "source": [
    "The `.load_pipeline` method discussed above reinstantiates a previously existing pipeline with the same `name` and `module_chain`. Since files processed through a pipeline are attached to the pipeline's `name`, those files would continue to be attached to this newly instantiated pipeline.\n",
    "\n",
    "If you wish to recreate a pipeline but seek to do so with a blank slate, the easiest way to do it is with the `reset_pipeline` function, which deletes all processed datapoints attached to that pipeline (i.e. anything relating to any files previously processed through it).\n",
    "\n",
    "The `reset_pipeline` function takes one argument (required):\n",
    "\n",
    "- `pipeline`: The Python variable that the pipeline object is currently saved to.\n",
    "\n",
    "Note that this is _not_ the `name` of the pipeline. For instance, if you wished to reset the pipeline in the `.load_pipeline` method example code immediately above, the `pipeline` argument for the `reset_pipeline` function would be set to `my_pipeline_2`, as follows:"
   ]
  },
  {
   "cell_type": "code",
   "execution_count": null,
   "metadata": {},
   "outputs": [],
   "source": [
    "# delete all processed datapoints belonging to this pipeline\n",
    "\n",
    "reset_pipeline(my_pipeline_2)"
   ]
  },
  {
   "cell_type": "markdown",
   "metadata": {},
   "source": [
    "In other words, the `pipeline` argument to the `reset_pipeline` function is a Python variable that a pipeline object has been assigned to, and `reset_pipeline` will delete any datapoints associated with that pipeline object's `name` on the Krixik system."
   ]
  }
 ],
 "metadata": {
  "kernelspec": {
   "display_name": "venv",
   "language": "python",
   "name": "python3"
  },
  "language_info": {
   "codemirror_mode": {
    "name": "ipython",
    "version": 3
   },
   "file_extension": ".py",
   "mimetype": "text/x-python",
   "name": "python",
   "nbconvert_exporter": "python",
   "pygments_lexer": "ipython3",
   "version": "3.12.0"
  }
 },
 "nbformat": 4,
 "nbformat_minor": 2
}
