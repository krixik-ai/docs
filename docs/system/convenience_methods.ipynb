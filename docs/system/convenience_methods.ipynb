{
 "cells": [
  {
   "cell_type": "markdown",
   "metadata": {},
   "source": [
    "## Convenience methods"
   ]
  },
  {
   "cell_type": "markdown",
   "metadata": {},
   "source": [
    "In this section we introduce useful properties of the main krixik object and of pipelines.  These range from useful metadata to convenience functions for input testing.  These properties can be viewed *without* [initializing a session](system/initialize.md).\n",
    "\n",
    "A table of contents for the remainder of this document is shown below.\n",
    "\n",
    "- [viewing available modules locally](#viewing-available-modules-locally)\n",
    "- [examine a module configuration](#examine-a-module-configuration)\n",
    "- [viewing a pipeline module chain](#viewing-a-pipeline-module-chain)\n",
    "- [testing pipeline input flow](#testing-pipeline-input-flow)\n",
    "- [viewing example module input](#viewing-example-module-input)\n",
    "- [viewing module click data](#viewing-module-click-data)"
   ]
  },
  {
   "cell_type": "code",
   "execution_count": 1,
   "metadata": {
    "tags": [
     "remove_cell"
    ]
   },
   "outputs": [
    {
     "name": "stdout",
     "output_type": "stream",
     "text": [
      "SUCCESS: You are now authenticated.\n"
     ]
    }
   ],
   "source": [
    "# import utilities\n",
    "import sys \n",
    "sys.path.append('../../')\n",
    "\n",
    "# load secrets from a .env file using python-dotenv\n",
    "from dotenv import load_dotenv\n",
    "import os\n",
    "load_dotenv(\"../../.env\")\n",
    "MY_API_KEY = os.getenv('MY_API_KEY')\n",
    "MY_API_URL = os.getenv('MY_API_URL')\n",
    "\n",
    "# import krixik and initialize it with your personal secrets\n",
    "from krixik import krixik\n",
    "krixik.init(api_key = MY_API_KEY, \n",
    "            api_url = MY_API_URL)"
   ]
  },
  {
   "cell_type": "markdown",
   "metadata": {},
   "source": [
    "### Viewing available modules locally"
   ]
  },
  {
   "cell_type": "markdown",
   "metadata": {},
   "source": [
    "To view all available modules locally use the `available_modules` method.  This can be used without first [initializing](system/initialize.md)."
   ]
  },
  {
   "cell_type": "code",
   "execution_count": 2,
   "metadata": {},
   "outputs": [
    {
     "data": {
      "text/plain": [
       "['caption',\n",
       " 'json-to-txt',\n",
       " 'keyword-db',\n",
       " 'ocr',\n",
       " 'parser',\n",
       " 'sentiment',\n",
       " 'summarize',\n",
       " 'text-embedder',\n",
       " 'transcribe',\n",
       " 'translate',\n",
       " 'vector-db']"
      ]
     },
     "execution_count": 2,
     "metadata": {},
     "output_type": "execute_result"
    }
   ],
   "source": [
    "# see all currently available modules\n",
    "krixik.available_modules"
   ]
  },
  {
   "cell_type": "markdown",
   "metadata": {},
   "source": [
    "### Examine a module configuration"
   ]
  },
  {
   "cell_type": "markdown",
   "metadata": {},
   "source": [
    "A module's configuration can be viewed using the krixik `module_details` method as illustrated below."
   ]
  },
  {
   "cell_type": "code",
   "execution_count": 3,
   "metadata": {},
   "outputs": [
    {
     "data": {
      "text/plain": [
       "{'module_config': {'module': {'name': 'transcribe',\n",
       "   'models': [{'name': 'whisper-tiny'},\n",
       "    {'name': 'whisper-base'},\n",
       "    {'name': 'whisper-small'},\n",
       "    {'name': 'whisper-medium'},\n",
       "    {'name': 'whisper-large-v3'}],\n",
       "   'input': {'type': 'audio'},\n",
       "   'output': {'type': 'json'},\n",
       "   'defaults': {'model': 'whisper-tiny'}}},\n",
       " 'input_data_example': None,\n",
       " 'output_data_example': {'transcript': 'This is the full transcript.',\n",
       "  'segments': [{'id': 1,\n",
       "    'seek': 0,\n",
       "    'start': 0.0,\n",
       "    'end': 10.0,\n",
       "    'text': 'This is the',\n",
       "    'tokens': [20, 34],\n",
       "    'temperature': 0.0,\n",
       "    'avg_logprob': 0.0,\n",
       "    'compression_ratio': 0.0,\n",
       "    'no_speech_prob': 0.0,\n",
       "    'confidence': 0.0,\n",
       "    'words': [{'text': 'This', 'start': 0.0, 'end': 1.0, 'confidence': 0.5},\n",
       "     {'text': 'is the', 'start': 1.0, 'end': 2.0, 'confidence': 0.6}]},\n",
       "   {'id': 2,\n",
       "    'seek': 10,\n",
       "    'start': 10.0,\n",
       "    'end': 20.0,\n",
       "    'text': 'main text',\n",
       "    'tokens': [44, 101],\n",
       "    'temperature': 0.0,\n",
       "    'avg_logprob': 0.0,\n",
       "    'compression_ratio': 0.0,\n",
       "    'no_speech_prob': 0.0,\n",
       "    'confidence': 0.0,\n",
       "    'words': [{'text': 'main', 'start': 10.0, 'end': 11.0, 'confidence': 0.7},\n",
       "     {'text': 'text', 'start': 11.0, 'end': 12.0, 'confidence': 0.8}]}],\n",
       "  'language': 'English'}}"
      ]
     },
     "execution_count": 3,
     "metadata": {},
     "output_type": "execute_result"
    }
   ],
   "source": [
    "# view the configuration of an input module\n",
    "krixik.view_module_config(module_name=\"transcribe\")"
   ]
  },
  {
   "cell_type": "markdown",
   "metadata": {},
   "source": [
    "### Viewing a pipeline module chain"
   ]
  },
  {
   "cell_type": "markdown",
   "metadata": {},
   "source": [
    "Suppose we create a multi-module pipeline like the one below - which is discussed in further detail [in this example](examples/transcribe/transcribe-multilingual-semantic.md)."
   ]
  },
  {
   "cell_type": "code",
   "execution_count": 4,
   "metadata": {},
   "outputs": [],
   "source": [
    "# create a multi-module pipeline\n",
    "pipeline = krixik.create_pipeline(name=\"system-transcribe-semantic-multilingual-docs\",\n",
    "                                  module_chain=[\"transcribe\",\n",
    "                                                \"translate\",\n",
    "                                                \"json-to-txt\",\n",
    "                                                \"parser\",\n",
    "                                                \"text-embedder\",\n",
    "                                                \"vector-db\"])"
   ]
  },
  {
   "cell_type": "markdown",
   "metadata": {},
   "source": [
    "To view the module chain of this or any pipeline, use the `module_chain` property."
   ]
  },
  {
   "cell_type": "code",
   "execution_count": 5,
   "metadata": {},
   "outputs": [
    {
     "data": {
      "text/plain": [
       "['transcribe',\n",
       " 'translate',\n",
       " 'json-to-txt',\n",
       " 'parser',\n",
       " 'text-embedder',\n",
       " 'vector-db']"
      ]
     },
     "execution_count": 5,
     "metadata": {},
     "output_type": "execute_result"
    }
   ],
   "source": [
    "# view the module chain of your pipeline using the .module_chain property\n",
    "pipeline.module_chain"
   ]
  },
  {
   "cell_type": "markdown",
   "metadata": {},
   "source": [
    "### Testing pipeline input flow"
   ]
  },
  {
   "cell_type": "markdown",
   "metadata": {},
   "source": [
    "You can test whether inputs to your pipeline will flow properly through it by using your pipeline's `test_input` method. \n",
    "\n",
    "We illustrate this below with both a valid and invalid file for the [pipeline above](#viewing-a-pipeline-module-chain). \n",
    "\n",
    "This test does not execute your pipeline.  It makes sure your input file is consumable by the first module of your pipeline."
   ]
  },
  {
   "cell_type": "code",
   "execution_count": 7,
   "metadata": {},
   "outputs": [
    {
     "name": "stdout",
     "output_type": "stream",
     "text": [
      "SUCCESS: local file ../../data/input/Interesting Facts About Colombia.mp4 passed pipeline input test passed\n"
     ]
    }
   ],
   "source": [
    "# define path to an input file from examples directory\n",
    "test_file = \"../../data/input/Interesting Facts About Colombia.mp4\"\n",
    "\n",
    "# use .test_input to ensure the pipeline is working as expected on test files\n",
    "pipeline.test_input(local_file_path=test_file)"
   ]
  },
  {
   "cell_type": "markdown",
   "metadata": {},
   "source": [
    "If you test an input in your pipeline that will not flow correctly you will receive an error like the one below.  Here we test whether or not a text file can be used as input to a pipeline that begins with a [transcribe module](modules/transcribe.md).  It cannot, so we get an error."
   ]
  },
  {
   "cell_type": "code",
   "execution_count": 8,
   "metadata": {
    "tags": [
     "raises-exception"
    ]
   },
   "outputs": [
    {
     "ename": "Exception",
     "evalue": "file extension .txt does not match the expected input format audio",
     "output_type": "error",
     "traceback": [
      "\u001b[0;31m---------------------------------------------------------------------------\u001b[0m",
      "\u001b[0;31mTypeError\u001b[0m                                 Traceback (most recent call last)",
      "File \u001b[0;32m~/Desktop/krixik/code/krixik-docs/docs/system/../../krixik/utilities/validators/data/utilities/decorators.py:46\u001b[0m, in \u001b[0;36mdatatype_validator.<locals>.wrapper\u001b[0;34m(*args, **kwargs)\u001b[0m\n\u001b[1;32m     45\u001b[0m             \u001b[38;5;28;01mraise\u001b[39;00m \u001b[38;5;167;01mValueError\u001b[39;00m(\u001b[38;5;124mf\u001b[39m\u001b[38;5;124m\"\u001b[39m\u001b[38;5;124minvalid file extension: \u001b[39m\u001b[38;5;132;01m{\u001b[39;00mextension\u001b[38;5;132;01m}\u001b[39;00m\u001b[38;5;124m\"\u001b[39m)\n\u001b[0;32m---> 46\u001b[0m     \u001b[38;5;28;01mreturn\u001b[39;00m \u001b[43mfunc\u001b[49m\u001b[43m(\u001b[49m\u001b[38;5;241;43m*\u001b[39;49m\u001b[43margs\u001b[49m\u001b[43m,\u001b[49m\u001b[43m \u001b[49m\u001b[38;5;241;43m*\u001b[39;49m\u001b[38;5;241;43m*\u001b[39;49m\u001b[43mkwargs\u001b[49m\u001b[43m)\u001b[49m\n\u001b[1;32m     47\u001b[0m \u001b[38;5;28;01mexcept\u001b[39;00m \u001b[38;5;167;01mValueError\u001b[39;00m \u001b[38;5;28;01mas\u001b[39;00m e:\n",
      "File \u001b[0;32m~/Desktop/krixik/code/krixik-docs/docs/system/../../krixik/pipeline_builder/pipeline.py:122\u001b[0m, in \u001b[0;36mCreatePipeline.test_input\u001b[0;34m(self, local_file_path)\u001b[0m\n\u001b[1;32m    120\u001b[0m \u001b[38;5;129m@datatype_validator\u001b[39m\n\u001b[1;32m    121\u001b[0m \u001b[38;5;28;01mdef\u001b[39;00m \u001b[38;5;21mtest_input\u001b[39m(\u001b[38;5;28mself\u001b[39m, \u001b[38;5;241m*\u001b[39m, local_file_path: \u001b[38;5;28mstr\u001b[39m) \u001b[38;5;241m-\u001b[39m\u001b[38;5;241m>\u001b[39m \u001b[38;5;28;01mNone\u001b[39;00m:\n\u001b[0;32m--> 122\u001b[0m     \u001b[43minput_check\u001b[49m\u001b[43m(\u001b[49m\u001b[43mlocal_file_path\u001b[49m\u001b[43m,\u001b[49m\u001b[43m \u001b[49m\u001b[38;5;28;43mself\u001b[39;49m\u001b[38;5;241;43m.\u001b[39;49m\u001b[43m__module_chain\u001b[49m\u001b[43m)\u001b[49m\n\u001b[1;32m    123\u001b[0m     \u001b[38;5;28mprint\u001b[39m(\n\u001b[1;32m    124\u001b[0m         \u001b[38;5;124mf\u001b[39m\u001b[38;5;124m\"\u001b[39m\u001b[38;5;124mSUCCESS: local file \u001b[39m\u001b[38;5;132;01m{\u001b[39;00mlocal_file_path\u001b[38;5;132;01m}\u001b[39;00m\u001b[38;5;124m passed pipeline input test passed\u001b[39m\u001b[38;5;124m\"\u001b[39m\n\u001b[1;32m    125\u001b[0m     )\n",
      "File \u001b[0;32m~/Desktop/krixik/code/krixik-docs/docs/system/../../krixik/pipeline_builder/utilities/input_checker.py:18\u001b[0m, in \u001b[0;36minput_check\u001b[0;34m(local_file_path, module_chain)\u001b[0m\n\u001b[1;32m     17\u001b[0m \u001b[38;5;28;01mif\u001b[39;00m file_ext_format \u001b[38;5;241m!=\u001b[39m first_module_input_format:\n\u001b[0;32m---> 18\u001b[0m     \u001b[38;5;28;01mraise\u001b[39;00m \u001b[38;5;167;01mTypeError\u001b[39;00m(\n\u001b[1;32m     19\u001b[0m         \u001b[38;5;124mf\u001b[39m\u001b[38;5;124m\"\u001b[39m\u001b[38;5;124mfile extension \u001b[39m\u001b[38;5;132;01m{\u001b[39;00mfile_ext\u001b[38;5;132;01m}\u001b[39;00m\u001b[38;5;124m does not match the expected input format \u001b[39m\u001b[38;5;132;01m{\u001b[39;00mfirst_module_input_format\u001b[38;5;132;01m}\u001b[39;00m\u001b[38;5;124m\"\u001b[39m\n\u001b[1;32m     20\u001b[0m     )\n\u001b[1;32m     21\u001b[0m is_valid(first_module\u001b[38;5;241m.\u001b[39mname, local_file_path)\n",
      "\u001b[0;31mTypeError\u001b[0m: file extension .txt does not match the expected input format audio",
      "\nDuring handling of the above exception, another exception occurred:\n",
      "\u001b[0;31mException\u001b[0m                                 Traceback (most recent call last)",
      "Cell \u001b[0;32mIn[8], line 5\u001b[0m\n\u001b[1;32m      2\u001b[0m test_file \u001b[38;5;241m=\u001b[39m \u001b[38;5;124m\"\u001b[39m\u001b[38;5;124m../../data/input/1984_very_short.txt\u001b[39m\u001b[38;5;124m\"\u001b[39m\n\u001b[1;32m      4\u001b[0m \u001b[38;5;66;03m# use .test_input to ensure the pipeline is working as expected on test files\u001b[39;00m\n\u001b[0;32m----> 5\u001b[0m \u001b[43mpipeline\u001b[49m\u001b[38;5;241;43m.\u001b[39;49m\u001b[43mtest_input\u001b[49m\u001b[43m(\u001b[49m\u001b[43mlocal_file_path\u001b[49m\u001b[38;5;241;43m=\u001b[39;49m\u001b[43mtest_file\u001b[49m\u001b[43m)\u001b[49m\n",
      "File \u001b[0;32m~/Desktop/krixik/code/krixik-docs/docs/system/../../krixik/utilities/validators/data/utilities/decorators.py:50\u001b[0m, in \u001b[0;36mdatatype_validator.<locals>.wrapper\u001b[0;34m(*args, **kwargs)\u001b[0m\n\u001b[1;32m     48\u001b[0m     \u001b[38;5;28;01mraise\u001b[39;00m \u001b[38;5;167;01mValueError\u001b[39;00m(e)\n\u001b[1;32m     49\u001b[0m \u001b[38;5;28;01mexcept\u001b[39;00m \u001b[38;5;167;01mException\u001b[39;00m \u001b[38;5;28;01mas\u001b[39;00m e:\n\u001b[0;32m---> 50\u001b[0m     \u001b[38;5;28;01mraise\u001b[39;00m \u001b[38;5;167;01mException\u001b[39;00m(e)\n",
      "\u001b[0;31mException\u001b[0m: file extension .txt does not match the expected input format audio"
     ]
    }
   ],
   "source": [
    "# define path to an input file from examples directory\n",
    "test_file = \"../../data/input/1984_very_short.txt\"\n",
    "\n",
    "# use .test_input to ensure the pipeline is working as expected on test files\n",
    "pipeline.test_input(local_file_path=test_file)"
   ]
  },
  {
   "cell_type": "markdown",
   "metadata": {},
   "source": [
    "### Viewing example module input"
   ]
  },
  {
   "cell_type": "markdown",
   "metadata": {},
   "source": [
    "Examine the relevant data class of your starting module to ensure your input satisfies the required input structure requirements.\n",
    "\n",
    "You can get a quick sense of its required structure by looking at a sample datapoint as shown in the next few cells.  These actions can be performed for any [currently available module](modules/overview.md).  Below we illustrate using the [parser module](modules/parser.md)."
   ]
  },
  {
   "cell_type": "code",
   "execution_count": 9,
   "metadata": {},
   "outputs": [
    {
     "name": "stdout",
     "output_type": "stream",
     "text": [
      "input data example\n",
      "-----\n",
      "sample text looks like this.\n",
      "\n",
      "\n",
      "output data example\n",
      "-----\n",
      "{\n",
      "  \"snippet\": \"This is the main text.\",\n",
      "  \"line_numbers\": [\n",
      "    1,\n",
      "    2,\n",
      "    3,\n",
      "    4\n",
      "  ],\n",
      "  \"other\": null\n",
      "}\n"
     ]
    }
   ],
   "source": [
    "# exampine the required input / output data structure for the parser module by printing an example of each\n",
    "from krixik.modules.parser import io\n",
    "import json\n",
    "print('input data example')\n",
    "print('-----')\n",
    "print(io.InputStructure().data_example)\n",
    "print('\\n')\n",
    "print('output data example')\n",
    "print('-----')\n",
    "print(json.dumps(io.OutputStructure().data_example, indent=2))"
   ]
  },
  {
   "cell_type": "markdown",
   "metadata": {},
   "source": [
    "Here `other` denotes any other key in your input.  Its value is arbitrary."
   ]
  },
  {
   "cell_type": "markdown",
   "metadata": {},
   "source": [
    "### Viewing module click data"
   ]
  },
  {
   "cell_type": "markdown",
   "metadata": {},
   "source": [
    "The module property `click_data` displays all the basic data required to know which other modules it can be \"clicked\" into in a pipeline.  This is precisely what data is referenced \"under the hood\" of krixik when you build a pipeline using the `pipeline` api.\n",
    "\n",
    "First there's the module's input / output data format.  A module like  `transcribe` takes in `audio` and outputs `json`, while the `text-embedder` takes in `json` and outputs `.npy`.  \n",
    "\n",
    "Checking that the *output* format of a module matches the *input* format of another module is the *first* of two steps in determining if two modules can be clicked together.  If the output format of \"module A\"  matches the input format of \"module B\" you'll likely be able to connect \"module A\" --> \"module B\" in a pipeline.\n",
    "\n",
    "The *second* step to determine module click-ability is to make sure the input/output  `process_type`'s match.  A module might input a `json` format, but only *process* on certain key-value pairs of it.  \n",
    "\n",
    "Checking this aligment of `process_type` guarantees modules can be connected.\n",
    "\n",
    "Lets take a look at the `click_data` of two modules and discuss what it says about their \"click-ability\"."
   ]
  },
  {
   "cell_type": "code",
   "execution_count": 11,
   "metadata": {},
   "outputs": [
    {
     "data": {
      "text/plain": [
       "{'module_name': 'text-embedder',\n",
       " 'input_format': 'json',\n",
       " 'output_format': 'npy',\n",
       " 'input_process_key': 'snippet',\n",
       " 'input_process_type': \"<class 'str'>\",\n",
       " 'output_process_key': 'data',\n",
       " 'output_process_type': \"<class 'numpy.ndarray'>\"}"
      ]
     },
     "execution_count": 11,
     "metadata": {},
     "output_type": "execute_result"
    }
   ],
   "source": [
    "# examine a module's \"click-ability\" data by using the click_data property\n",
    "krixik.view_module_click_data(module_name=\"text-embedder\")"
   ]
  },
  {
   "cell_type": "code",
   "execution_count": 12,
   "metadata": {},
   "outputs": [
    {
     "data": {
      "text/plain": [
       "{'module_name': 'vector-db',\n",
       " 'input_format': 'npy',\n",
       " 'output_format': 'faiss',\n",
       " 'input_process_key': 'data',\n",
       " 'input_process_type': \"<class 'numpy.ndarray'>\",\n",
       " 'output_process_key': None,\n",
       " 'output_process_type': None}"
      ]
     },
     "execution_count": 12,
     "metadata": {},
     "output_type": "execute_result"
    }
   ],
   "source": [
    "# examine a module's \"click-ability\" data by using the click_data property\n",
    "krixik.view_module_click_data(module_name=\"vector-db\")"
   ]
  },
  {
   "cell_type": "markdown",
   "metadata": {},
   "source": [
    "This data suggests that we can \"click\" the modules together like this:\n",
    "\n",
    "`text-embedder` -> `vector-search`\n",
    "\n",
    "but *not* like this\n",
    "\n",
    " `vector-search` -> `text-embedder`\n",
    "\n",
    "The first module connection (`text-embedder` -> `vector-search`) will work since - from the `click_data` of both modules - we can see that \n",
    "\n",
    "- `text-embedder` output_format (`npy`) == `vector-search` input_format (`npy`), and \n",
    "- `text-embedder` output_process_type (`<class 'numpy.ndarray'>`) == `vector-search` input_process_type (`<class 'numpy.ndarray'>`)\n",
    "\n",
    "\n",
    "The latter connection ( `vector-search` -> `text-embedder`) will not work since we can see from the same data \n",
    "\n",
    "- `vector-search` output_format (`faiss`) != `text-embedder` input_format (`json`)\n",
    "\n"
   ]
  }
 ],
 "metadata": {
  "kernelspec": {
   "display_name": "venv",
   "language": "python",
   "name": "python3"
  },
  "language_info": {
   "codemirror_mode": {
    "name": "ipython",
    "version": 3
   },
   "file_extension": ".py",
   "mimetype": "text/x-python",
   "name": "python",
   "nbconvert_exporter": "python",
   "pygments_lexer": "ipython3",
   "version": "3.10.13"
  }
 },
 "nbformat": 4,
 "nbformat_minor": 2
}
