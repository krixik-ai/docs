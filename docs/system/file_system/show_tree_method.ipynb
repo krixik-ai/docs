{
 "cells": [
  {
   "cell_type": "markdown",
   "metadata": {},
   "source": [
    "## The `.show_tree` Method\n",
    "\n",
    "The `.show_tree` method allows you to visualize—at your terminal or IDE output—all files currently in your pipeline.  It is designed as a simple analog to the standard UNIX [tree command](https://www.tecmint.com/linux-tree-command-examples/).\n",
    "\n",
    "This overview of the `.show_tree` method is divided into the following sections:\n",
    "\n",
    "- [.show_tree Method Arguments](#.show_tree-method-arguments)\n",
    "- [.show_tree Method Example](#.show_tree-method-example)\n",
    "- [The Wildcard Operator and the Global Root](#the-wildcard-operator-and-the-global-root)"
   ]
  },
  {
   "cell_type": "code",
   "execution_count": 1,
   "metadata": {
    "tags": [
     "remove_cell"
    ]
   },
   "outputs": [
    {
     "name": "stdout",
     "output_type": "stream",
     "text": [
      "SUCCESS: You are now authenticated.\n"
     ]
    }
   ],
   "source": [
    "# import utilities\n",
    "import sys \n",
    "import json\n",
    "import importlib\n",
    "sys.path.append('../../../')\n",
    "reset = importlib.import_module(\"utilities.reset\")\n",
    "reset_pipeline = reset.reset_pipeline\n",
    "\n",
    "# load secrets from a .env file using python-dotenv\n",
    "from dotenv import load_dotenv\n",
    "import os\n",
    "load_dotenv(\"../../../.env\")\n",
    "MY_API_KEY = os.getenv('MY_API_KEY')\n",
    "MY_API_URL = os.getenv('MY_API_URL')\n",
    "\n",
    "# import krixik and initialize it with your personal secrets\n",
    "from krixik import krixik\n",
    "krixik.init(api_key = MY_API_KEY, \n",
    "            api_url = MY_API_URL)"
   ]
  },
  {
   "cell_type": "markdown",
   "metadata": {},
   "source": [
    "### `.show_tree` Method Arguments\n",
    "\n",
    "The `.show_tree` method takes a single (required) argument:\n",
    "\n",
    "- `symbolic_directory_path` (str) - The `file_id` of the processed file whose record you wish to entirely delete from the Krixik system."
   ]
  },
  {
   "cell_type": "markdown",
   "metadata": {},
   "source": [
    "### `.show_tree` Method Example"
   ]
  },
  {
   "cell_type": "markdown",
   "metadata": {},
   "source": [
    "For this document's example we will use a pipeline consisting of a single [`parser`](../../modules/ai_model_modules/parser_module.md) module.  We use the [`.create_pipeline`](../pipeline_creation/create_pipeline.md) method to instantiate the pipeline, and then [`.process`](../parameters_processing_files_through_pipelines/process_method.md) a few files through it. Note the `symbolic_directory_path` structure we create:"
   ]
  },
  {
   "cell_type": "code",
   "execution_count": 2,
   "metadata": {},
   "outputs": [],
   "source": [
    "# create an example pipeline with a single module\n",
    "\n",
    "pipeline_1 = krixik.create_pipeline(name=\"show_tree_method_1_parser\",\n",
    "                                    module_chain=[\"parser\"])\n",
    "\n",
    "# now process some files through the pipeline\n",
    "\n",
    "process_output_1 = pipeline_1.process(local_file_path=\"../../../data/input/Frankenstein partial.txt\", # the initial local filepath where the input JSON file is stored\n",
    "                                      expire_time=60 * 30,  # process data will be deleted from the Krixik system in 30 minutes\n",
    "                                      wait_for_process=True,  # do not wait for process to complete before returning IDE control to user\n",
    "                                      verbose=False,  # do not display process update printouts upon running code\n",
    "                                      symbolic_directory_path=\"/lit/novels/19th-century\",\n",
    "                                      file_name=\"Frankenstein.txt\")\n",
    "\n",
    "process_output_2 = pipeline_1.process(local_file_path=\"../../../data/input/Pride and Prejudice partial.txt\", # the initial local filepath where the input JSON file is stored\n",
    "                                      expire_time=60 * 30,  # process data will be deleted from the Krixik system in 30 minutes\n",
    "                                      wait_for_process=True,  # do not wait for process to complete before returning IDE control to user\n",
    "                                      verbose=False,  # do not display process update printouts upon running code\n",
    "                                      symbolic_directory_path=\"/lit/novels/19th-century\",\n",
    "                                      file_name=\"Pride and Prejudice.txt\")\n",
    "\n",
    "process_output_3 = pipeline_1.process(local_file_path=\"../../../data/input/Moby Dick partial.txt\", # the initial local filepath where the input JSON file is stored\n",
    "                                      expire_time=60 * 30,  # process data will be deleted from the Krixik system in 30 minutes\n",
    "                                      wait_for_process=True,  # do not wait for process to complete before returning IDE control to user\n",
    "                                      verbose=False,  # do not display process update printouts upon running code\n",
    "                                      symbolic_directory_path=\"/lit/novels/19th-century/adventure\",\n",
    "                                      file_name=\"Moby Dick.txt\")\n",
    "\n",
    "process_output_4 = pipeline_1.process(local_file_path=\"../../../data/input/Little Women partial.txt\", # the initial local filepath where the input JSON file is stored\n",
    "                                      expire_time=60 * 30,  # process data will be deleted from the Krixik system in 30 minutes\n",
    "                                      wait_for_process=True,  # do not wait for process to complete before returning IDE control to user\n",
    "                                      verbose=False,  # do not display process update printouts upon running code\n",
    "                                      symbolic_directory_path=\"/lit/novels/19th-century/bildungsroman\",\n",
    "                                      file_name=\"Little Women.txt\")"
   ]
  },
  {
   "cell_type": "markdown",
   "metadata": {},
   "source": [
    "Now you can visualize your pipeline's symbolic directory structure by using `show_tree`.\n",
    "\n",
    "This example will leverage the \"global root\" wildcard `symbolic_directory_path`, which will be explained momentarily."
   ]
  },
  {
   "cell_type": "code",
   "execution_count": 3,
   "metadata": {},
   "outputs": [
    {
     "name": "stdout",
     "output_type": "stream",
     "text": [
      "/\n",
      "└── /lit\n",
      "    └── /novels\n",
      "        └── /19th-century\n",
      "            ├── /adventure\n",
      "            │   └── moby dick.txt\n",
      "            ├── /bildungsroman\n",
      "            │   └── little women.txt\n",
      "            ├── frankenstein.txt\n",
      "            └── pride and prejudice.txt\n"
     ]
    }
   ],
   "source": [
    "# show the directory structure of a pipeline\n",
    "\n",
    "show_tree_output_1 = pipeline_1.show_tree(symbolic_directory_path=\"/*\")"
   ]
  },
  {
   "cell_type": "markdown",
   "metadata": {},
   "source": [
    "Note that directory names are preceded by a forward slash (`/`) character and file names are not. This allows you to easily differentiate between them."
   ]
  },
  {
   "cell_type": "markdown",
   "metadata": {},
   "source": [
    "### The Wildcard Operator and the Global Root\n",
    "\n",
    "The wildcard operator is the asterisk: *\n",
    "\n",
    "As in the [`.list`](list_method.md) method, the [`.semantic_search`](../search_methods/semantic_search_method.md) method and the [`.keyword_search`](../search_methods/keyword_search_method.md) method you can use the wildcard operator * in the `symbolic_directory_path` argument for the `.show_tree` method.\n",
    "\n",
    "The wildcard operator * can be used as a suffix in the `.show_tree` method if you wish to show the tree structure beneath a certain directory. Syntax might look like this:\n",
    "\n",
    "```python\n",
    "# symbolic_directory_path use of wildcard operator *\n",
    "symbolic_directory_path='/home/files/studies'\n",
    "```\n",
    "\n",
    "Using this `symbolic_directory_path` in `.show_tree` would generate a visualization of the directory structure under `/home/files/studies`.\n",
    "\n",
    "The maxium expression of using the wildcard operator in a `symbolic_directory_path` is what we call \"the global root\". It's simply a forward slash and a wildcard operator *, includes every single file in your pipeline, and looks like this:\n",
    "\n",
    "```python\n",
    "# example of the global root\n",
    "symbolic_directory_path='/*'\n",
    "```\n",
    "\n",
    "As seen in the above code output, using the global root with the `.show_tree` method returns a visualization of your entire pipeline's directory structure."
   ]
  },
  {
   "cell_type": "code",
   "execution_count": 4,
   "metadata": {
    "tags": [
     "remove_cell"
    ]
   },
   "outputs": [],
   "source": [
    "# delete all processed datapoints belonging to this pipeline\n",
    "\n",
    "reset_pipeline(pipeline_1)"
   ]
  }
 ],
 "metadata": {
  "kernelspec": {
   "display_name": "Python 3",
   "language": "python",
   "name": "python3"
  },
  "language_info": {
   "codemirror_mode": {
    "name": "ipython",
    "version": 3
   },
   "file_extension": ".py",
   "mimetype": "text/x-python",
   "name": "python",
   "nbconvert_exporter": "python",
   "pygments_lexer": "ipython3",
   "version": "3.12.0"
  }
 },
 "nbformat": 4,
 "nbformat_minor": 2
}
