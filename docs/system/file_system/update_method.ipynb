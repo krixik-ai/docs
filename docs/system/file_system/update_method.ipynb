{
 "cells": [
  {
   "cell_type": "markdown",
   "metadata": {},
   "source": [
    "## The `.update` Method\n",
    "\n",
    "You can update any metadata of any processed file by using the `.update` method.\n",
    "\n",
    "This overview of the `.update` method is divided into the following sections:\n",
    "\n",
    "- [.update Method Arguments](#.update-method-arguments)\n",
    "- [.update Method Example](#.update-method-example)\n",
    "- [Observations on the .update Method](#observations-on-the-.update-method)"
   ]
  },
  {
   "cell_type": "code",
   "execution_count": 1,
   "metadata": {
    "tags": [
     "remove_cell"
    ]
   },
   "outputs": [
    {
     "name": "stdout",
     "output_type": "stream",
     "text": [
      "SUCCESS: You are now authenticated.\n"
     ]
    }
   ],
   "source": [
    "# import utilities\n",
    "import sys \n",
    "import json\n",
    "import importlib\n",
    "sys.path.append('../../../')\n",
    "reset = importlib.import_module(\"utilities.reset\")\n",
    "reset_pipeline = reset.reset_pipeline\n",
    "\n",
    "# load secrets from a .env file using python-dotenv\n",
    "from dotenv import load_dotenv\n",
    "import os\n",
    "load_dotenv(\"../../../.env\")\n",
    "MY_API_KEY = os.getenv('MY_API_KEY')\n",
    "MY_API_URL = os.getenv('MY_API_URL')\n",
    "\n",
    "# import krixik and initialize it with your personal secrets\n",
    "from krixik import krixik\n",
    "krixik.init(api_key = MY_API_KEY, \n",
    "            api_url = MY_API_URL)"
   ]
  },
  {
   "cell_type": "markdown",
   "metadata": {},
   "source": [
    "### `.update` Method Arguments\n",
    "\n",
    "The `.update` method takes one required argument and at least one of several optional arguments:\n",
    "\n",
    "- `file_id` (required, str) - The `file_id` of the file whose metadata you wish to update.\n",
    "\n",
    "- `expire_time` (optional, int) - The amount of time (in seconds) that file data will remain on Krixik servers, counting as of when the `.update` method is run.\n",
    "\n",
    "- `symbolic_directory_path` (optional, str) - A UNIX-formatted directory path under your account in the Krixik system.\n",
    "\n",
    "- `file_name` (optional, str) - A custom file name that must end with the file extension of the original input file. **You cannot update the file extension.**\n",
    "\n",
    "- `symbolic_file_path` (optional, str) - A combination of `symbolic_directory_path` and `file_name` in a single argument.\n",
    "\n",
    "- `file_tags` (optional, list) - A list of custom file tags (each a key-value pair). Note that you must update the whole set, so if a file has three file tags and you update one of them, entirely excluding the other two from the `.update` method `file_tags` argument, both of those will be deleted.\n",
    "\n",
    "- `file_description` (optional, str) - A custom file description.\n",
    "\n",
    "If none of the optional arguments are present, the `.update` method will not work because there will be nothing to update."
   ]
  },
  {
   "cell_type": "markdown",
   "metadata": {},
   "source": [
    "### `.update` Method Example"
   ]
  },
  {
   "cell_type": "markdown",
   "metadata": {},
   "source": [
    "For this document's example we will use a pipeline consisting of a single [`parser`](../../modules/ai_model_modules/parser_module.md) module.  We use the [`.create_pipeline`](../pipeline_creation/create_pipeline.md) method to instantiate the pipeline, and then process a file through it:"
   ]
  },
  {
   "cell_type": "code",
   "execution_count": 2,
   "metadata": {
    "tags": [
     "skip-execution"
    ]
   },
   "outputs": [
    {
     "name": "stdout",
     "output_type": "stream",
     "text": [
      "INFO: output json downloaded but larger than 0.5MB and will not be returned with .process output\n"
     ]
    }
   ],
   "source": [
    "# create an example pipeline with a single parser module\n",
    "\n",
    "pipeline_1 = krixik.create_pipeline(name=\"update_method_1_parser\",\n",
    "                                    module_chain=[\"parser\"])\n",
    "\n",
    "# process short input file\n",
    "\n",
    "process_output_1 = pipeline_1.process(local_file_path=\"../../../data/input/Frankenstein.txt\", # the initial local filepath where the input JSON file is stored\n",
    "                                      expire_time=60 * 30,  # process data will be deleted from the Krixik system in 30 minutes\n",
    "                                      wait_for_process=True,  # do not wait for process to complete before returning IDE control to user\n",
    "                                      verbose=False,  # do not display process update printouts upon running code\n",
    "                                      symbolic_directory_path=\"/novels/gothic\",\n",
    "                                      file_name=\"The Franken Stein.txt\",\n",
    "                                      file_tags=[{\"author\": \"Shelley\"}, {\"category\": \"gothic\"}, {\"century\": \"19\"}])"
   ]
  },
  {
   "cell_type": "markdown",
   "metadata": {},
   "source": [
    "Let's see what the file's record looks like with the [`.list`](list_method.md) method:"
   ]
  },
  {
   "cell_type": "code",
   "execution_count": 3,
   "metadata": {
    "tags": [
     "skip-execution"
    ]
   },
   "outputs": [
    {
     "name": "stdout",
     "output_type": "stream",
     "text": [
      "{\n",
      "  \"status_code\": 200,\n",
      "  \"request_id\": \"abaa977d-e56b-41b9-9c49-f2809f987a2d\",\n",
      "  \"message\": \"Successfully returned 1 item.  Note: all timestamps in UTC.\",\n",
      "  \"warnings\": [],\n",
      "  \"items\": [\n",
      "    {\n",
      "      \"last_updated\": \"2024-05-20 17:49:30\",\n",
      "      \"process_id\": \"b107e0e0-74da-a983-d1d2-56cd9bbe33d7\",\n",
      "      \"created_at\": \"2024-05-20 17:49:30\",\n",
      "      \"file_metadata\": {\n",
      "        \"modules\": {\n",
      "          \"module_1\": {\n",
      "            \"parser\": {\n",
      "              \"model\": \"sentence\"\n",
      "            }\n",
      "          }\n",
      "        },\n",
      "        \"modules_data\": {\n",
      "          \"module_1\": {\n",
      "            \"parser\": {\n",
      "              \"data_files_extensions\": [\n",
      "                \".json\"\n",
      "              ],\n",
      "              \"num_lines\": 3199\n",
      "            }\n",
      "          }\n",
      "        }\n",
      "      },\n",
      "      \"file_tags\": [\n",
      "        {\n",
      "          \"author\": \"shelley\"\n",
      "        },\n",
      "        {\n",
      "          \"category\": \"gothic\"\n",
      "        },\n",
      "        {\n",
      "          \"century\": \"19\"\n",
      "        }\n",
      "      ],\n",
      "      \"file_description\": \"\",\n",
      "      \"symbolic_directory_path\": \"/novels/gothic\",\n",
      "      \"pipeline\": \"update_method_1_parser\",\n",
      "      \"file_id\": \"463a697d-a8b5-4674-ace8-79fe53b862a1\",\n",
      "      \"expire_time\": \"2024-05-20 18:19:30\",\n",
      "      \"file_name\": \"the franken stein.txt\"\n",
      "    }\n",
      "  ]\n",
      "}\n"
     ]
    }
   ],
   "source": [
    "# see the file's record with .list\n",
    "list_output_1 = pipeline_1.list(symbolic_directory_paths=['/novels/gothic'])\n",
    "\n",
    "# nicely print the output of this .list\n",
    "print(json.dumps(list_output_1, indent=2))"
   ]
  },
  {
   "cell_type": "markdown",
   "metadata": {},
   "source": [
    "We can use the `.update` method to update the file's metadata.\n",
    "\n",
    "We'll update its `file_name`, since it's erroneous, change the `{\"category\": \"gothic\"}` file tag for something different, and add a `file_description`. We'll leave its `symbolic_directory_path` untouched."
   ]
  },
  {
   "cell_type": "code",
   "execution_count": 5,
   "metadata": {
    "tags": [
     "skip-execution"
    ]
   },
   "outputs": [
    {
     "name": "stdout",
     "output_type": "stream",
     "text": [
      "INFO: lower casing file_name Frankenstein.txt to frankenstein.txt\n",
      "INFO: lower casing file tag {'author': 'Shelley'} to {'author': 'shelley'}\n",
      "INFO: lower casing file tag {'country': 'UK'} to {'country': 'uk'}\n",
      "{\n",
      "  \"status_code\": 200,\n",
      "  \"pipeline\": \"update_method_1_parser\",\n",
      "  \"request_id\": \"090cb419-2e92-4dff-b82f-d14d562f45d5\",\n",
      "  \"file_id\": \"463a697d-a8b5-4674-ace8-79fe53b862a1\",\n",
      "  \"message\": \"SUCCESS - output fetched for file_id 463a697d-a8b5-4674-ace8-79fe53b862a1.Output saved to location(s) listed in process_output_files.\",\n",
      "  \"warnings\": [],\n",
      "  \"process_output\": null,\n",
      "  \"process_output_files\": [\n",
      "    \"c:\\\\Users\\\\Lucas\\\\Desktop\\\\krixikdocsnoodle\\\\docs\\\\system\\\\file_system/463a697d-a8b5-4674-ace8-79fe53b862a1.json\"\n",
      "  ]\n",
      "}\n"
     ]
    }
   ],
   "source": [
    "# update metadata the metadata for the processed file\n",
    "update_output_1 = pipeline_1.update(file_id=\"463a697d-a8b5-4674-ace8-79fe53b862a1\",\n",
    "                                    file_name=\"Frankenstein.txt\",\n",
    "                                    file_tags=[{\"author\": \"Shelley\"}, {\"country\": \"UK\"}, {\"century\": \"19\"}],\n",
    "                                    file_description='Is the villain the monster or the doctor?')\n",
    "\n",
    "# nicely print the output of this .update\n",
    "print(json.dumps(process_output_1, indent=2))"
   ]
  },
  {
   "cell_type": "markdown",
   "metadata": {},
   "source": [
    "Now we invoke the [`.list`](list_method.md) method to confirm that all metadata has indeed been updated as requested:"
   ]
  },
  {
   "cell_type": "code",
   "execution_count": 6,
   "metadata": {
    "tags": [
     "skip-execution"
    ]
   },
   "outputs": [
    {
     "name": "stdout",
     "output_type": "stream",
     "text": [
      "{\n",
      "  \"status_code\": 200,\n",
      "  \"request_id\": \"8bbcc518-4204-439e-9173-7f659f1b96e5\",\n",
      "  \"message\": \"Successfully returned 1 item.  Note: all timestamps in UTC.\",\n",
      "  \"warnings\": [],\n",
      "  \"items\": [\n",
      "    {\n",
      "      \"last_updated\": \"2024-05-20 17:51:00\",\n",
      "      \"process_id\": \"b107e0e0-74da-a983-d1d2-56cd9bbe33d7\",\n",
      "      \"created_at\": \"2024-05-20 17:49:30\",\n",
      "      \"file_metadata\": {\n",
      "        \"modules\": {\n",
      "          \"module_1\": {\n",
      "            \"parser\": {\n",
      "              \"model\": \"sentence\"\n",
      "            }\n",
      "          }\n",
      "        },\n",
      "        \"modules_data\": {\n",
      "          \"module_1\": {\n",
      "            \"parser\": {\n",
      "              \"data_files_extensions\": [\n",
      "                \".json\"\n",
      "              ],\n",
      "              \"num_lines\": 3199\n",
      "            }\n",
      "          }\n",
      "        }\n",
      "      },\n",
      "      \"file_tags\": [\n",
      "        {\n",
      "          \"author\": \"shelley\"\n",
      "        },\n",
      "        {\n",
      "          \"country\": \"uk\"\n",
      "        },\n",
      "        {\n",
      "          \"century\": \"19\"\n",
      "        }\n",
      "      ],\n",
      "      \"file_description\": \"Is the villain the monster or the doctor?\",\n",
      "      \"symbolic_directory_path\": \"/novels/gothic\",\n",
      "      \"pipeline\": \"update_method_1_parser\",\n",
      "      \"file_id\": \"463a697d-a8b5-4674-ace8-79fe53b862a1\",\n",
      "      \"expire_time\": \"2024-05-20 18:19:30\",\n",
      "      \"file_name\": \"frankenstein.txt\"\n",
      "    }\n",
      "  ]\n",
      "}\n"
     ]
    }
   ],
   "source": [
    "# call .list to see the file's newly updated record\n",
    "list_output_2 = pipeline_1.list(symbolic_file_paths=['/novels/gothic/Frankenstein.txt'])\n",
    "\n",
    "# nicely print the output of this .list\n",
    "print(json.dumps(list_output_2, indent=2))"
   ]
  },
  {
   "cell_type": "markdown",
   "metadata": {},
   "source": [
    "### Observations on the `.update` Method\n",
    "\n",
    "Four closing observation on the `.update` method:\n",
    "\n",
    "- Note that in the example above we updated `file_tags` by including the entire set of file tags: `[{\"author\": \"Shelley\"}, {\"country\": \"UK\"}, {\"century\": 19}]`. If we'd only used `[{\"country\": \"UK\"}]`, the \"author\" and \"century\" ones would have been deleted.\n",
    "\n",
    "- You cannot update a `symbolic_directory_path`/`file_name` combination (a.k.a. a `symbolic_file_path`) so it's identical to that of another file. Krixik will not allow it.\n",
    "\n",
    "- You can also not update a file's file extension. For instance, a `.txt` file cannot become a `.pdf` file through the `.update` method.\n",
    "\n",
    "- The `.update` method allows you to extend a file's [`expire_time`](../parameters_processing_files_through_pipelines/process_method.md#core-.process-method-arguments) indefinitely. Upon initially uploading a file, its [`expire_time`](../parameters_processing_files_through_pipelines/process_method.md#core-.process-method-arguments) cannot be greater than 2,592,000 seconds (30 days). However, if you periodically invoke `.update` on its file and reset its [`expire_time`](../parameters_processing_files_through_pipelines/process_method.md#core-.process-method-arguments) to another 2,592,000 seconds (or however many seconds you please), the file will remain on-system for that much more time as of that moment, and so forth."
   ]
  },
  {
   "cell_type": "code",
   "execution_count": 7,
   "metadata": {
    "tags": [
     "remove_cell"
    ]
   },
   "outputs": [],
   "source": [
    "# delete all processed datapoints belonging to this pipeline\n",
    "\n",
    "reset_pipeline(pipeline_1)"
   ]
  }
 ],
 "metadata": {
  "kernelspec": {
   "display_name": "myenv",
   "language": "python",
   "name": "python3"
  },
  "language_info": {
   "codemirror_mode": {
    "name": "ipython",
    "version": 3
   },
   "file_extension": ".py",
   "mimetype": "text/x-python",
   "name": "python",
   "nbconvert_exporter": "python",
   "pygments_lexer": "ipython3",
   "version": "3.12.0"
  }
 },
 "nbformat": 4,
 "nbformat_minor": 2
}
