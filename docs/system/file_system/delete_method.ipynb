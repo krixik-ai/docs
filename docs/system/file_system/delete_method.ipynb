{
 "cells": [
  {
   "cell_type": "markdown",
   "metadata": {},
   "source": [
    "## The `delete` Method\n",
    "\n",
    "You can delete all records of a processed file from the Krixik system with the `delete` method. This is the manual version of letting the [`expire_time`](../parameters_processing_files_through_pipelines/process_method.md#core-process-method-arguments) run out on a file.\n",
    "\n",
    "This overview of the `delete` method is divided into the following sections:\n",
    "\n",
    "- [`delete` Method Arguments](#delete-method-arguments)\n",
    "- [`delete` Method Example](#delete-method-example)"
   ]
  },
  {
   "cell_type": "code",
   "execution_count": 1,
   "metadata": {
    "tags": [
     "remove_cell"
    ]
   },
   "outputs": [
    {
     "name": "stdout",
     "output_type": "stream",
     "text": [
      "SUCCESS: You are now authenticated.\n"
     ]
    }
   ],
   "source": [
    "# import utilities\n",
    "import sys\n",
    "import json\n",
    "import importlib\n",
    "\n",
    "sys.path.append(\"../../../\")\n",
    "reset = importlib.import_module(\"utilities.reset\")\n",
    "reset_pipeline = reset.reset_pipeline\n",
    "\n",
    "# load secrets from a .env file using python-dotenv\n",
    "from dotenv import load_dotenv\n",
    "import os\n",
    "\n",
    "load_dotenv(\"../../../.env\")\n",
    "MY_API_KEY = os.getenv(\"MY_API_KEY\")\n",
    "MY_API_URL = os.getenv(\"MY_API_URL\")\n",
    "\n",
    "# import krixik and initialize it with your personal secrets\n",
    "from krixik import krixik\n",
    "\n",
    "krixik.init(api_key=MY_API_KEY, api_url=MY_API_URL)"
   ]
  },
  {
   "cell_type": "markdown",
   "metadata": {},
   "source": [
    "### `delete` Method Arguments\n",
    "\n",
    "The `delete` method takes a single (required) argument:\n",
    "\n",
    "- `file_id` (str) - The `file_id` of the processed file whose record you wish to entirely delete from Krixik servers."
   ]
  },
  {
   "cell_type": "markdown",
   "metadata": {},
   "source": [
    "### `delete` Method Example"
   ]
  },
  {
   "cell_type": "markdown",
   "metadata": {},
   "source": [
    "For this document's example we will use a pipeline consisting of a single [`parser`](../../modules/support_function_modules/parser_module.md) module.  We use the [`create_pipeline`](../pipeline_creation/create_pipeline.md) method to instantiate the pipeline, and then [`process`](../parameters_processing_files_through_pipelines/process_method.md) a file through it."
   ]
  },
  {
   "cell_type": "code",
   "execution_count": 2,
   "metadata": {},
   "outputs": [],
   "source": [
    "# create an example pipeline with a single module\n",
    "pipeline = krixik.create_pipeline(name=\"delete_method_1_parser\", module_chain=[\"parser\"])\n",
    "\n",
    "# process short input file\n",
    "process_output = pipeline.process(\n",
    "    local_file_path=\"../../../data/input/1984_very_short.txt\",  # the initial local filepath where the input JSON file is stored\n",
    "    local_save_directory=\"../../../data/output\",  # the local directory that the output file will be saved to\n",
    "    expire_time=60 * 30,  # process data will be deleted from the Krixik system in 30 minutes\n",
    "    wait_for_process=True,  # do not wait for process to complete before returning IDE control to user\n",
    "    verbose=False,  # do not display process update printouts upon running code\n",
    "    symbolic_directory_path=\"/novels/20th-century\",\n",
    "    file_name=\"1984_sample.txt\",\n",
    "    file_tags=[{\"author\": \"Orwell\"}, {\"category\": \"dystopian\"}, {\"century\": \"20\"}],\n",
    ")"
   ]
  },
  {
   "cell_type": "markdown",
   "metadata": {},
   "source": [
    "Let's see what the files' records look like with the [`list`](list_method.md) method:"
   ]
  },
  {
   "cell_type": "code",
   "execution_count": 3,
   "metadata": {},
   "outputs": [
    {
     "name": "stdout",
     "output_type": "stream",
     "text": [
      "{\n",
      "  \"status_code\": 200,\n",
      "  \"request_id\": \"258e552d-1cee-4eed-915d-79687f58673c\",\n",
      "  \"message\": \"Successfully returned 1 item.  Note: all timestamps in UTC.\",\n",
      "  \"warnings\": [],\n",
      "  \"items\": [\n",
      "    {\n",
      "      \"last_updated\": \"2024-05-22 19:40:11\",\n",
      "      \"process_id\": \"b277c633-06c1-c66b-f450-22387f503375\",\n",
      "      \"created_at\": \"2024-05-22 19:40:11\",\n",
      "      \"file_metadata\": {\n",
      "        \"modules\": {\n",
      "          \"module_1\": {\n",
      "            \"parser\": {\n",
      "              \"model\": \"sentence\"\n",
      "            }\n",
      "          }\n",
      "        },\n",
      "        \"modules_data\": {\n",
      "          \"module_1\": {\n",
      "            \"parser\": {\n",
      "              \"data_files_extensions\": [\n",
      "                \".json\"\n",
      "              ],\n",
      "              \"num_lines\": 2\n",
      "            }\n",
      "          }\n",
      "        }\n",
      "      },\n",
      "      \"file_tags\": [\n",
      "        {\n",
      "          \"author\": \"orwell\"\n",
      "        },\n",
      "        {\n",
      "          \"category\": \"dystopian\"\n",
      "        },\n",
      "        {\n",
      "          \"century\": \"20\"\n",
      "        }\n",
      "      ],\n",
      "      \"file_description\": \"\",\n",
      "      \"symbolic_directory_path\": \"/novels/20th-century\",\n",
      "      \"pipeline\": \"delete_method_1_parser\",\n",
      "      \"file_id\": \"c0664f56-41f7-41d8-81a3-e4150f0df100\",\n",
      "      \"expire_time\": \"2024-05-22 20:10:10\",\n",
      "      \"file_name\": \"1984_sample.txt\"\n",
      "    }\n",
      "  ]\n",
      "}\n"
     ]
    }
   ],
   "source": [
    "# see both files' records with list (they're in the same symbolic_directory_path)\n",
    "list_output = pipeline.list(symbolic_directory_paths=[\"/novels/20th-century\"])\n",
    "\n",
    "# nicely print the output of this list\n",
    "print(json.dumps(list_output, indent=2))"
   ]
  },
  {
   "cell_type": "markdown",
   "metadata": {},
   "source": [
    "Both files' records are properly showing up.\n",
    "\n",
    "Now use the `delete` method and one of the files' `file_id`s to delete that file:"
   ]
  },
  {
   "cell_type": "code",
   "execution_count": 4,
   "metadata": {},
   "outputs": [
    {
     "name": "stdout",
     "output_type": "stream",
     "text": [
      "{\n",
      "  \"status_code\": 200,\n",
      "  \"pipeline\": \"delete_method_1_parser\",\n",
      "  \"request_id\": \"8c670f7f-91f0-46f8-9c40-b34b9d917662\",\n",
      "  \"message\": \"Successfully deleted file_id: c0664f56-41f7-41d8-81a3-e4150f0df100\",\n",
      "  \"warnings\": []\n",
      "}\n"
     ]
    }
   ],
   "source": [
    "# delete processed file's record and output with its file_id\n",
    "delete_output = pipeline.delete(file_id=process_output[\"file_id\"])\n",
    "\n",
    "# nicely print the output of this deletion\n",
    "print(json.dumps(delete_output, indent=2))"
   ]
  },
  {
   "cell_type": "markdown",
   "metadata": {},
   "source": [
    "We can check that the file has been deleted by using the [`list`](list_method.md) method on the same `symbolic_directory_path`:"
   ]
  },
  {
   "cell_type": "code",
   "execution_count": 5,
   "metadata": {},
   "outputs": [
    {
     "name": "stdout",
     "output_type": "stream",
     "text": [
      "{\n",
      "  \"status_code\": 200,\n",
      "  \"request_id\": \"97c9a982-3df2-44af-9fd8-bf2b79e7f535\",\n",
      "  \"message\": \"No files were found for the given query arguments\",\n",
      "  \"warnings\": [\n",
      "    {\n",
      "      \"WARNING: the following arguments returned zero results\": [\n",
      "        {\n",
      "          \"symbolic_directory_paths\": [\n",
      "            \"/novels/20th-century\"\n",
      "          ]\n",
      "        }\n",
      "      ]\n",
      "    }\n",
      "  ],\n",
      "  \"items\": []\n",
      "}\n"
     ]
    }
   ],
   "source": [
    "#  to confirm that one file has been deleted\n",
    "list_output = pipeline.list(symbolic_directory_paths=[\"/novels/20th-century\"])\n",
    "\n",
    "# nicely print the output of this\n",
    "print(json.dumps(list_output, indent=2))"
   ]
  },
  {
   "cell_type": "markdown",
   "metadata": {},
   "source": [
    "As expected, only one of the two previously [processed](../parameters_processing_files_through_pipelines/process_method.md) files shows up; the other has been deleted."
   ]
  },
  {
   "cell_type": "code",
   "execution_count": 6,
   "metadata": {
    "tags": [
     "remove_cell"
    ]
   },
   "outputs": [],
   "source": [
    "# delete all processed datapoints belonging to this pipeline\n",
    "reset_pipeline(pipeline)"
   ]
  }
 ],
 "metadata": {
  "kernelspec": {
   "display_name": "myenv",
   "language": "python",
   "name": "python3"
  },
  "language_info": {
   "codemirror_mode": {
    "name": "ipython",
    "version": 3
   },
   "file_extension": ".py",
   "mimetype": "text/x-python",
   "name": "python",
   "nbconvert_exporter": "python",
   "pygments_lexer": "ipython3",
   "version": "3.10.13"
  }
 },
 "nbformat": 4,
 "nbformat_minor": 2
}
