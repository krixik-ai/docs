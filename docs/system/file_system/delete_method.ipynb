{
 "cells": [
  {
   "cell_type": "markdown",
   "metadata": {},
   "source": [
    "## The `.delete` Method"
   ]
  },
  {
   "cell_type": "markdown",
   "metadata": {},
   "source": [
    "You can delete all records of a processed file from the Krixik system with the `.delete` method. This is the manual version of letting the [`expire_time`](../system/parameters_processing_files_through_pipelines/process_method.md#core-process-method-arguments) run out on a file."
   ]
  },
  {
   "cell_type": "markdown",
   "metadata": {},
   "source": [
    "### `.delete` Method Arguments\n",
    "\n",
    "The `.delete` method takes a single (required) argument:\n",
    "\n",
    "- `file_id` (str) - The `file_id` of the processed file whose record you wish to entirely delete from Krixik servers."
   ]
  },
  {
   "cell_type": "markdown",
   "metadata": {},
   "source": [
    "### `.delete` Method Example"
   ]
  },
  {
   "cell_type": "markdown",
   "metadata": {},
   "source": [
    "For this document's example we will use a pipeline consisting of a single [`parser`](../../modules/ai_model_modules/parser_module.md) module.  We use the [`.create_pipeline`](../pipeline_creation/create_pipeline.md) method to instantiate the pipeline, and then [`.process`](../parameters_processing_files_through_pipelines/process_method.md) two files through it into the same `symbolic_directory_path` (to make the demonstration clearer):"
   ]
  },
  {
   "cell_type": "code",
   "execution_count": null,
   "metadata": {},
   "outputs": [],
   "source": [
    "# create an example pipeline with a single module\n",
    "\n",
    "pipeline_1 = krixik.create_pipeline(name=\"delete_method_1_parser\",\n",
    "                                    module_chain=[\"parser\"])\n",
    "\n",
    "# process short input file\n",
    "process_output_1 = pipeline_1.process(local_file_path=\"../../data/input/Frankenstein.txt\", # the initial local filepath where the input JSON file is stored\n",
    "                                      expire_time=60 * 30,  # process data will be deleted from the Krixik system in 30 minutes\n",
    "                                      wait_for_process=True,  # do not wait for process to complete before returning IDE control to user\n",
    "                                      verbose=False,  # do not display process update printouts upon running code\n",
    "                                      symbolic_directory_path=\"/novels/19th-century\",\n",
    "                                      file_name=\"Frankenstein.txt\",\n",
    "                                      file_tags=[{\"author\": \"Shelley\"}, {\"category\": \"gothic\"}, {\"century\": 19}])\n",
    "\n",
    "process_output_2 = pipeline_1.process(local_file_path=\"../../data/input/Moby Dick.txt\", # the initial local filepath where the input JSON file is stored\n",
    "                                      expire_time=60 * 30,  # process data will be deleted from the Krixik system in 30 minutes\n",
    "                                      wait_for_process=True,  # do not wait for process to complete before returning IDE control to user\n",
    "                                      verbose=False,  # do not display process update printouts upon running code\n",
    "                                      symbolic_directory_path=\"/novels/19th-century\",\n",
    "                                      file_name=\"Moby Dick.txt\",\n",
    "                                      file_tags=[{\"author\": \"Melville\"}, {\"category\": \"adventure\"}, {\"century\": 19}])"
   ]
  },
  {
   "cell_type": "markdown",
   "metadata": {},
   "source": [
    "Let's see what the files' records look like with the [`.list`](../file_system/list_method.md) method:"
   ]
  },
  {
   "cell_type": "code",
   "execution_count": null,
   "metadata": {},
   "outputs": [],
   "source": [
    "# see both files' records with .list (they're in the same symbolic_directory_path)\n",
    "\n",
    "list_output_1 = pipeline_1.list(symbolic_directory_paths=[\"/novels/19th-century\"])\n",
    "\n",
    "# nicely print the output of this .list\n",
    "\n",
    "print(json.dumps(list_output_1, indent=2))"
   ]
  },
  {
   "cell_type": "markdown",
   "metadata": {},
   "source": [
    "Both files' records are properly showing up.\n",
    "\n",
    "Now use the `.delete` method and one of the files' `file_id`s to delete that file:"
   ]
  },
  {
   "cell_type": "code",
   "execution_count": null,
   "metadata": {},
   "outputs": [
    {
     "name": "stdout",
     "output_type": "stream",
     "text": [
      "{\n",
      "  \"status_code\": 200,\n",
      "  \"pipeline\": \"parser-pipeline-1\",\n",
      "  \"request_id\": \"693d3da8-1e0d-4f24-b85a-2c8287320b51\",\n",
      "  \"message\": \"Successfully deleted file_id: ddb925f3-8cfb-4fdc-bd10-dbb68adecb04\",\n",
      "  \"warnings\": []\n",
      "}\n"
     ]
    }
   ],
   "source": [
    "# delete processed file's record and output with its file_id\n",
    "\n",
    "delete_output_1 = pipeline_1.delete(file_id=\"XXX\")\n",
    "\n",
    "# nicely print the output of this deletion\n",
    "\n",
    "print(json.dumps(delete_output_1, indent=2))"
   ]
  },
  {
   "cell_type": "markdown",
   "metadata": {},
   "source": [
    "We can check that the file has been deleted by using the [`.list`](../file_system/list_method.md) method on the same `symbolic_directory_path`:"
   ]
  },
  {
   "cell_type": "code",
   "execution_count": null,
   "metadata": {},
   "outputs": [
    {
     "name": "stdout",
     "output_type": "stream",
     "text": [
      "{\n",
      "  \"status_code\": 200,\n",
      "  \"request_id\": \"b4f69db4-fece-4b3d-8184-420ebfd912d2\",\n",
      "  \"message\": \"No items found for input query arguments\",\n",
      "  \"warnings\": [\n",
      "    {\n",
      "      \"WARNING: the following file_ids were not found\": [\n",
      "        \"ddb925f3-8cfb-4fdc-bd10-dbb68adecb04\"\n",
      "      ]\n",
      "    }\n",
      "  ],\n",
      "  \"items\": []\n",
      "}\n"
     ]
    }
   ],
   "source": [
    "# .list to confirm that one file has been deleted\n",
    "\n",
    "list_output_2 = pipeline_1.list(symbolic_directory_paths=[\"/novels/19th-century\"])\n",
    "\n",
    "# nicely print the output of this .list\n",
    "\n",
    "print(json.dumps(list_output_2, indent=2))"
   ]
  },
  {
   "cell_type": "code",
   "execution_count": null,
   "metadata": {
    "tags": [
     "remove_cell"
    ]
   },
   "outputs": [],
   "source": [
    "# delete all processed datapoints belonging to this pipeline\n",
    "\n",
    "reset_pipeline(pipeline_1)"
   ]
  }
 ],
 "metadata": {
  "language_info": {
   "name": "python"
  }
 },
 "nbformat": 4,
 "nbformat_minor": 2
}
