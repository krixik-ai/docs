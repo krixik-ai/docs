{
 "cells": [
  {
   "cell_type": "markdown",
   "metadata": {},
   "source": [
    "## The `.delete` Method\n",
    "\n",
    "You can delete all records of a processed file from the Krixik system with the `.delete` method. This is the manual version of letting the [`expire_time`](../parameters_processing_files_through_pipelines/process_method.md#core-process-method-arguments) run out on a file."
   ]
  },
  {
   "cell_type": "code",
   "execution_count": 1,
   "metadata": {
    "tags": [
     "remove_cell"
    ]
   },
   "outputs": [
    {
     "name": "stdout",
     "output_type": "stream",
     "text": [
      "SUCCESS: You are now authenticated.\n"
     ]
    }
   ],
   "source": [
    "# import utilities\n",
    "import sys \n",
    "import json\n",
    "import importlib\n",
    "sys.path.append('../../../')\n",
    "reset = importlib.import_module(\"utilities.reset\")\n",
    "reset_pipeline = reset.reset_pipeline\n",
    "\n",
    "# load secrets from a .env file using python-dotenv\n",
    "from dotenv import load_dotenv\n",
    "import os\n",
    "load_dotenv(\"../../../.env\")\n",
    "MY_API_KEY = os.getenv('MY_API_KEY')\n",
    "MY_API_URL = os.getenv('MY_API_URL')\n",
    "\n",
    "# import krixik and initialize it with your personal secrets\n",
    "from krixik import krixik\n",
    "krixik.init(api_key = MY_API_KEY, \n",
    "            api_url = MY_API_URL)"
   ]
  },
  {
   "cell_type": "markdown",
   "metadata": {},
   "source": [
    "### `.delete` Method Arguments\n",
    "\n",
    "The `.delete` method takes a single (required) argument:\n",
    "\n",
    "- `file_id` (str) - The `file_id` of the processed file whose record you wish to entirely delete from Krixik servers."
   ]
  },
  {
   "cell_type": "markdown",
   "metadata": {},
   "source": [
    "### `.delete` Method Example"
   ]
  },
  {
   "cell_type": "markdown",
   "metadata": {},
   "source": [
    "For this document's example we will use a pipeline consisting of a single [`parser`](../../modules/ai_model_modules/parser_module.md) module.  We use the [`.create_pipeline`](../pipeline_creation/create_pipeline.md) method to instantiate the pipeline, and then [`.process`](../parameters_processing_files_through_pipelines/process_method.md) two files through it into the same `symbolic_directory_path` (to make the demonstration clearer):"
   ]
  },
  {
   "cell_type": "code",
   "execution_count": 8,
   "metadata": {
    "tags": [
     "skip-execution"
    ]
   },
   "outputs": [
    {
     "name": "stdout",
     "output_type": "stream",
     "text": [
      "INFO: output json downloaded but larger than 0.5MB and will not be returned with .process output\n",
      "INFO: output json downloaded but larger than 0.5MB and will not be returned with .process output\n"
     ]
    }
   ],
   "source": [
    "# create an example pipeline with a single module\n",
    "\n",
    "pipeline_1 = krixik.create_pipeline(name=\"delete_method_1_parser\",\n",
    "                                    module_chain=[\"parser\"])\n",
    "\n",
    "# process short input file\n",
    "process_output_1 = pipeline_1.process(local_file_path=\"../../../data/input/Frankenstein.txt\", # the initial local filepath where the input JSON file is stored\n",
    "                                      expire_time=60 * 30,  # process data will be deleted from the Krixik system in 30 minutes\n",
    "                                      wait_for_process=True,  # do not wait for process to complete before returning IDE control to user\n",
    "                                      verbose=False,  # do not display process update printouts upon running code\n",
    "                                      symbolic_directory_path=\"/novels/19th-century\",\n",
    "                                      file_name=\"Frankenstein.txt\",\n",
    "                                      file_tags=[{\"author\": \"Shelley\"}, {\"category\": \"gothic\"}, {\"century\": \"19\"}])\n",
    "\n",
    "process_output_2 = pipeline_1.process(local_file_path=\"../../../data/input/Moby Dick.txt\", # the initial local filepath where the input JSON file is stored\n",
    "                                      expire_time=60 * 30,  # process data will be deleted from the Krixik system in 30 minutes\n",
    "                                      wait_for_process=True,  # do not wait for process to complete before returning IDE control to user\n",
    "                                      verbose=False,  # do not display process update printouts upon running code\n",
    "                                      symbolic_directory_path=\"/novels/19th-century\",\n",
    "                                      file_name=\"Moby Dick.txt\",\n",
    "                                      file_tags=[{\"author\": \"Melville\"}, {\"category\": \"adventure\"}, {\"century\": \"19\"}])"
   ]
  },
  {
   "cell_type": "markdown",
   "metadata": {},
   "source": [
    "Let's see what the files' records look like with the [`.list`](list_method.md) method:"
   ]
  },
  {
   "cell_type": "code",
   "execution_count": 9,
   "metadata": {
    "tags": [
     "skip-execution"
    ]
   },
   "outputs": [
    {
     "name": "stdout",
     "output_type": "stream",
     "text": [
      "{\n",
      "  \"status_code\": 200,\n",
      "  \"request_id\": \"1496a1a2-1bd6-4ae0-a54d-743fcefc846d\",\n",
      "  \"message\": \"Successfully returned 2 items.  Note: all timestamps in UTC.\",\n",
      "  \"warnings\": [],\n",
      "  \"items\": [\n",
      "    {\n",
      "      \"last_updated\": \"2024-05-20 02:56:41\",\n",
      "      \"process_id\": \"602f1b2a-2267-0af0-e278-3d5ae10e571d\",\n",
      "      \"created_at\": \"2024-05-20 02:56:41\",\n",
      "      \"file_metadata\": {\n",
      "        \"modules\": {\n",
      "          \"module_1\": {\n",
      "            \"parser\": {\n",
      "              \"model\": \"sentence\"\n",
      "            }\n",
      "          }\n",
      "        },\n",
      "        \"modules_data\": {\n",
      "          \"module_1\": {\n",
      "            \"parser\": {\n",
      "              \"data_files_extensions\": [\n",
      "                \".json\"\n",
      "              ],\n",
      "              \"num_lines\": 9184\n",
      "            }\n",
      "          }\n",
      "        }\n",
      "      },\n",
      "      \"file_tags\": [\n",
      "        {\n",
      "          \"author\": \"melville\"\n",
      "        },\n",
      "        {\n",
      "          \"category\": \"adventure\"\n",
      "        },\n",
      "        {\n",
      "          \"century\": \"19\"\n",
      "        }\n",
      "      ],\n",
      "      \"file_description\": \"\",\n",
      "      \"symbolic_directory_path\": \"/novels/19th-century\",\n",
      "      \"pipeline\": \"delete_method_1_parser\",\n",
      "      \"file_id\": \"adf1d212-eb1c-460c-b526-4eeb09450962\",\n",
      "      \"expire_time\": \"2024-05-20 03:26:40\",\n",
      "      \"file_name\": \"moby dick.txt\"\n",
      "    },\n",
      "    {\n",
      "      \"last_updated\": \"2024-05-20 02:56:26\",\n",
      "      \"process_id\": \"aa4a086a-0839-63d9-dc9b-75e4f30fe911\",\n",
      "      \"created_at\": \"2024-05-20 02:56:26\",\n",
      "      \"file_metadata\": {\n",
      "        \"modules\": {\n",
      "          \"module_1\": {\n",
      "            \"parser\": {\n",
      "              \"model\": \"sentence\"\n",
      "            }\n",
      "          }\n",
      "        },\n",
      "        \"modules_data\": {\n",
      "          \"module_1\": {\n",
      "            \"parser\": {\n",
      "              \"data_files_extensions\": [\n",
      "                \".json\"\n",
      "              ],\n",
      "              \"num_lines\": 3199\n",
      "            }\n",
      "          }\n",
      "        }\n",
      "      },\n",
      "      \"file_tags\": [\n",
      "        {\n",
      "          \"author\": \"shelley\"\n",
      "        },\n",
      "        {\n",
      "          \"category\": \"gothic\"\n",
      "        },\n",
      "        {\n",
      "          \"century\": \"19\"\n",
      "        }\n",
      "      ],\n",
      "      \"file_description\": \"\",\n",
      "      \"symbolic_directory_path\": \"/novels/19th-century\",\n",
      "      \"pipeline\": \"delete_method_1_parser\",\n",
      "      \"file_id\": \"e1c9b5c4-132d-4922-a05e-3eeaeda87e47\",\n",
      "      \"expire_time\": \"2024-05-20 03:26:25\",\n",
      "      \"file_name\": \"frankenstein.txt\"\n",
      "    }\n",
      "  ]\n",
      "}\n"
     ]
    }
   ],
   "source": [
    "# see both files' records with .list (they're in the same symbolic_directory_path)\n",
    "\n",
    "list_output_1 = pipeline_1.list(symbolic_directory_paths=[\"/novels/19th-century\"])\n",
    "\n",
    "# nicely print the output of this .list\n",
    "\n",
    "print(json.dumps(list_output_1, indent=2))"
   ]
  },
  {
   "cell_type": "markdown",
   "metadata": {},
   "source": [
    "Both files' records are properly showing up.\n",
    "\n",
    "Now use the `.delete` method and one of the files' `file_id`s to delete that file:"
   ]
  },
  {
   "cell_type": "code",
   "execution_count": 10,
   "metadata": {
    "tags": [
     "skip-execution"
    ]
   },
   "outputs": [
    {
     "name": "stdout",
     "output_type": "stream",
     "text": [
      "{\n",
      "  \"status_code\": 200,\n",
      "  \"pipeline\": \"delete_method_1_parser\",\n",
      "  \"request_id\": \"341c883f-6433-4674-ab22-c0361cf7eb63\",\n",
      "  \"message\": \"Successfully deleted file_id: e1c9b5c4-132d-4922-a05e-3eeaeda87e47\",\n",
      "  \"warnings\": []\n",
      "}\n"
     ]
    }
   ],
   "source": [
    "# delete processed file's record and output with its file_id\n",
    "\n",
    "delete_output_1 = pipeline_1.delete(file_id=\"e1c9b5c4-132d-4922-a05e-3eeaeda87e47\")\n",
    "\n",
    "# nicely print the output of this deletion\n",
    "\n",
    "print(json.dumps(delete_output_1, indent=2))"
   ]
  },
  {
   "cell_type": "markdown",
   "metadata": {},
   "source": [
    "We can check that the file has been deleted by using the [`.list`](list_method.md) method on the same `symbolic_directory_path`:"
   ]
  },
  {
   "cell_type": "code",
   "execution_count": 11,
   "metadata": {
    "tags": [
     "skip-execution"
    ]
   },
   "outputs": [
    {
     "name": "stdout",
     "output_type": "stream",
     "text": [
      "{\n",
      "  \"status_code\": 200,\n",
      "  \"request_id\": \"3216abaa-5262-450b-920b-7d23624eddcb\",\n",
      "  \"message\": \"Successfully returned 1 item.  Note: all timestamps in UTC.\",\n",
      "  \"warnings\": [],\n",
      "  \"items\": [\n",
      "    {\n",
      "      \"last_updated\": \"2024-05-20 02:56:41\",\n",
      "      \"process_id\": \"602f1b2a-2267-0af0-e278-3d5ae10e571d\",\n",
      "      \"created_at\": \"2024-05-20 02:56:41\",\n",
      "      \"file_metadata\": {\n",
      "        \"modules\": {\n",
      "          \"module_1\": {\n",
      "            \"parser\": {\n",
      "              \"model\": \"sentence\"\n",
      "            }\n",
      "          }\n",
      "        },\n",
      "        \"modules_data\": {\n",
      "          \"module_1\": {\n",
      "            \"parser\": {\n",
      "              \"data_files_extensions\": [\n",
      "                \".json\"\n",
      "              ],\n",
      "              \"num_lines\": 9184\n",
      "            }\n",
      "          }\n",
      "        }\n",
      "      },\n",
      "      \"file_tags\": [\n",
      "        {\n",
      "          \"author\": \"melville\"\n",
      "        },\n",
      "        {\n",
      "          \"category\": \"adventure\"\n",
      "        },\n",
      "        {\n",
      "          \"century\": \"19\"\n",
      "        }\n",
      "      ],\n",
      "      \"file_description\": \"\",\n",
      "      \"symbolic_directory_path\": \"/novels/19th-century\",\n",
      "      \"pipeline\": \"delete_method_1_parser\",\n",
      "      \"file_id\": \"adf1d212-eb1c-460c-b526-4eeb09450962\",\n",
      "      \"expire_time\": \"2024-05-20 03:26:40\",\n",
      "      \"file_name\": \"moby dick.txt\"\n",
      "    }\n",
      "  ]\n",
      "}\n"
     ]
    }
   ],
   "source": [
    "# .list to confirm that one file has been deleted\n",
    "\n",
    "list_output_2 = pipeline_1.list(symbolic_directory_paths=[\"/novels/19th-century\"])\n",
    "\n",
    "# nicely print the output of this .list\n",
    "\n",
    "print(json.dumps(list_output_2, indent=2))"
   ]
  },
  {
   "cell_type": "markdown",
   "metadata": {},
   "source": [
    "As expected, only one of the two previously [processed](../parameters_processing_files_through_pipelines/process_method.md) files shows up; the other has been deleted."
   ]
  },
  {
   "cell_type": "code",
   "execution_count": 12,
   "metadata": {
    "tags": [
     "remove_cell"
    ]
   },
   "outputs": [],
   "source": [
    "# delete all processed datapoints belonging to this pipeline\n",
    "\n",
    "reset_pipeline(pipeline_1)"
   ]
  }
 ],
 "metadata": {
  "kernelspec": {
   "display_name": "myenv",
   "language": "python",
   "name": "python3"
  },
  "language_info": {
   "codemirror_mode": {
    "name": "ipython",
    "version": 3
   },
   "file_extension": ".py",
   "mimetype": "text/x-python",
   "name": "python",
   "nbconvert_exporter": "python",
   "pygments_lexer": "ipython3",
   "version": "3.12.0"
  }
 },
 "nbformat": 4,
 "nbformat_minor": 2
}
