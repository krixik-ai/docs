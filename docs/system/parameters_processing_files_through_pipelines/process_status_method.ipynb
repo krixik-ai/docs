{
 "cells": [
  {
   "cell_type": "markdown",
   "metadata": {},
   "source": [
    "## The `.process_status` Method\n",
    "\n",
    "The `.process_status` method is available on every Krixik pipeline. It is invoked whenever you want to check the status of files being processed through a pipeline.\n",
    "\n",
    "This method is especially useful when using the [`.process`](process_method.md) method with `wait_for_process` set to `False`, for it gives you visibility into processes that have continued server-side after you regain control of your IDE.\n",
    "\n",
    "This overview of the `.process_status` method is divided into the following sections:\n",
    "\n",
    "- [.process_status Method Arguments](#process_status-method-arguments)\n",
    "- [.process_status Example](#process_status-example)\n",
    "- [.process_status Example with Deleted File](#process_status-example-with-deleted-file)"
   ]
  },
  {
   "cell_type": "code",
   "execution_count": 1,
   "metadata": {
    "tags": [
     "remove_cell"
    ]
   },
   "outputs": [
    {
     "name": "stdout",
     "output_type": "stream",
     "text": [
      "SUCCESS: You are now authenticated.\n"
     ]
    }
   ],
   "source": [
    "# import utilities\n",
    "import sys \n",
    "import json\n",
    "import importlib\n",
    "sys.path.append('../../../')\n",
    "reset = importlib.import_module(\"utilities.reset\")\n",
    "reset_pipeline = reset.reset_pipeline\n",
    "\n",
    "# load secrets from a .env file using python-dotenv\n",
    "from dotenv import load_dotenv\n",
    "import os\n",
    "load_dotenv(\"../../../.env\")\n",
    "MY_API_KEY = os.getenv('MY_API_KEY')\n",
    "MY_API_URL = os.getenv('MY_API_URL')\n",
    "\n",
    "# import krixik and initialize it with your personal secrets\n",
    "from krixik import krixik\n",
    "krixik.init(api_key = MY_API_KEY, \n",
    "            api_url = MY_API_URL)"
   ]
  },
  {
   "cell_type": "markdown",
   "metadata": {},
   "source": [
    "### `.process_status` Method Arguments\n",
    "\n",
    "The `.process_status` method takes a single argument:\n",
    "\n",
    "- `request_id`: (required, str) The unique ID associated with the relevant execution instance of the [`.process`](process_method.md) method."
   ]
  },
  {
   "cell_type": "markdown",
   "metadata": {},
   "source": [
    "### `.process_status` Example\n",
    "\n",
    "Let's examine how the `.process_status` method works when the [`.process`](process_method.md) method succeeds. `wait_for_process` will be set to `False`.\n",
    "\n",
    "First we'll need to create a pipeline. We can use a single-module pipeline with a [`keyword-db`](../../modules/database_modules/keyword-db_module.md) module for this example:"
   ]
  },
  {
   "cell_type": "code",
   "execution_count": 6,
   "metadata": {},
   "outputs": [],
   "source": [
    "# create a pipeline with a single parser module\n",
    "\n",
    "pipeline_1 = krixik.create_pipeline(name=\"process_status_method_1_keyword-db\",\n",
    "                                    module_chain=[\"keyword-db\"])"
   ]
  },
  {
   "cell_type": "markdown",
   "metadata": {},
   "source": [
    "Now we'll process a file through your pipeline. Let's use a text file holding Herman Melville's <u>Moby Dick</u>:"
   ]
  },
  {
   "cell_type": "code",
   "execution_count": 7,
   "metadata": {
    "tags": [
     "skip-execution"
    ]
   },
   "outputs": [],
   "source": [
    "# process text file through pipeline with wait_for_process on False\n",
    "\n",
    "process_output_1 = pipeline_1.process(local_file_path=\"../../../data/input/Moby Dick.txt\", # the initial local filepath where the input JSON file is stored\n",
    "                                      expire_time=60 * 30, # process data will be deleted from the Krixik system in 30 minutes\n",
    "                                      wait_for_process=False, # do not wait for process to complete before returning IDE control to user\n",
    "                                      verbose=False) # do not display process update printouts upon running code"
   ]
  },
  {
   "cell_type": "markdown",
   "metadata": {},
   "source": [
    "What does immediate output for this process look like?"
   ]
  },
  {
   "cell_type": "code",
   "execution_count": 8,
   "metadata": {
    "tags": [
     "skip-execution"
    ]
   },
   "outputs": [
    {
     "name": "stdout",
     "output_type": "stream",
     "text": [
      "{\n",
      "  \"file_id\": \"bc7f17d4-c3d8-49db-a482-1795d16da450\",\n",
      "  \"request_id\": \"c4bdd067-4bc8-78b7-836b-80729a0d2950\",\n",
      "  \"file_name\": \"krixik_generated_file_name_rgjvqsxgrz.txt\",\n",
      "  \"symbolic_directory_path\": \"/etc\",\n",
      "  \"file_tags\": null,\n",
      "  \"file_description\": null\n",
      "}\n"
     ]
    }
   ],
   "source": [
    "# nicely print the output of this process\n",
    "\n",
    "print(json.dumps(process_output_1, indent=2))"
   ]
  },
  {
   "cell_type": "markdown",
   "metadata": {},
   "source": [
    "That's all you see because you retook control of the IDE as soon as the upload to Krixik was completed; the `process_output_1` variable doesn't know how the rest of the process went.\n",
    "\n",
    "You can check the status of the process by feeding the `request_id` (returned when you called the [`.process`](process_method.md) method) to the `.process_status` method, as follows:"
   ]
  },
  {
   "cell_type": "code",
   "execution_count": 9,
   "metadata": {
    "tags": [
     "skip-execution"
    ]
   },
   "outputs": [
    {
     "name": "stdout",
     "output_type": "stream",
     "text": [
      "{\n",
      "  \"status_code\": 200,\n",
      "  \"request_id\": \"1bd279bd-f5a0-4ddf-ad55-e48ede648c0a\",\n",
      "  \"file_id\": \"bc7f17d4-c3d8-49db-a482-1795d16da450\",\n",
      "  \"message\": \"SUCCESS: process_status found\",\n",
      "  \"pipeline\": \"process_status_method_1_keyword-db\",\n",
      "  \"process_status\": {\n",
      "    \"module_1\": false\n",
      "  },\n",
      "  \"overall_status\": \"ongoing\"\n",
      "}\n"
     ]
    }
   ],
   "source": [
    "# invoke .process_status\n",
    "\n",
    "process_1_status = pipeline_1.process_status(request_id=\"c4bdd067-4bc8-78b7-836b-80729a0d2950\")\n",
    "\n",
    "# nicely print the output our .process_status call\n",
    "\n",
    "print(json.dumps(process_1_status, indent=2))"
   ]
  },
  {
   "cell_type": "markdown",
   "metadata": {},
   "source": [
    "Here you can see that your process has not yet finalized; its `overall_status` shows as `\"ongoing\"`.\n",
    "\n",
    "If we wait a few moments and try again, you will see confirmation that the process completed successfully."
   ]
  },
  {
   "cell_type": "code",
   "execution_count": 10,
   "metadata": {
    "tags": [
     "skip-execution"
    ]
   },
   "outputs": [
    {
     "name": "stdout",
     "output_type": "stream",
     "text": [
      "{\n",
      "  \"status_code\": 200,\n",
      "  \"request_id\": \"b68886fe-a690-4483-9388-b0484a79af77\",\n",
      "  \"file_id\": \"bc7f17d4-c3d8-49db-a482-1795d16da450\",\n",
      "  \"message\": \"SUCCESS: process_status found\",\n",
      "  \"pipeline\": \"process_status_method_1_keyword-db\",\n",
      "  \"process_status\": {\n",
      "    \"module_1\": true\n",
      "  },\n",
      "  \"overall_status\": \"complete\"\n",
      "}\n"
     ]
    }
   ],
   "source": [
    "# invoke .process_status again\n",
    "\n",
    "process_1_status = pipeline_1.process_status(request_id=\"c4bdd067-4bc8-78b7-836b-80729a0d2950\")\n",
    "\n",
    "# nicely print the output our .process_status call again\n",
    "\n",
    "print(json.dumps(process_1_status, indent=2))"
   ]
  },
  {
   "cell_type": "markdown",
   "metadata": {},
   "source": [
    "### `.process_status` Example with Deleted File\n",
    "\n",
    "As you have just observed, `.process_status` on a failed [`.process`](process_method.md) attempt shows us that the process failed.\n",
    "\n",
    "What happens when the file `.process_status` is run on [expires](process_method.md#core-process-method-arguments) or is manually [deleted](../file_system/delete_method.md) from the Krixik system?\n",
    "\n",
    "We take deletion seriously at Krixik—if a file is [deleted](../file_system/delete_method.md), it's entirely wiped from the system. Consequently, calling the `.process_status` method on an [expired](process_method.md#core-process-method-arguments) or manually [deleted](../file_system/delete_method.md) file will tell you that the `request_id` you used as an argument was not found. The file is gone, as is any record of its having been processed in the first place."
   ]
  },
  {
   "cell_type": "code",
   "execution_count": 12,
   "metadata": {
    "tags": [
     "remove_cell"
    ]
   },
   "outputs": [],
   "source": [
    "# delete all processed datapoints belonging to this pipeline\n",
    "import time\n",
    "\n",
    "time.sleep(10)\n",
    "reset_pipeline(pipeline_1)"
   ]
  }
 ],
 "metadata": {
  "kernelspec": {
   "display_name": "venv",
   "language": "python",
   "name": "python3"
  },
  "language_info": {
   "codemirror_mode": {
    "name": "ipython",
    "version": 3
   },
   "file_extension": ".py",
   "mimetype": "text/x-python",
   "name": "python",
   "nbconvert_exporter": "python",
   "pygments_lexer": "ipython3",
   "version": "3.12.0"
  }
 },
 "nbformat": 4,
 "nbformat_minor": 2
}
