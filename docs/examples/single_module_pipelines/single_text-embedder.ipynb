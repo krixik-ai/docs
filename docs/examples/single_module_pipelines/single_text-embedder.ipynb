{
 "cells": [
  {
   "cell_type": "markdown",
   "metadata": {},
   "source": [
    "## Single-Module Pipeline: `text-embedder`\n",
    "\n",
    "This document is a walkthrough of how to assemble and use a single-module pipeline that only includes a [`text-embedder`](../../modules/ai_model_modules/text-embedder_module.md) module. It's divided into the following sections:\n",
    "\n",
    "- [Pipeline Setup](#pipeline-setup)\n",
    "- [Required Input Format](#required-input-format)\n",
    "- [Using the Default Model](#using-the-default-model)\n",
    "- [Examining Process Output Locally](#examining-process-output-locally)\n",
    "- [Using a Non-Default Model](#using-a-non-default-model)"
   ]
  },
  {
   "cell_type": "code",
   "execution_count": 1,
   "metadata": {
    "tags": [
     "remove_cell"
    ]
   },
   "outputs": [
    {
     "name": "stdout",
     "output_type": "stream",
     "text": [
      "SUCCESS: You are now authenticated.\n"
     ]
    }
   ],
   "source": [
    "# import utilities\n",
    "import sys \n",
    "import json\n",
    "import importlib\n",
    "sys.path.append('../../../')\n",
    "reset = importlib.import_module(\"utilities.reset\")\n",
    "reset_pipeline = reset.reset_pipeline\n",
    "\n",
    "# load secrets from a .env file using python-dotenv\n",
    "from dotenv import load_dotenv\n",
    "import os\n",
    "load_dotenv(\"../../../.env\")\n",
    "MY_API_KEY = os.getenv('MY_API_KEY')\n",
    "MY_API_URL = os.getenv('MY_API_URL')\n",
    "\n",
    "# import krixik and initialize it with your personal secrets\n",
    "from krixik import krixik\n",
    "krixik.init(api_key = MY_API_KEY, \n",
    "            api_url = MY_API_URL)"
   ]
  },
  {
   "cell_type": "markdown",
   "metadata": {},
   "source": [
    "### Pipeline Setup\n",
    "\n",
    "Let's first instantiate a single-module [`text-embedder`](../../modules/ai_model_modules/text-embedder_module.md) pipeline.\n",
    "\n",
    "We use the [`.create_pipeline`](../../system/pipeline_creation/create_pipeline.md) method for this, passing only the [`text-embedder`](../../modules/ai_model_modules/text-embedder_module.md) module name into `module_chain`."
   ]
  },
  {
   "cell_type": "code",
   "execution_count": 2,
   "metadata": {},
   "outputs": [],
   "source": [
    "# create a pipeline with a single text-embedder module\n",
    "\n",
    "pipeline_1 = krixik.create_pipeline(name=\"single_text-embedder-1\",\n",
    "                                    module_chain=[\"text-embedder\"])"
   ]
  },
  {
   "cell_type": "markdown",
   "metadata": {},
   "source": [
    "### Required Input Format"
   ]
  },
  {
   "cell_type": "markdown",
   "metadata": {},
   "source": [
    "The [`text-embedder`](../../modules/ai_model_modules/text-embedder_module.md) module accepts JSON file input. The input JSON must respect [this format](../../system/parameters_processing_files_through_pipelines/JSON_input_format.md).\n",
    "\n",
    "The JSON file may optionally also include, along with each snippet, a key-value pair in which the key is the string `\"line numbers\"` and the value is an integer list of every line number of the original document that the snippet is on. This will make it easier for you to identify what document line each vector is an embedding of.\n",
    "\n",
    "Let's take a quick look at a valid input file, and then process it."
   ]
  },
  {
   "cell_type": "code",
   "execution_count": 4,
   "metadata": {},
   "outputs": [
    {
     "name": "stdout",
     "output_type": "stream",
     "text": [
      "[\n",
      "  {\n",
      "    \"snippet\": \"It was a bright cold day in April, and the clocks were striking thirteen.\",\n",
      "    \"line_numbers\": [\n",
      "      1\n",
      "    ]\n",
      "  },\n",
      "  {\n",
      "    \"snippet\": \"Winston Smith, his chin nuzzled into his breast in an effort to escape the\\nvile wind, slipped quickly through the glass doors of Victory Mansions,\\nthough not quickly enough to prevent a swirl of gritty dust from entering\\nalong with him.\",\n",
      "    \"line_numbers\": [\n",
      "      2,\n",
      "      3,\n",
      "      4,\n",
      "      5\n",
      "    ]\n",
      "  }\n",
      "]\n"
     ]
    }
   ],
   "source": [
    "# examine contents of a valid input file\n",
    "\n",
    "with open(\"../../../data/input/1984_snippets.json\", \"r\") as file:\n",
    "    print(json.dumps(json.load(file), indent=2))"
   ]
  },
  {
   "cell_type": "markdown",
   "metadata": {},
   "source": [
    "### Using the Default Model"
   ]
  },
  {
   "cell_type": "markdown",
   "metadata": {},
   "source": [
    "Let's process our test input file using the [`text-embedder`](../../modules/ai_model_modules/text-embedder_module.md) module's [default model](../../modules/ai_model_modules/text-embedder_module.md#available-models-in-the-text-embedder-module): [`all-MiniLM-L6-v2`](https://huggingface.co/sentence-transformers/all-MiniLM-L6-v2).\n",
    "\n",
    "Given that this is the default model, we need not specify model selection through the optional [`modules`](../../system/parameters_processing_files_through_pipelines/process_method.md#selecting-models-via-the-modules-argument) argument in the [`.process`](../../system/parameters_processing_files_through_pipelines/process_method.md) method.\n",
    "\n",
    "In a later section of this document we will process the same file again, but select our model and the quantization thereof explicitly."
   ]
  },
  {
   "cell_type": "code",
   "execution_count": 5,
   "metadata": {},
   "outputs": [],
   "source": [
    "# process the file with the default model\n",
    "\n",
    "process_output_1 = pipeline_1.process(local_file_path=\"../../../data/input/1984_snippets.json\", # the initial local filepath where the input file is stored\n",
    "                                      local_save_directory=\"../../../data/output\", # the local directory that the output file will be saved to\n",
    "                                      expire_time=60 * 30, # process data will be deleted from the Krixik system in 30 minutes\n",
    "                                      wait_for_process=True, # wait for process to complete before returning IDE control to user\n",
    "                                      verbose=False) # do not display process update printouts upon running code"
   ]
  },
  {
   "cell_type": "markdown",
   "metadata": {},
   "source": [
    "The output of this process is printed below. To learn more about each component of the output, review documentation for the [`.process`](../../system/parameters_processing_files_through_pipelines/process_method.md) method.\n",
    "\n",
    "Moreover, the output file itself has been saved to the location noted in the `process_output_files` key.  The `file_id` of the processed input is used as a filename prefix for the output file."
   ]
  },
  {
   "cell_type": "code",
   "execution_count": 6,
   "metadata": {},
   "outputs": [
    {
     "name": "stdout",
     "output_type": "stream",
     "text": [
      "{\n",
      "  \"status_code\": 200,\n",
      "  \"pipeline\": \"single_text-embedder-1\",\n",
      "  \"request_id\": \"1f16bcaa-1d08-4286-91c3-6fac2bbf17b3\",\n",
      "  \"file_id\": \"ebd43e63-0f3a-41ba-9db9-f768d11a048a\",\n",
      "  \"message\": \"SUCCESS - output fetched for file_id ebd43e63-0f3a-41ba-9db9-f768d11a048a.Output saved to location(s) listed in process_output_files.\",\n",
      "  \"warnings\": [],\n",
      "  \"process_output\": null,\n",
      "  \"process_output_files\": [\n",
      "    \"../../../data/output/ebd43e63-0f3a-41ba-9db9-f768d11a048a.npy\"\n",
      "  ]\n",
      "}\n"
     ]
    }
   ],
   "source": [
    "# nicely print the output of this process\n",
    "\n",
    "print(json.dumps(process_output_1, indent=2))"
   ]
  },
  {
   "cell_type": "markdown",
   "metadata": {},
   "source": [
    "### Examining Process Output Locally"
   ]
  },
  {
   "cell_type": "markdown",
   "metadata": {},
   "source": [
    "The outputted NPY file containing embedding vectors of our input data can be examined as follows. For the sake of clarity, in this example we will simply print the shape, and not any of the contents, of the returned array:"
   ]
  },
  {
   "cell_type": "code",
   "execution_count": 7,
   "metadata": {},
   "outputs": [
    {
     "name": "stdout",
     "output_type": "stream",
     "text": [
      "(2, 384)\n"
     ]
    }
   ],
   "source": [
    "# examine vector output\n",
    "import numpy as np\n",
    "\n",
    "vectors = np.load(process_output_1[\"process_output_files\"][0])\n",
    "print(vectors.shape)"
   ]
  },
  {
   "cell_type": "markdown",
   "metadata": {},
   "source": [
    "In other words, the array has 2 rows with 384 values in each row. \n",
    "\n",
    "In the context of the input file, the first row is the vectorized form of our first snippet: \"It was a bright cold day in April, and the clocks were striking thirteen.\""
   ]
  },
  {
   "cell_type": "markdown",
   "metadata": {},
   "source": [
    "### Using a Non-Default Model"
   ]
  },
  {
   "cell_type": "markdown",
   "metadata": {},
   "source": [
    "To use a [non-default model](../../modules/ai_model_modules/text-embedder_module.md#available-models-in-the-text-embedder-module) like [`all-mpnet-base-v2`](https://huggingface.co/sentence-transformers/all-mpnet-base-v2), we must enter it explicitly through the [`modules`](../../system/parameters_processing_files_through_pipelines/process_method.md#selecting-models-via-the-modules-argument) argument when invoking the [`.process`](../../system/parameters_processing_files_through_pipelines/process_method.md) method. As [module documentation](../../modules/ai_model_modules/text-embedder_module.md) indicates, you can also specify whether or not you wish to use the quantized version of the model."
   ]
  },
  {
   "cell_type": "code",
   "execution_count": 8,
   "metadata": {},
   "outputs": [],
   "source": [
    "# process the file with a non-default model\n",
    "\n",
    "process_output_2 = pipeline_1.process(local_file_path=\"../../../data/input/1984_snippets.json\", # all parameters save 'modules' as above\n",
    "                                      local_save_directory=\"../../../data/output\",\n",
    "                                      expire_time=60 * 30,\n",
    "                                      wait_for_process=True,\n",
    "                                      verbose=False,\n",
    "                                      modules={\"text-embedder\": {\"model\": \"all-mpnet-base-v2\", \"params\": {\"quantize\": False}}}) # specify a non-default model for this process"
   ]
  },
  {
   "cell_type": "markdown",
   "metadata": {},
   "source": [
    "Now we can examine the output as we did above."
   ]
  },
  {
   "cell_type": "code",
   "execution_count": 9,
   "metadata": {},
   "outputs": [
    {
     "name": "stdout",
     "output_type": "stream",
     "text": [
      "{\n",
      "  \"status_code\": 200,\n",
      "  \"pipeline\": \"single_text-embedder-1\",\n",
      "  \"request_id\": \"35c58c69-cb16-486b-970d-b1817c3671be\",\n",
      "  \"file_id\": \"b541407f-134a-4e45-9c2a-360c3cc759e9\",\n",
      "  \"message\": \"SUCCESS - output fetched for file_id b541407f-134a-4e45-9c2a-360c3cc759e9.Output saved to location(s) listed in process_output_files.\",\n",
      "  \"warnings\": [],\n",
      "  \"process_output\": null,\n",
      "  \"process_output_files\": [\n",
      "    \"../../../data/output/b541407f-134a-4e45-9c2a-360c3cc759e9.npy\"\n",
      "  ]\n",
      "}\n"
     ]
    }
   ],
   "source": [
    "# nicely print the output of this process\n",
    "\n",
    "print(json.dumps(process_output_2, indent=2))"
   ]
  },
  {
   "cell_type": "code",
   "execution_count": 10,
   "metadata": {
    "tags": [
     "remove_cell"
    ]
   },
   "outputs": [],
   "source": [
    "# delete all processed datapoints belonging to this pipeline\n",
    "\n",
    "reset_pipeline(pipeline_1)"
   ]
  }
 ],
 "metadata": {
  "kernelspec": {
   "display_name": "venv",
   "language": "python",
   "name": "python3"
  },
  "language_info": {
   "codemirror_mode": {
    "name": "ipython",
    "version": 3
   },
   "file_extension": ".py",
   "mimetype": "text/x-python",
   "name": "python",
   "nbconvert_exporter": "python",
   "pygments_lexer": "ipython3",
   "version": "3.12.0"
  }
 },
 "nbformat": 4,
 "nbformat_minor": 2
}
