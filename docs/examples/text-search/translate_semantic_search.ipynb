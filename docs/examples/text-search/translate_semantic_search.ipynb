{
 "cells": [
  {
   "cell_type": "markdown",
   "metadata": {},
   "source": [
    "## Semantically searchable translation\n",
    "\n",
    "This document reviews a semantic search pipeline that can be used to make an input text in a specific language semantically-searchable in another language.\n",
    "\n",
    "\n",
    "- [pipeline setup](#pipeline-setup)\n",
    "- [processing an input file](#processing-an-input-file)\n"
   ]
  },
  {
   "cell_type": "code",
   "execution_count": 1,
   "metadata": {
    "tags": [
     "remove_cell"
    ]
   },
   "outputs": [
    {
     "name": "stdout",
     "output_type": "stream",
     "text": [
      "SUCCESS: You are now authenticated.\n"
     ]
    }
   ],
   "source": [
    "# import utilities\n",
    "import sys \n",
    "import json\n",
    "sys.path.append('../../../')\n",
    "import importlib\n",
    "reset = importlib.import_module(\"utilities.reset\")\n",
    "reset_pipeline = reset.reset_pipeline\n",
    "\n",
    "# load secrets from a .env file using python-dotenv\n",
    "from dotenv import load_dotenv\n",
    "import os\n",
    "load_dotenv(\"../../.env\")\n",
    "MY_API_KEY = os.getenv('MY_API_KEY')\n",
    "MY_API_URL = os.getenv('MY_API_URL')\n",
    "\n",
    "# import krixik and initialize it with your personal secrets\n",
    "from krixik import krixik\n",
    "krixik.init(api_key = MY_API_KEY, \n",
    "            api_url = MY_API_URL)"
   ]
  },
  {
   "cell_type": "markdown",
   "metadata": {},
   "source": [
    "## Pipeline setup\n",
    "\n",
    "Below we setup a two pipelines.\n",
    "\n",
    "The first is a single module pipeline consisting of [`translate`](modules/translate.md).\n",
    "\n",
    "The latter consists of a [`translate`](modules/translate.md), [`parser`](modules/parser.md), [`text-embedder`](modules/text-embedder.md), and [`vector-db`](modules/vector-db.md) modules.  This will allow us to translate input files and make them semantically searchable.\n",
    "\n",
    "We do this by passing the module names to the `module_chain` argument of [`create_pipeline`](system/create_save_load.md) along with a name for our pipeline."
   ]
  },
  {
   "cell_type": "code",
   "execution_count": 2,
   "metadata": {},
   "outputs": [],
   "source": [
    "# create a multi module pipeline to translate an input text file\n",
    "translate_pipeline = krixik.create_pipeline(name=\"examples-translate-text-search-pipeline\",\n",
    "                                            module_chain=[\"parser\", \n",
    "                                                          \"translate\", \n",
    "                                                          \"json-to-txt\"])\n",
    "\n",
    "# create a pipeline with a multi module\n",
    "pipeline = krixik.create_pipeline(name=\"examples-translate-text-search-semantic-pipeline\",\n",
    "                                  module_chain=[\"parser\", \n",
    "                                                \"translate\", \n",
    "                                                \"json-to-txt\", \n",
    "                                                \"parser\",\n",
    "                                                \"text-embedder\", \n",
    "                                                \"vector-db\"])"
   ]
  },
  {
   "cell_type": "markdown",
   "metadata": {},
   "source": [
    "This pipeline's available modeling options and parameters are stored in your custom [pipeline's configuration](system/create_save_load.md)."
   ]
  },
  {
   "cell_type": "code",
   "execution_count": 3,
   "metadata": {
    "tags": [
     "remove_cell"
    ]
   },
   "outputs": [],
   "source": [
    "# delete all processed datapoints belonging to this pipeline\n",
    "reset_pipeline(translate_pipeline)\n",
    "reset_pipeline(pipeline)"
   ]
  },
  {
   "cell_type": "markdown",
   "metadata": {},
   "source": [
    "## Processing an input file"
   ]
  },
  {
   "cell_type": "markdown",
   "metadata": {},
   "source": [
    "Lets take a quick look at a short test file before processing."
   ]
  },
  {
   "cell_type": "code",
   "execution_count": 4,
   "metadata": {},
   "outputs": [
    {
     "name": "stdout",
     "output_type": "stream",
     "text": [
      "PRÓLOGO\n",
      "\n",
      "Desocupado lector: sin juramento me podrás creer que quisiera que este\n",
      "libro, como hijo del entendimiento, fuera el más hermoso, el más gallardo y\n",
      "más discreto que pudiera imaginarse. Pero no he podido yo contravenir al\n",
      "orden de naturaleza; que en ella cada cosa engendra su semejante. Y así,\n",
      "¿qué podrá engendrar el estéril y mal cultivado ingenio mío, sino la\n",
      "historia de un hijo seco, avellanado, antojadizo y lleno de pensamientos\n",
      "varios y nunca imaginados de otro alguno, bien como quien se engendró en\n",
      "una cárcel, donde toda incomodidad tiene su asiento y donde todo triste\n",
      "ruido hace su habitación? El sosiego, el lugar apacible, la amenidad de los\n",
      "campos, la serenidad de los cielos, el murmurar de las fuentes, la quietud\n",
      "del espíritu son grande parte para que las musas más estériles se muestren\n",
      "fecundas y ofrezcan partos al mundo que le colmen de maravilla y de\n",
      "contento. Acontece tener un padre un hijo feo y sin gracia alguna, y el\n",
      "amor que le tiene le pone una venda en los ojos para que no vea sus faltas,\n",
      "antes las juzga por discreciones y lindezas y las cuenta a sus amigos por\n",
      "agudezas y donaires. Pero yo, que, aunque parezco padre, soy padrastro de\n",
      "Don Quijote, no quiero irme con la corriente del uso, ni suplicarte, casi\n",
      "con las lágrimas en los ojos, como otros hacen, lector carísimo, que\n",
      "perdones o disimules las faltas que en este mi hijo vieres; y ni eres su\n",
      "pariente ni su amigo, y tienes tu alma en tu cuerpo y tu libre albedrío\n",
      "como el más pintado, y estás en tu casa, donde eres señor della, como el\n",
      "rey de sus alcabalas, y sabes lo que comúnmente se dice: que debajo de mi\n",
      "manto, al rey mato. Todo lo cual te esenta y hace libre de todo respecto y\n",
      "obligación; y así, puedes decir de la historia todo aquello que te\n",
      "pareciere, sin temor que te calunien por el mal ni te premien por el bien\n",
      "que dijeres della.\n"
     ]
    }
   ],
   "source": [
    "# examine contents of input file\n",
    "test_file = \"../../../data/input/don_esp.txt\"\n",
    "with open(test_file, \"r\") as file:\n",
    "    print(file.read())\n",
    "    "
   ]
  },
  {
   "cell_type": "markdown",
   "metadata": {},
   "source": [
    "Below we [process](system/process.md) the input through our pipeline using the default model for each of our three modules."
   ]
  },
  {
   "cell_type": "code",
   "execution_count": 5,
   "metadata": {},
   "outputs": [
    {
     "name": "stdout",
     "output_type": "stream",
     "text": [
      "INFO: hydrated input modules: {'module_1': {'model': 'sentence', 'params': {}}, 'module_2': {'model': 'opus-mt-es-en', 'params': {}}, 'module_3': {'model': 'base', 'params': {}}}\n",
      "INFO: symbolic_directory_path was not set by user - setting to default of /etc\n",
      "INFO: file_name was not set by user - setting to random file name: krixik_generated_file_name_jypdyflhds.txt\n",
      "INFO: wait_for_process is set to True.\n",
      "INFO: file will expire and be removed from you account in 600 seconds, at Tue May  7 12:41:19 2024 UTC\n",
      "INFO: examples-translate-text-search-pipeline file process and input processing started...\n",
      "INFO: metadata can be updated using the .update api.\n",
      "INFO: This process's request_id is: f5f96398-3b3b-526f-cdf9-546d16616be4\n",
      "INFO: File process and processing status:\n",
      "SUCCESS: module 1 (of 3) - parser processing complete.\n",
      "SUCCESS: module 2 (of 3) - translate processing complete.\n",
      "SUCCESS: module 3 (of 3) - json-to-txt processing complete.\n",
      "SUCCESS: pipeline process complete.\n",
      "SUCCESS: process output downloaded\n"
     ]
    }
   ],
   "source": [
    "# define path to an input file from examples directory\n",
    "test_file = \"../../../data/input/don_esp.txt\"\n",
    "\n",
    "# process a file through the pipeline\n",
    "process_output = translate_pipeline.process(local_file_path = test_file,\n",
    "                                            local_save_directory=\"../../../data/output\",  # save output in current directory\n",
    "                                            expire_time=60*10,         # set all process data to expire in 5 minutes\n",
    "                                            wait_for_process=True,     # wait for process to complete before regaining ide\n",
    "                                            verbose=True,              # set verbosity to False\n",
    "                                            modules={\"translate\": {\"model\": \"opus-mt-es-en\"}})"
   ]
  },
  {
   "cell_type": "markdown",
   "metadata": {},
   "source": [
    "The output of this process is printed below.  Because the output of this particular pipeline pair is text, the process output is provided in this object is null.  However the file itself has been returned to the address noted in the `process_output_files` key.  The `file_id` of the processed input is used as a filename prefix for the output file."
   ]
  },
  {
   "cell_type": "code",
   "execution_count": 6,
   "metadata": {},
   "outputs": [
    {
     "name": "stdout",
     "output_type": "stream",
     "text": [
      "{\n",
      "  \"status_code\": 200,\n",
      "  \"pipeline\": \"examples-translate-text-search-pipeline\",\n",
      "  \"request_id\": \"be0f4674-2117-496d-be14-2ea0e819ad65\",\n",
      "  \"file_id\": \"e98c5065-8544-4127-ab6e-288b70435e76\",\n",
      "  \"message\": \"SUCCESS - output fetched for file_id e98c5065-8544-4127-ab6e-288b70435e76.Output saved to location(s) listed in process_output_files.\",\n",
      "  \"warnings\": [],\n",
      "  \"process_output\": null,\n",
      "  \"process_output_files\": [\n",
      "    \"../../../data/output/e98c5065-8544-4127-ab6e-288b70435e76.txt\"\n",
      "  ]\n",
      "}\n"
     ]
    }
   ],
   "source": [
    "# nicely print the output of this process\n",
    "print(json.dumps(process_output, indent=2))"
   ]
  },
  {
   "cell_type": "markdown",
   "metadata": {},
   "source": [
    "We load in the text file output from `process_output_files` below. "
   ]
  },
  {
   "cell_type": "code",
   "execution_count": 7,
   "metadata": {},
   "outputs": [
    {
     "name": "stdout",
     "output_type": "stream",
     "text": [
      "It was a bright cold day in April, and the clocks were striking thirteen.\n",
      "Winston Smith, his chin nuzzled into his great in an effort to escape the vile wind, slipped quickly through the glass doors of Victory Mansions, though not quickly enough enough to prevent a swirl of gritty dust from entering along with him.\n",
      "The hallway smelt of built cabbage and old rag mats.\n",
      "At one end of it a Coloured poster, too large for indoor display, had been tagged to the wall.\n",
      "It described simply an enormous face, more than a metre wide: the face of a man of about forty-five, with a heavy black moustache and roaredly handsome features.\n",
      "Winston made for the stairs.\n",
      "It was not to use trying the lift.\n",
      "Even at the best of times it was self working, and at present the electric current was cut off during daylight hours.\n",
      "It was part of the economic drive in preparation for Hate Week.\n",
      "The flat was seven flights up, and Winston, who was thirty-nine and had a varicose ulcer above his right ankle, went slowly, resting several times on the way.\n",
      "On each landing, opposite the lift-shaft, the poster with the enormous face gazed from the wall.\n",
      "It was one of those pictures which are so contrived that the eyes follow you about when you move.\n",
      "BIG BROTHER IS WATCHING YOU, THE CAPTION BENEATH IT RAN.\n",
      "Inside the flat a fruity voice was reading out a list of figures which had something to do with the production of pig-iron.\n",
      "The voice came from an oblong metal plate like a dulled mirror which formed part of the surface of the right-hand wall.\n",
      "Winston turned a switch and the voice sank somewhat, though the words were still distinguishable.\n",
      "The instrument (the telescreen, it was called) could be dimmed, but there was no way of shutting it off completely.\n",
      "I've moved over to the window: a mallish, frail figure, the measure of his body merely packed by the blue overalls which were the uniform of the party.\n",
      "His hair was very fair, his face naturally sanguine, his skin roughened by coarse soap and bunt racer blades and the cold of the winter that had just ended.\n",
      "Outside, even through the shut window-pane, the world looked cold.\n",
      "Down in the street little eddies of wind were whirling dust and turn paper into spirals, and though the sun was shining and the sky a hard blue, there seen to be no colour in anything, except the posters that were castered everywhere.\n",
      "The black-moustachio'd face gazed down from every commanding corner.\n",
      "There was one on the house-front immediately opposite.\n",
      "BIG BROTHER IS WATCHING YOU, the caption said, while the dark eyes looked deep into Winston's own.\n",
      "Down at street level another poster, torn at one corner, flapped fitfully in the wind, alternately covering and uncovering the single word INGSOC.\n",
      "In the far distance a helicopter skimmed down between the roofs, held for an instant like a bluebottle, and given away again with a curving flight.\n",
      "It was the police patrol, snooping into people's windows.\n",
      "The patrol did not matter, however.\n",
      "Only the Thought Police mattered.\n",
      "Behind Winston's back the voice from the telescreen was still drinking away about pyg-iron and the overfulfilment of the Nineth Three-Year Plan.\n",
      "The telescreen received and transmitted simultaneously.\n",
      "Any sound that Winston made, above the level of a very low whisper, would be picked up by it, moreover, so long as he remade within the field of vision which the metal plate commanded, he could be seen as well as hear.\n",
      "There was of course no way of knowing who you were being watched at any given moment.\n",
      "How often, or on what system, the Thought Police plugged in on any individual wire was querywork.\n",
      "It was ever conceivable that they watched everybody all the time.\n",
      "But at any rate they could plug in your wire whenever they wanted to.\n",
      "You had to live--did live, from habit that scholarship instinct--in the assumption that every sound you made was overheard, and, except in darkness, every movement scrutinized.\n",
      "Winston kept his back turned to the telescreen.\n",
      "It was safe; though, as he well knew, even a back can be reveealing.\n",
      "A kilometre away the Ministry of Truth, his place of work, built vast and white above the grimy landscape.\n",
      "This, he thought with a sort of wander distance--this was London, chief city of Airstrip One, itself the third most populous of the provinces of Oceania.\n",
      "He tried to squeeze out some childhood memory that should tell him when London had always been remove like this.\n",
      "Were there always these views of rotting nineteenth-century houses, their sides shored up with baulks of timer, their windows patched with cardboard and their roofs with corrugated iron, their crazy garden walls sagging in all directions?\n",
      "And the bombed sites where the plater dust swirled in the air and the willow-herb strangled over the hears of rubble; and the places where the bombs had cleaned a longer patch and there had sprung up deaf colonies of wooden dwellings like chicken-houses?\n",
      "But it was no use, he could not remember: nothing remained of his child except a series of bright-lit tableaux occurring against no background and mostly unintelligible.\n",
      "The Ministry of Truth--Minitrue, in Newspeak [Newspeak was the official language of Oceania.\n",
      "For an account of its structure and etymology see Appendix.]\n",
      "--was startlingly different from any other object in weight.\n",
      "It was an enormous pyramidal structure of glittering white concrete, hearing up, terrace after terrace, 300 metres into the air.\n",
      "From where Winston stood it was just possible to read, picked out on its white face in elegant lettering, the three slogans of the Party: WAR IS PEACE FREEDOM IS SLAVERY IGNORANCE IS STRENGTH\n"
     ]
    }
   ],
   "source": [
    "# load in process output from file\n",
    "import json\n",
    "with open(process_output[\"process_output_files\"][0], \"r\") as file:\n",
    "    print(file.read())"
   ]
  },
  {
   "cell_type": "markdown",
   "metadata": {},
   "source": [
    "We now process the file with our second pipeline - which will make the outupt searchable in english."
   ]
  },
  {
   "cell_type": "code",
   "execution_count": 8,
   "metadata": {},
   "outputs": [
    {
     "ename": "ValueError",
     "evalue": "when using duplicate modules your module selection labels must lie in the index set: ['module_1', 'module_2', 'module_3', 'module_4', 'module_5', 'module_6'] so that your model/param selections can be correctly mapped to the proper modules",
     "output_type": "error",
     "traceback": [
      "\u001b[0;31m---------------------------------------------------------------------------\u001b[0m",
      "\u001b[0;31mValueError\u001b[0m                                Traceback (most recent call last)",
      "File \u001b[0;32m~/Desktop/krixik/code/krixik-docs/docs/examples/text-search/../../../krixik/utilities/converters/utilities/decorators.py:85\u001b[0m, in \u001b[0;36mdatatype_converter_wrapper.<locals>.converter_wrapper\u001b[0;34m(*args, **kwargs)\u001b[0m\n\u001b[1;32m     84\u001b[0m                 \u001b[38;5;28;01mreturn\u001b[39;00m func(\u001b[38;5;241m*\u001b[39margs, \u001b[38;5;241m*\u001b[39m\u001b[38;5;241m*\u001b[39mkwargs)\n\u001b[0;32m---> 85\u001b[0m     \u001b[38;5;28;01mreturn\u001b[39;00m \u001b[43mfunc\u001b[49m\u001b[43m(\u001b[49m\u001b[38;5;241;43m*\u001b[39;49m\u001b[43margs\u001b[49m\u001b[43m,\u001b[49m\u001b[43m \u001b[49m\u001b[38;5;241;43m*\u001b[39;49m\u001b[38;5;241;43m*\u001b[39;49m\u001b[43mkwargs\u001b[49m\u001b[43m)\u001b[49m\n\u001b[1;32m     86\u001b[0m \u001b[38;5;28;01mexcept\u001b[39;00m \u001b[38;5;167;01mValueError\u001b[39;00m \u001b[38;5;28;01mas\u001b[39;00m e:\n",
      "File \u001b[0;32m~/Desktop/krixik/code/krixik-docs/docs/examples/text-search/../../../krixik/modules/utilities/decorators.py:42\u001b[0m, in \u001b[0;36mtype_check_inputs.<locals>.wrapper\u001b[0;34m(*args, **kwargs)\u001b[0m\n\u001b[1;32m     41\u001b[0m \u001b[38;5;28;01mexcept\u001b[39;00m \u001b[38;5;167;01mValueError\u001b[39;00m \u001b[38;5;28;01mas\u001b[39;00m e:\n\u001b[0;32m---> 42\u001b[0m     \u001b[38;5;28;01mraise\u001b[39;00m e\n\u001b[1;32m     43\u001b[0m \u001b[38;5;28;01mexcept\u001b[39;00m \u001b[38;5;167;01mTypeError\u001b[39;00m \u001b[38;5;28;01mas\u001b[39;00m e:\n",
      "File \u001b[0;32m~/Desktop/krixik/code/krixik-docs/docs/examples/text-search/../../../krixik/modules/utilities/decorators.py:26\u001b[0m, in \u001b[0;36mtype_check_inputs.<locals>.wrapper\u001b[0;34m(*args, **kwargs)\u001b[0m\n\u001b[1;32m     25\u001b[0m verbose \u001b[38;5;241m=\u001b[39m get_input(\u001b[38;5;124m\"\u001b[39m\u001b[38;5;124mverbose\u001b[39m\u001b[38;5;124m\"\u001b[39m, signature, kwargs, default_value\u001b[38;5;241m=\u001b[39m\u001b[38;5;28;01mTrue\u001b[39;00m)            \n\u001b[0;32m---> 26\u001b[0m hydrated_modules \u001b[38;5;241m=\u001b[39m \u001b[43mpipeline_selection_setup\u001b[49m\u001b[43m(\u001b[49m\n\u001b[1;32m     27\u001b[0m \u001b[43m    \u001b[49m\u001b[43mpipeline_ordered_modules\u001b[49m\u001b[43m,\u001b[49m\u001b[43m \u001b[49m\u001b[43mmodules\u001b[49m\n\u001b[1;32m     28\u001b[0m \u001b[43m\u001b[49m\u001b[43m)\u001b[49m\n\u001b[1;32m     29\u001b[0m kwargs[\u001b[38;5;124m\"\u001b[39m\u001b[38;5;124mmodules\u001b[39m\u001b[38;5;124m\"\u001b[39m] \u001b[38;5;241m=\u001b[39m hydrated_modules\n",
      "File \u001b[0;32m~/Desktop/krixik/code/krixik-docs/docs/examples/text-search/../../../krixik/modules/utilities/module_selections.py:62\u001b[0m, in \u001b[0;36mpipeline_selection_setup\u001b[0;34m(pipeline_ordered_modules, module_selections)\u001b[0m\n\u001b[1;32m     61\u001b[0m     \u001b[38;5;28;01mif\u001b[39;00m key \u001b[38;5;129;01mnot\u001b[39;00m \u001b[38;5;129;01min\u001b[39;00m module_i_labels:\n\u001b[0;32m---> 62\u001b[0m         \u001b[38;5;28;01mraise\u001b[39;00m \u001b[38;5;167;01mValueError\u001b[39;00m(\u001b[38;5;124mf\u001b[39m\u001b[38;5;124m\"\u001b[39m\u001b[38;5;124mwhen using duplicate modules your module selection labels must lie in the index set: \u001b[39m\u001b[38;5;132;01m{\u001b[39;00mmodule_i_labels\u001b[38;5;132;01m}\u001b[39;00m\u001b[38;5;124m so that your model/param selections can be correctly mapped to the proper modules\u001b[39m\u001b[38;5;124m\"\u001b[39m)\n\u001b[1;32m     63\u001b[0m \u001b[38;5;28;01melif\u001b[39;00m select_contains_index_label:\n",
      "\u001b[0;31mValueError\u001b[0m: when using duplicate modules your module selection labels must lie in the index set: ['module_1', 'module_2', 'module_3', 'module_4', 'module_5', 'module_6'] so that your model/param selections can be correctly mapped to the proper modules",
      "\nDuring handling of the above exception, another exception occurred:\n",
      "\u001b[0;31mValueError\u001b[0m                                Traceback (most recent call last)",
      "Cell \u001b[0;32mIn[8], line 5\u001b[0m\n\u001b[1;32m      2\u001b[0m test_file \u001b[38;5;241m=\u001b[39m \u001b[38;5;124m\"\u001b[39m\u001b[38;5;124m../../../data/input/1984_short.txt\u001b[39m\u001b[38;5;124m\"\u001b[39m\n\u001b[1;32m      4\u001b[0m \u001b[38;5;66;03m# process a file through the pipeline\u001b[39;00m\n\u001b[0;32m----> 5\u001b[0m process_output \u001b[38;5;241m=\u001b[39m \u001b[43mpipeline\u001b[49m\u001b[38;5;241;43m.\u001b[39;49m\u001b[43mprocess\u001b[49m\u001b[43m(\u001b[49m\u001b[43mlocal_file_path\u001b[49m\u001b[43m \u001b[49m\u001b[38;5;241;43m=\u001b[39;49m\u001b[43m \u001b[49m\u001b[43mtest_file\u001b[49m\u001b[43m,\u001b[49m\n\u001b[1;32m      6\u001b[0m \u001b[43m                                  \u001b[49m\u001b[43mlocal_save_directory\u001b[49m\u001b[38;5;241;43m=\u001b[39;49m\u001b[38;5;124;43m\"\u001b[39;49m\u001b[38;5;124;43m../../../data/output\u001b[39;49m\u001b[38;5;124;43m\"\u001b[39;49m\u001b[43m,\u001b[49m\u001b[43m  \u001b[49m\u001b[38;5;66;43;03m# save output in current directory\u001b[39;49;00m\n\u001b[1;32m      7\u001b[0m \u001b[43m                                  \u001b[49m\u001b[43mexpire_time\u001b[49m\u001b[38;5;241;43m=\u001b[39;49m\u001b[38;5;241;43m60\u001b[39;49m\u001b[38;5;241;43m*\u001b[39;49m\u001b[38;5;241;43m10\u001b[39;49m\u001b[43m,\u001b[49m\u001b[43m         \u001b[49m\u001b[38;5;66;43;03m# set all process data to expire in 5 minutes\u001b[39;49;00m\n\u001b[1;32m      8\u001b[0m \u001b[43m                                  \u001b[49m\u001b[43mwait_for_process\u001b[49m\u001b[38;5;241;43m=\u001b[39;49m\u001b[38;5;28;43;01mTrue\u001b[39;49;00m\u001b[43m,\u001b[49m\u001b[43m     \u001b[49m\u001b[38;5;66;43;03m# wait for process to complete before regaining ide\u001b[39;49;00m\n\u001b[1;32m      9\u001b[0m \u001b[43m                                  \u001b[49m\u001b[43mverbose\u001b[49m\u001b[38;5;241;43m=\u001b[39;49m\u001b[38;5;28;43;01mTrue\u001b[39;49;00m\u001b[43m,\u001b[49m\u001b[43m              \u001b[49m\u001b[38;5;66;43;03m# set verbosity to False\u001b[39;49;00m\n\u001b[1;32m     10\u001b[0m \u001b[43m                                  \u001b[49m\u001b[43mmodules\u001b[49m\u001b[38;5;241;43m=\u001b[39;49m\u001b[43m{\u001b[49m\u001b[38;5;124;43m\"\u001b[39;49m\u001b[38;5;124;43mtranslate\u001b[39;49m\u001b[38;5;124;43m\"\u001b[39;49m\u001b[43m:\u001b[49m\u001b[43m \u001b[49m\u001b[43m{\u001b[49m\u001b[38;5;124;43m\"\u001b[39;49m\u001b[38;5;124;43mmodel\u001b[39;49m\u001b[38;5;124;43m\"\u001b[39;49m\u001b[43m:\u001b[49m\u001b[43m \u001b[49m\u001b[38;5;124;43m\"\u001b[39;49m\u001b[38;5;124;43mopus-mt-es-en\u001b[39;49m\u001b[38;5;124;43m\"\u001b[39;49m\u001b[43m}\u001b[49m\u001b[43m}\u001b[49m\u001b[43m)\u001b[49m\n",
      "File \u001b[0;32m~/Desktop/krixik/code/krixik-docs/docs/examples/text-search/../../../krixik/system_builder/utilities/decorators.py:99\u001b[0m, in \u001b[0;36mkwargs_checker.<locals>.wrapper\u001b[0;34m(*args, **kwargs)\u001b[0m\n\u001b[1;32m     95\u001b[0m \u001b[38;5;28;01mif\u001b[39;00m unexpected_args:\n\u001b[1;32m     96\u001b[0m     \u001b[38;5;28;01mraise\u001b[39;00m \u001b[38;5;167;01mTypeError\u001b[39;00m(\n\u001b[1;32m     97\u001b[0m         \u001b[38;5;124mf\u001b[39m\u001b[38;5;124m\"\u001b[39m\u001b[38;5;124munexpected keyword argument(s) for \u001b[39m\u001b[38;5;124m'\u001b[39m\u001b[38;5;132;01m{\u001b[39;00mfunc_name\u001b[38;5;132;01m}\u001b[39;00m\u001b[38;5;124m'\u001b[39m\u001b[38;5;124m: \u001b[39m\u001b[38;5;132;01m{\u001b[39;00m\u001b[38;5;124m'\u001b[39m\u001b[38;5;124m, \u001b[39m\u001b[38;5;124m'\u001b[39m\u001b[38;5;241m.\u001b[39mjoin(unexpected_args)\u001b[38;5;132;01m}\u001b[39;00m\u001b[38;5;124m\"\u001b[39m\n\u001b[1;32m     98\u001b[0m     )\n\u001b[0;32m---> 99\u001b[0m \u001b[38;5;28;01mreturn\u001b[39;00m \u001b[43mfunc\u001b[49m\u001b[43m(\u001b[49m\u001b[38;5;241;43m*\u001b[39;49m\u001b[43margs\u001b[49m\u001b[43m,\u001b[49m\u001b[43m \u001b[49m\u001b[38;5;241;43m*\u001b[39;49m\u001b[38;5;241;43m*\u001b[39;49m\u001b[43mkwargs\u001b[49m\u001b[43m)\u001b[49m\n",
      "File \u001b[0;32m~/Desktop/krixik/code/krixik-docs/docs/examples/text-search/../../../krixik/system_builder/functions/checkin.py:82\u001b[0m, in \u001b[0;36mcheck_init_decorator.<locals>.wrapper\u001b[0;34m(self, *args, **kwargs)\u001b[0m\n\u001b[1;32m     79\u001b[0m \u001b[38;5;129m@functools\u001b[39m\u001b[38;5;241m.\u001b[39mwraps(func)\n\u001b[1;32m     80\u001b[0m \u001b[38;5;28;01mdef\u001b[39;00m \u001b[38;5;21mwrapper\u001b[39m(\u001b[38;5;28mself\u001b[39m, \u001b[38;5;241m*\u001b[39margs, \u001b[38;5;241m*\u001b[39m\u001b[38;5;241m*\u001b[39mkwargs):\n\u001b[1;32m     81\u001b[0m     check_init(\u001b[38;5;28mself\u001b[39m)\n\u001b[0;32m---> 82\u001b[0m     \u001b[38;5;28;01mreturn\u001b[39;00m \u001b[43mfunc\u001b[49m\u001b[43m(\u001b[49m\u001b[38;5;28;43mself\u001b[39;49m\u001b[43m,\u001b[49m\u001b[43m \u001b[49m\u001b[38;5;241;43m*\u001b[39;49m\u001b[43margs\u001b[49m\u001b[43m,\u001b[49m\u001b[43m \u001b[49m\u001b[38;5;241;43m*\u001b[39;49m\u001b[38;5;241;43m*\u001b[39;49m\u001b[43mkwargs\u001b[49m\u001b[43m)\u001b[49m\n",
      "File \u001b[0;32m~/Desktop/krixik/code/krixik-docs/docs/examples/text-search/../../../krixik/utilities/converters/utilities/decorators.py:87\u001b[0m, in \u001b[0;36mdatatype_converter_wrapper.<locals>.converter_wrapper\u001b[0;34m(*args, **kwargs)\u001b[0m\n\u001b[1;32m     85\u001b[0m     \u001b[38;5;28;01mreturn\u001b[39;00m func(\u001b[38;5;241m*\u001b[39margs, \u001b[38;5;241m*\u001b[39m\u001b[38;5;241m*\u001b[39mkwargs)\n\u001b[1;32m     86\u001b[0m \u001b[38;5;28;01mexcept\u001b[39;00m \u001b[38;5;167;01mValueError\u001b[39;00m \u001b[38;5;28;01mas\u001b[39;00m e:\n\u001b[0;32m---> 87\u001b[0m     \u001b[38;5;28;01mraise\u001b[39;00m \u001b[38;5;167;01mValueError\u001b[39;00m(e)\n\u001b[1;32m     88\u001b[0m \u001b[38;5;28;01mexcept\u001b[39;00m \u001b[38;5;167;01mTypeError\u001b[39;00m \u001b[38;5;28;01mas\u001b[39;00m e:\n\u001b[1;32m     89\u001b[0m     \u001b[38;5;28;01mraise\u001b[39;00m \u001b[38;5;167;01mTypeError\u001b[39;00m(e)\n",
      "\u001b[0;31mValueError\u001b[0m: when using duplicate modules your module selection labels must lie in the index set: ['module_1', 'module_2', 'module_3', 'module_4', 'module_5', 'module_6'] so that your model/param selections can be correctly mapped to the proper modules"
     ]
    }
   ],
   "source": [
    "# define path to an input file from examples directory\n",
    "test_file = \"../../../data/input/don_esp.txt\"\n",
    "\n",
    "# process a file through the pipeline\n",
    "process_output = pipeline.process(local_file_path = test_file,\n",
    "                                  local_save_directory=\"../../../data/output\",  # save output in current directory\n",
    "                                  expire_time=60*10,         # set all process data to expire in 5 minutes\n",
    "                                  wait_for_process=True,     # wait for process to complete before regaining ide\n",
    "                                  verbose=True,              # set verbosity to False\n",
    "                                  modules={\"module_2\": {\"model\": \"opus-mt-es-en\"}})"
   ]
  },
  {
   "cell_type": "markdown",
   "metadata": {},
   "source": [
    "## Using the `semantic_search` method"
   ]
  },
  {
   "cell_type": "markdown",
   "metadata": {},
   "source": [
    "krixik's [`semantic_search` method](system/semantic_search.md) is a convenience function for both embedding and querying - and so can only be used with pipelines containing both `text-embedder` and `vector-db` modules in succession.  Since our pipeline here satisfies this condition, it has access to the `semantic_search` method."
   ]
  },
  {
   "cell_type": "markdown",
   "metadata": {},
   "source": [
    "Now we can query our text with natural language as shown below."
   ]
  },
  {
   "cell_type": "code",
   "execution_count": null,
   "metadata": {},
   "outputs": [
    {
     "name": "stdout",
     "output_type": "stream",
     "text": [
      "{\n",
      "  \"status_code\": 200,\n",
      "  \"request_id\": \"57a797f5-bc77-4774-a2b0-b5f13007b356\",\n",
      "  \"message\": \"Successfully queried 1 user file.\",\n",
      "  \"warnings\": [],\n",
      "  \"items\": [\n",
      "    {\n",
      "      \"file_id\": \"b20fa17b-1df9-4185-94c9-ae17ac187822\",\n",
      "      \"file_metadata\": {\n",
      "        \"file_name\": \"krixik_generated_file_name_toyzuamynf.txt\",\n",
      "        \"symbolic_directory_path\": \"/etc\",\n",
      "        \"file_tags\": [],\n",
      "        \"num_vectors\": 50,\n",
      "        \"created_at\": \"2024-05-07 18:30:32\",\n",
      "        \"last_updated\": \"2024-05-07 18:30:32\"\n",
      "      },\n",
      "      \"search_results\": [\n",
      "        {\n",
      "          \"snippet\": \"Outside, even through the shut window-pane, the world looked cold.\",\n",
      "          \"line_numbers\": [\n",
      "            32,\n",
      "            33\n",
      "          ],\n",
      "          \"distance\": 0.232\n",
      "        },\n",
      "        {\n",
      "          \"snippet\": \"It was a bright cold day in April, and the clocks were striking thirteen.\",\n",
      "          \"line_numbers\": [\n",
      "            1\n",
      "          ],\n",
      "          \"distance\": 0.236\n",
      "        },\n",
      "        {\n",
      "          \"snippet\": \"His hair was very fair, his face\\nnaturally sanguine, his skin roughened by coarse soap and blunt razor\\nblades and the cold of the winter that had just ended.\",\n",
      "          \"line_numbers\": [\n",
      "            29,\n",
      "            30,\n",
      "            31\n",
      "          ],\n",
      "          \"distance\": 0.324\n",
      "        },\n",
      "        {\n",
      "          \"snippet\": \"Down in\\nthe street little eddies of wind were whirling dust and torn paper into\\nspirals, and though the sun was shining and the sky a harsh blue, there\\nseemed to be no colour in anything, except the posters that were plastered\\neverywhere.\",\n",
      "          \"line_numbers\": [\n",
      "            33,\n",
      "            34,\n",
      "            35,\n",
      "            36,\n",
      "            37\n",
      "          ],\n",
      "          \"distance\": 0.33\n",
      "        },\n",
      "        {\n",
      "          \"snippet\": \"It was the police patrol, snooping into people's\\nwindows.\",\n",
      "          \"line_numbers\": [\n",
      "            44,\n",
      "            45\n",
      "          ],\n",
      "          \"distance\": 0.352\n",
      "        }\n",
      "      ]\n",
      "    }\n",
      "  ]\n",
      "}\n"
     ]
    }
   ],
   "source": [
    "# perform semantic_search over the input file\n",
    "semantic_output = pipeline.semantic_search(\n",
    "    query=\"it was cold night\", file_ids=[process_output[\"file_id\"]]\n",
    ")\n",
    "\n",
    "# nicely print the output of this process\n",
    "print(json.dumps(semantic_output, indent=2))"
   ]
  },
  {
   "cell_type": "code",
   "execution_count": null,
   "metadata": {
    "tags": [
     "remove_cell"
    ]
   },
   "outputs": [],
   "source": [
    "# delete all processed datapoints belonging to this pipeline\n",
    "reset_pipeline(translate_pipeline)\n",
    "reset_pipeline(pipeline)"
   ]
  }
 ],
 "metadata": {
  "kernelspec": {
   "display_name": "venv",
   "language": "python",
   "name": "python3"
  },
  "language_info": {
   "codemirror_mode": {
    "name": "ipython",
    "version": 3
   },
   "file_extension": ".py",
   "mimetype": "text/x-python",
   "name": "python",
   "nbconvert_exporter": "python",
   "pygments_lexer": "ipython3",
   "version": "3.10.13"
  }
 },
 "nbformat": 4,
 "nbformat_minor": 2
}
