{
 "cells": [
  {
   "cell_type": "markdown",
   "metadata": {},
   "source": [
    "## multi-module pipeline examples: overview\n",
    "\n",
    "In this Section we describe an array of multi-module pipelines that can be easily built with krixik.  We roughly categorize these examples into various subsets based on an important module shared by each grouping of examples."
   ]
  },
  {
   "cell_type": "markdown",
   "metadata": {},
   "source": [
    "- summarize-centered examples: a collection of pipeline examples roughly centering on the usage of the [summarize module](modules/summarize.md)\n",
    "    - [recursive summarizer](examples/summarize/recursive_summarize.md): build a pipeline to fine tune a specific level of summarization ability by chaining [summarize](modules/summarize.md) multiple times"
   ]
  },
  {
   "cell_type": "markdown",
   "metadata": {},
   "source": [
    "- transcribe-centered examples: a collection of examples roughly centering ono the usage of the[transcribe module](modules/transcribe.md)\n",
    "    - [semantically searchable transcription](examples/transcribe/transcribe-semantic.md): learn how to build a modular pipeline that takes in an audio/video file, transcribes it, and makes the result semantically searchable\n",
    "\n",
    "    - [transcription with multilingual translation](examples/transcribe/transcribe-multilingual.md): build a modular pipeline that takes in an audio/video file, transcribes it, and makes the result semantically searchable\n",
    "\n",
    "    - [semantically searchable multilingual transcription](examples/transcribe/transcribe-multilingual-semantic.md): build a modular pipeline that takes in an audio/video file, transcribes it, translates the transcription into a desired language, and makes the result semantically searchable\n",
    "\n",
    "    - [transcription to sentiment analysis](examples/transcribe/transcribe-sentiment.md): build a modular pipeline that takes in an audio/video file, transcribes it, and performs sentiment analysis on each sentence of the output transcription"
   ]
  }
 ],
 "metadata": {
  "kernelspec": {
   "display_name": "venv",
   "language": "python",
   "name": "python3"
  },
  "language_info": {
   "codemirror_mode": {
    "name": "ipython",
    "version": 3
   },
   "file_extension": ".py",
   "mimetype": "text/x-python",
   "name": "python",
   "nbconvert_exporter": "python",
   "pygments_lexer": "ipython3",
   "version": "3.10.13"
  }
 },
 "nbformat": 4,
 "nbformat_minor": 2
}
