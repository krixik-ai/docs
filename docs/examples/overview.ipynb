{
 "cells": [
  {
   "cell_type": "markdown",
   "metadata": {},
   "source": [
    "## Multi-module pipeline examples: overview\n",
    "\n",
    "In this Section we describe an array of multi-module pipelines that can be easily built with krixik.  \n",
    "\n",
    "We roughly categorize these examples into various subsets based on *either* an key *module* or *concept* shared by each grouping of examples."
   ]
  },
  {
   "cell_type": "markdown",
   "metadata": {},
   "source": [
    "- summarize/sentiment centered examples: a collection of pipeline examples roughly centering on the usage of the [summarize](../modules/summarize.md) or [sentiment](../modules/sentiment.md) modules\n",
    "    - [recursive summarizer](../examples/summarize_sentiment/recursive_summarize.md): build a pipeline to fine tune a specific level of summarization ability by chaining [summarize](../modules/summarize.md) multiple times\n",
    "\n",
    "    - [transcribe to sentiment analysis](../examples/summarize_sentiment/transcribe-multilingual-sentiment.md): build a modular pipeline that takes in an audio/video file, transcribes it, and performs sentiment analysis on each sentence of the output transcription\n",
    "\n",
    "    - [translate to sentiment analysis](../examples/summarize_sentiment/translate-sentiment.md): build a modular pipeline that takes in a text file in a non-english language, translates it into english, and performs sentiment analysis on each sentence of the output translation\n",
    "\n",
    "    - [multilingual transcription to sentiment analysis](../examples/summarize_sentiment/translate-sentiment.md): build a modular pipeline that takes in a text file in a non-english language, translates it into english, and performs sentiment analysis on each sentence of the output translation"
   ]
  },
  {
   "cell_type": "markdown",
   "metadata": {},
   "source": [
    "- transcribe/translate centered examples: a collection of examples roughly centering ono the usage of the[transcribe module](../modules/transcribe.md), the [translate](../modules/translate.md) module, or both\n",
    "    - [semantically searchable transcription](../examples/transcribe_translate/transcribe-semantic.md): build a modular pipeline that takes in an audio/video file, transcribes it, and makes the result semantically searchable\n",
    "\n",
    "    - [keyword searchable transcription](../examples/transcribe_translate/transcribe-keyword.md): build a modular pipeline that takes in an audio/video file, transcribes it, and makes the result keyword searchable\n",
    "\n",
    "    - [translate semantic search](../examples/transcribe_translate/translate_semantic_search.md): translate any input text file into a different language and make the result semantically searchable\n",
    "\n",
    "    - [transcription with multilingual translation](../examples/transcribe_translate/transcribe-multilingual.md): build a modular pipeline that takes in an audio/video file, transcribes it, and translates the transcription into a target language\n",
    "\n",
    "    - [semantically searchable multilingual transcription](../examples/transcribe_translate/transcribe-multilingual-semantic.md): build a modular pipeline that takes in an audio/video file, transcribes it, translates the transcription into a desired language, and performs semantic search on each sentence of the output"
   ]
  },
  {
   "cell_type": "markdown",
   "metadata": {},
   "source": [
    "- image-to-text centered examples: pipeline examples centering on the concept of extracting text from images, using [ocr](../modules/ocr.md) or [caption](../modules/caption.md) modules, and processing it downstream\n",
    "    - [ocr keyword search](../examples/image-to-text/ocr-keyword.md): extract text from input images and make it keyword searchable\n",
    "    - [caption semantic search](../examples/image-to-text/caption-semantic.md): extract text description from an input image and make it semantically searchable"
   ]
  },
  {
   "cell_type": "markdown",
   "metadata": {},
   "source": [
    "- basic text-search centered examples: pipeline examples centering on the concept of making text searchable\n",
    "    - [keyword search](../examples/text-search/keyword_search.md): make any input text file keyword searchable\n",
    "    - [semantic search](../examples/text-search/semantic_search.md): make any input text file semantically searchable"
   ]
  }
 ],
 "metadata": {
  "kernelspec": {
   "display_name": "venv",
   "language": "python",
   "name": "python3"
  },
  "language_info": {
   "codemirror_mode": {
    "name": "ipython",
    "version": 3
   },
   "file_extension": ".py",
   "mimetype": "text/x-python",
   "name": "python",
   "nbconvert_exporter": "python",
   "pygments_lexer": "ipython3",
   "version": "3.10.13"
  }
 },
 "nbformat": 4,
 "nbformat_minor": 2
}
