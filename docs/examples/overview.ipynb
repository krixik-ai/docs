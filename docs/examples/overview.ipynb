{
 "cells": [
  {
   "cell_type": "markdown",
   "metadata": {},
   "source": [
    "## transcribe-centric pipelines: overview\n",
    "\n",
    "This collection of pipelines implements a range of functionality centering on transcription.  That is, where the [`transcribe` module](modules/transcribe.md) is central to the functional outcome of the desired pipeline.\n",
    "\n",
    "Each can be constructed in just a few minutes with a proper arrangement of currently available [modules](modules/overview.md).\n",
    "\n",
    "These example pipelines include:\n",
    "\n",
    "- [semantically searchable transcription](examples/transcribe/transcribe-semantic.md): learn how to build a modular pipeline that takes in an audio/video file, transcribes it, and makes the result semantically searchable.\n",
    "\n",
    "- [transcription with multilingual translation](examples/transcribe/transcribe-multilingual.md): learn how to build of a modular pipeline that takes in an audio/video file, transcribes it, and makes the result semantically searchable.\n",
    "\n",
    "- [semantically searchable multilingual transcription](examples/transcribe/transcribe-multilingual-semantic.md): learn how to build of a modular pipeline that takes in an audio/video file, transcribes it, translates the transcription into a desired language, and makes the result semantically searchable.\n",
    "\n",
    "- [transcription to sentiment analysis](examples/transcribe/transcribe-sentiment.md): learn how to build a modular pipeline that takes in an audio/video file, transcribes it, and performs sentiment analysis on each sentence of the output transcription.\n",
    "\n",
    "\n"
   ]
  }
 ],
 "metadata": {
  "kernelspec": {
   "display_name": "venv",
   "language": "python",
   "name": "python3"
  },
  "language_info": {
   "codemirror_mode": {
    "name": "ipython",
    "version": 3
   },
   "file_extension": ".py",
   "mimetype": "text/x-python",
   "name": "python",
   "nbconvert_exporter": "python",
   "pygments_lexer": "ipython3",
   "version": "3.10.13"
  }
 },
 "nbformat": 4,
 "nbformat_minor": 2
}
