{
 "cells": [
  {
   "cell_type": "markdown",
   "metadata": {},
   "source": [
    "## Multi-Module Pipeline: Keyword Search\n",
    "\n",
    "This redirecting document has only been placed here for indication: you only need a single-module pipeline for [`keyword search`](../system/search_methods/keyword_search_method.md). Multi-module is not necessary.\n",
    "\n",
    "Please review the documentation for the keyword search pipeline [here](../examples/single_module_pipelines/single_keyword-db.md)."
   ]
  }
 ],
 "metadata": {
  "kernelspec": {
   "display_name": "venv",
   "language": "python",
   "name": "python3"
  },
  "language_info": {
   "codemirror_mode": {
    "name": "ipython",
    "version": 3
   },
   "file_extension": ".py",
   "mimetype": "text/x-python",
   "name": "python",
   "nbconvert_exporter": "python",
   "pygments_lexer": "ipython3",
   "version": "3.10.13"
  }
 },
 "nbformat": 4,
 "nbformat_minor": 2
}
