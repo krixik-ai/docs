{
 "cells": [
  {
   "cell_type": "markdown",
   "metadata": {},
   "source": [
    "## Multi-Module Pipeline: Keyword-Searchable Transcription\n",
    "\n",
    "This document details a modular pipeline that takes in an audio/video file, [`transcribes`](../modules/ai_model_modules/transcribe_module.md) it, and makes the result [`keyword searchable`](../system/search_methods/keyword_search_method.md).\n",
    "\n",
    "The document is divided into the following sections:\n",
    "\n",
    "- [Pipeline Setup](#pipeline-setup)\n",
    "- [Processing an Input File](#processing-an-input-file)\n",
    "- [Performing Keyword Search](#performing-keyword-search)"
   ]
  },
  {
   "cell_type": "markdown",
   "metadata": {},
   "source": [
    "### Pipeline Setup\n",
    "\n",
    "To achieve what we've described above, let's set up a pipeline sequentially consisting of the following modules:\n",
    "\n",
    "- A [`transcribe`](../modules/ai_model_modules/transcribe_module.md) module.\n",
    "\n",
    "- A [`json-to-txt`](../modules/support_function_modules/json-to-txt_module.md) module.\n",
    "\n",
    "- A [`keyword-db`](../modules/database_modules/keyword-db_module.md) module.\n",
    "\n",
    "We do this by leveraging the [`.create_pipeline`](../system/pipeline_creation/create_pipeline.md) method, as follows:"
   ]
  },
  {
   "cell_type": "code",
   "execution_count": 2,
   "metadata": {},
   "outputs": [],
   "source": [
    "# create a pipeline as detailed above\n",
    "\n",
    "pipeline_1 = krixik.create_pipeline(name=\"multi_keyword_searchable_transcription\",\n",
    "                                    module_chain=[\"transcribe\",\n",
    "                                                  \"json-to-txt\",\n",
    "                                                  \"keyword-db\"])"
   ]
  },
  {
   "cell_type": "markdown",
   "metadata": {},
   "source": [
    "### Processing an Input File\n",
    "\n",
    "Lets take a quick look at a test file before processing."
   ]
  },
  {
   "cell_type": "code",
   "execution_count": 3,
   "metadata": {},
   "outputs": [
    {
     "data": {
      "text/html": [
       "<video src=\"../../../data/input/Interesting Facts About Colombia.mp4\" controls  >\n",
       "      Your browser does not support the <code>video</code> element.\n",
       "    </video>"
      ],
      "text/plain": [
       "<IPython.core.display.Video object>"
      ]
     },
     "execution_count": 3,
     "metadata": {},
     "output_type": "execute_result"
    }
   ],
   "source": [
    "# examine contents of input file\n",
    "\n",
    "from IPython.display import Video\n",
    "Video(\"../../../data/input/Interesting Facts About Colombia.mp4\")"
   ]
  },
  {
   "cell_type": "markdown",
   "metadata": {},
   "source": [
    "We will use the default models for every module in the pipeline, so the [`modules`](../system/parameters_processing_files_through_pipelines/process_method.md#selecting-models-via-the-modules-argument) argument of the [`.process`](../system/parameters_processing_files_through_pipelines/process_method.md) method doesn't need to be leveraged."
   ]
  },
  {
   "cell_type": "code",
   "execution_count": 5,
   "metadata": {},
   "outputs": [],
   "source": [
    "# process the file through the pipeline, as described above\n",
    "\n",
    "process_output_1 = pipeline_1.process(local_file_path = \"../../../data/input/Interesting Facts About Colombia.mp4\", # the initial local filepath where the input file is stored\n",
    "                                      local_save_directory=\"../../../data/output\", # the local directory that the output file will be saved to\n",
    "                                      expire_time=60*30, # process data will be deleted from the Krixik system in 30 minutes\n",
    "                                      wait_for_process=True, # wait for process to complete before returning IDE control to user\n",
    "                                      verbose=False) # do not display process update printouts upon running code"
   ]
  },
  {
   "cell_type": "markdown",
   "metadata": {},
   "source": [
    "The output of this process is printed below. To learn more about each component of the output, review documentation for the [`.process`](../system/parameters_processing_files_through_pipelines/process_method.md) method.\n",
    "\n",
    "Because the output of this particular module-model pair is an `SQLlite` database file, the `process_output` is \"null\". However, the output file has been saved to the location noted in the `process_output_files` key.  The `file_id` of the processed input is used as a filename prefix for the output file."
   ]
  },
  {
   "cell_type": "code",
   "execution_count": 6,
   "metadata": {},
   "outputs": [
    {
     "name": "stdout",
     "output_type": "stream",
     "text": [
      "{\n",
      "  \"status_code\": 200,\n",
      "  \"pipeline\": \"examples-transcribe-keyword-docs\",\n",
      "  \"request_id\": \"52f90a19-b379-445a-8fbf-6cf2426c457c\",\n",
      "  \"file_id\": \"10666b2d-95f6-4551-b991-2de89f641d32\",\n",
      "  \"message\": \"SUCCESS - output fetched for file_id 10666b2d-95f6-4551-b991-2de89f641d32.Output saved to location(s) listed in process_output_files.\",\n",
      "  \"warnings\": [],\n",
      "  \"process_output\": null,\n",
      "  \"process_output_files\": [\n",
      "    \"../../../data/output/10666b2d-95f6-4551-b991-2de89f641d32.db\"\n",
      "  ]\n",
      "}\n"
     ]
    }
   ],
   "source": [
    "# nicely print the output of this process\n",
    "\n",
    "print(json.dumps(process_output_1, indent=2))"
   ]
  },
  {
   "cell_type": "markdown",
   "metadata": {},
   "source": [
    "### Performing Keyword Search\n",
    "\n",
    "Krixik's [`.keyword_search`](../system/search_methods/keyword_search_method.md) method enables keyword search on documents processed through pipelines that end with the [`keyword-db`](../modules/database_modules/keyword-db_module.md) module.\n",
    "\n",
    "Since our pipeline satisfies this condition, it has access to the [`.keyword_search`](../system/search_methods/keyword_search_method.md) method. Let's use it to query our text for a few keywords, as below:"
   ]
  },
  {
   "cell_type": "code",
   "execution_count": 7,
   "metadata": {},
   "outputs": [
    {
     "name": "stdout",
     "output_type": "stream",
     "text": [
      "{\n",
      "  \"status_code\": 200,\n",
      "  \"request_id\": \"4461da6c-2ad3-4a09-99dd-68e972bcd079\",\n",
      "  \"message\": \"Successfully queried 1 user file.\",\n",
      "  \"warnings\": [\n",
      "    {\n",
      "      \"WARNING: the following words in the query are in the stop_words list and thus no results will be returned for them\": [\n",
      "        \"about\",\n",
      "        \"the\",\n",
      "        \"of\"\n",
      "      ]\n",
      "    }\n",
      "  ],\n",
      "  \"items\": [\n",
      "    {\n",
      "      \"file_id\": \"10666b2d-95f6-4551-b991-2de89f641d32\",\n",
      "      \"file_metadata\": {\n",
      "        \"file_name\": \"krixik_generated_file_name_ydfcgrxmkj.mp3\",\n",
      "        \"symbolic_directory_path\": \"/etc\",\n",
      "        \"file_tags\": [],\n",
      "        \"num_lines\": 1,\n",
      "        \"created_at\": \"2024-05-07 17:57:06\",\n",
      "        \"last_updated\": \"2024-05-07 17:57:06\"\n",
      "      },\n",
      "      \"search_results\": [\n",
      "        {\n",
      "          \"keyword\": \"country\",\n",
      "          \"line_number\": 1,\n",
      "          \"keyword_number\": 8\n",
      "        },\n",
      "        {\n",
      "          \"keyword\": \"talk\",\n",
      "          \"line_number\": 1,\n",
      "          \"keyword_number\": 121\n",
      "        },\n",
      "        {\n",
      "          \"keyword\": \"countries\",\n",
      "          \"line_number\": 1,\n",
      "          \"keyword_number\": 142\n",
      "        },\n",
      "        {\n",
      "          \"keyword\": \"let\",\n",
      "          \"line_number\": 1,\n",
      "          \"keyword_number\": 161\n",
      "        },\n",
      "        {\n",
      "          \"keyword\": \"talk\",\n",
      "          \"line_number\": 1,\n",
      "          \"keyword_number\": 194\n",
      "        },\n",
      "        {\n",
      "          \"keyword\": \"country\",\n",
      "          \"line_number\": 1,\n",
      "          \"keyword_number\": 319\n",
      "        },\n",
      "        {\n",
      "          \"keyword\": \"countries\",\n",
      "          \"line_number\": 1,\n",
      "          \"keyword_number\": 349\n",
      "        },\n",
      "        {\n",
      "          \"keyword\": \"country\",\n",
      "          \"line_number\": 1,\n",
      "          \"keyword_number\": 360\n",
      "        },\n",
      "        {\n",
      "          \"keyword\": \"country\",\n",
      "          \"line_number\": 1,\n",
      "          \"keyword_number\": 472\n",
      "        }\n",
      "      ]\n",
      "    }\n",
      "  ]\n",
      "}\n"
     ]
    }
   ],
   "source": [
    "# perform keyword search over the file in the pipeline\n",
    "\n",
    "keyword_output_1 = pipeline_1.keyword_search(query=\"lets talk about the country of Colombia\", \n",
    "                                             file_ids=[process_output_1[\"file_id\"]])\n",
    "\n",
    "# nicely print the output of this process\n",
    "\n",
    "print(json.dumps(keyword_output_1, indent=2))"
   ]
  },
  {
   "cell_type": "code",
   "execution_count": 8,
   "metadata": {
    "tags": [
     "remove_cell"
    ]
   },
   "outputs": [],
   "source": [
    "# delete all processed datapoints belonging to this pipeline\n",
    "\n",
    "reset_pipeline(pipeline_1)"
   ]
  }
 ],
 "metadata": {
  "kernelspec": {
   "display_name": "venv",
   "language": "python",
   "name": "python3"
  },
  "language_info": {
   "codemirror_mode": {
    "name": "ipython",
    "version": 3
   },
   "file_extension": ".py",
   "mimetype": "text/x-python",
   "name": "python",
   "nbconvert_exporter": "python",
   "pygments_lexer": "ipython3",
   "version": "3.10.13"
  }
 },
 "nbformat": 4,
 "nbformat_minor": 2
}
