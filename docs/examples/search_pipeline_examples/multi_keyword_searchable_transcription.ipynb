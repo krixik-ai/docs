{
 "cells": [
  {
   "cell_type": "markdown",
   "metadata": {},
   "source": [
    "## Multi-Module Pipeline: Keyword-Searchable Transcription\n",
    "\n",
    "This document details a modular pipeline that takes in an audio file, [`transcribes`](../../modules/ai_model_modules/transcribe_module.md) it, and makes the result [`keyword searchable`](../../system/search_methods/keyword_search_method.md).\n",
    "\n",
    "The document is divided into the following sections:\n",
    "\n",
    "- [Pipeline Setup](#pipeline-setup)\n",
    "- [Processing an Input File](#processing-an-input-file)\n",
    "- [Performing Keyword Search](#performing-keyword-search)"
   ]
  },
  {
   "cell_type": "code",
   "execution_count": 1,
   "metadata": {
    "tags": [
     "remove_cell"
    ]
   },
   "outputs": [
    {
     "name": "stdout",
     "output_type": "stream",
     "text": [
      "SUCCESS: You are now authenticated.\n"
     ]
    }
   ],
   "source": [
    "# import utilities\n",
    "import sys \n",
    "import json\n",
    "import importlib\n",
    "sys.path.append('../../../')\n",
    "reset = importlib.import_module(\"utilities.reset\")\n",
    "reset_pipeline = reset.reset_pipeline\n",
    "\n",
    "# load secrets from a .env file using python-dotenv\n",
    "from dotenv import load_dotenv\n",
    "import os\n",
    "load_dotenv(\"../../../.env\")\n",
    "MY_API_KEY = os.getenv('MY_API_KEY')\n",
    "MY_API_URL = os.getenv('MY_API_URL')\n",
    "\n",
    "# import krixik and initialize it with your personal secrets\n",
    "from krixik import krixik\n",
    "krixik.init(api_key = MY_API_KEY, \n",
    "            api_url = MY_API_URL)"
   ]
  },
  {
   "cell_type": "markdown",
   "metadata": {},
   "source": [
    "### Pipeline Setup\n",
    "\n",
    "To achieve what we've described above, let's set up a pipeline sequentially consisting of the following modules:\n",
    "\n",
    "- A [`transcribe`](../../modules/ai_model_modules/transcribe_module.md) module.\n",
    "\n",
    "- A [`json-to-txt`](../../modules/support_function_modules/json-to-txt_module.md) module.\n",
    "\n",
    "- A [`keyword-db`](../../modules/database_modules/keyword-db_module.md) module.\n",
    "\n",
    "We do this by leveraging the [`.create_pipeline`](../../system/pipeline_creation/create_pipeline.md) method, as follows:"
   ]
  },
  {
   "cell_type": "code",
   "execution_count": 2,
   "metadata": {},
   "outputs": [],
   "source": [
    "# create a pipeline as detailed above\n",
    "pipeline = krixik.create_pipeline(name=\"multi_keyword_searchable_transcription\",\n",
    "                                  module_chain=[\"transcribe\",\n",
    "                                                \"json-to-txt\",\n",
    "                                                \"keyword-db\"])"
   ]
  },
  {
   "cell_type": "markdown",
   "metadata": {},
   "source": [
    "### Processing an Input File\n",
    "\n",
    "Lets take a quick look at a test file before processing."
   ]
  },
  {
   "cell_type": "code",
   "execution_count": 3,
   "metadata": {},
   "outputs": [
    {
     "data": {
      "text/html": [
       "<video src=\"../../../data/input/Interesting Facts About Colombia.mp4\" controls  >\n",
       "      Your browser does not support the <code>video</code> element.\n",
       "    </video>"
      ],
      "text/plain": [
       "<IPython.core.display.Video object>"
      ]
     },
     "execution_count": 3,
     "metadata": {},
     "output_type": "execute_result"
    }
   ],
   "source": [
    "# examine contents of input file\n",
    "import IPython\n",
    "IPython.display.Audio(\"../../../data/input/Interesting Facts About Colombia.mp3\")"
   ]
  },
  {
   "cell_type": "markdown",
   "metadata": {},
   "source": [
    "We will use the default models for every module in the pipeline, so the [`modules`](../../system/parameters_processing_files_through_pipelines/process_method.md#selecting-models-via-the-modules-argument) argument of the [`.process`](../../system/parameters_processing_files_through_pipelines/process_method.md) method doesn't need to be leveraged."
   ]
  },
  {
   "cell_type": "code",
   "execution_count": 4,
   "metadata": {},
   "outputs": [],
   "source": [
    "# process the file through the pipeline, as described above\n",
    "process_output = pipeline.process(local_file_path = \"../../../data/input/Interesting Facts About Colombia.mp3\", # the initial local filepath where the input file is stored\n",
    "                                  local_save_directory=\"../../../data/output\", # the local directory that the output file will be saved to\n",
    "                                  expire_time=60*30, # process data will be deleted from the Krixik system in 30 minutes\n",
    "                                  wait_for_process=True, # wait for process to complete before returning IDE control to user\n",
    "                                  verbose=False) # do not display process update printouts upon running code"
   ]
  },
  {
   "cell_type": "markdown",
   "metadata": {},
   "source": [
    "The output of this process is printed below. To learn more about each component of the output, review documentation for the [`.process`](../../system/parameters_processing_files_through_pipelines/process_method.md) method.\n",
    "\n",
    "Because the output of this particular module-model pair is an `SQLlite` database file, the `process_output` is \"null\". However, the output file has been saved to the location noted in the `process_output_files` key.  The `file_id` of the processed input is used as a filename prefix for the output file."
   ]
  },
  {
   "cell_type": "code",
   "execution_count": 5,
   "metadata": {},
   "outputs": [
    {
     "name": "stdout",
     "output_type": "stream",
     "text": [
      "{\n",
      "  \"status_code\": 200,\n",
      "  \"pipeline\": \"multi_keyword_searchable_transcription\",\n",
      "  \"request_id\": \"ac2d22e7-2231-4924-a694-445ebe5600b9\",\n",
      "  \"file_id\": \"ff1e268e-d509-4f41-88d2-dada75505134\",\n",
      "  \"message\": \"SUCCESS - output fetched for file_id ff1e268e-d509-4f41-88d2-dada75505134.Output saved to location(s) listed in process_output_files.\",\n",
      "  \"warnings\": [],\n",
      "  \"process_output\": null,\n",
      "  \"process_output_files\": [\n",
      "    \"../../../data/output/ff1e268e-d509-4f41-88d2-dada75505134.db\"\n",
      "  ]\n",
      "}\n"
     ]
    }
   ],
   "source": [
    "# nicely print the output of this process\n",
    "print(json.dumps(process_output, indent=2))"
   ]
  },
  {
   "cell_type": "markdown",
   "metadata": {},
   "source": [
    "### Performing Keyword Search\n",
    "\n",
    "Krixik's [`.keyword_search`](../../system/search_methods/keyword_search_method.md) method enables keyword search on documents processed through pipelines that end with the [`keyword-db`](../../modules/database_modules/keyword-db_module.md) module.\n",
    "\n",
    "Since our pipeline satisfies this condition, it has access to the [`.keyword_search`](../../system/search_methods/keyword_search_method.md) method. Let's use it to query our text for a few keywords, as below:"
   ]
  },
  {
   "cell_type": "code",
   "execution_count": 6,
   "metadata": {},
   "outputs": [
    {
     "name": "stdout",
     "output_type": "stream",
     "text": [
      "{\n",
      "  \"status_code\": 200,\n",
      "  \"request_id\": \"19f1b2d9-a154-4bf8-a6a0-14fb37422dd1\",\n",
      "  \"message\": \"Successfully queried 1 user file.\",\n",
      "  \"warnings\": [\n",
      "    {\n",
      "      \"WARNING: the following words in the query are in the stop_words list and thus no results will be returned for them\": [\n",
      "        \"about\",\n",
      "        \"the\",\n",
      "        \"of\"\n",
      "      ]\n",
      "    }\n",
      "  ],\n",
      "  \"items\": [\n",
      "    {\n",
      "      \"file_id\": \"ff1e268e-d509-4f41-88d2-dada75505134\",\n",
      "      \"file_metadata\": {\n",
      "        \"file_name\": \"krixik_generated_file_name_owutflggbq.mp3\",\n",
      "        \"symbolic_directory_path\": \"/etc\",\n",
      "        \"file_tags\": [],\n",
      "        \"num_lines\": 1,\n",
      "        \"created_at\": \"2024-05-20 06:27:26\",\n",
      "        \"last_updated\": \"2024-05-20 06:27:26\"\n",
      "      },\n",
      "      \"search_results\": [\n",
      "        {\n",
      "          \"keyword\": \"country\",\n",
      "          \"line_number\": 1,\n",
      "          \"keyword_number\": 7\n",
      "        },\n",
      "        {\n",
      "          \"keyword\": \"talk\",\n",
      "          \"line_number\": 1,\n",
      "          \"keyword_number\": 120\n",
      "        },\n",
      "        {\n",
      "          \"keyword\": \"countries\",\n",
      "          \"line_number\": 1,\n",
      "          \"keyword_number\": 144\n",
      "        },\n",
      "        {\n",
      "          \"keyword\": \"let\",\n",
      "          \"line_number\": 1,\n",
      "          \"keyword_number\": 163\n",
      "        },\n",
      "        {\n",
      "          \"keyword\": \"talk\",\n",
      "          \"line_number\": 1,\n",
      "          \"keyword_number\": 193\n",
      "        },\n",
      "        {\n",
      "          \"keyword\": \"country\",\n",
      "          \"line_number\": 1,\n",
      "          \"keyword_number\": 317\n",
      "        },\n",
      "        {\n",
      "          \"keyword\": \"countries\",\n",
      "          \"line_number\": 1,\n",
      "          \"keyword_number\": 347\n",
      "        },\n",
      "        {\n",
      "          \"keyword\": \"country\",\n",
      "          \"line_number\": 1,\n",
      "          \"keyword_number\": 358\n",
      "        },\n",
      "        {\n",
      "          \"keyword\": \"country\",\n",
      "          \"line_number\": 1,\n",
      "          \"keyword_number\": 468\n",
      "        }\n",
      "      ]\n",
      "    }\n",
      "  ]\n",
      "}\n"
     ]
    }
   ],
   "source": [
    "# perform keyword search over the file in the pipeline\n",
    "keyword_output = pipeline.keyword_search(query=\"lets talk about the country of Colombia\", \n",
    "                                         file_ids=[process_output[\"file_id\"]])\n",
    "\n",
    "# nicely print the output of this process\n",
    "print(json.dumps(keyword_output, indent=2))"
   ]
  },
  {
   "cell_type": "code",
   "execution_count": 7,
   "metadata": {
    "tags": [
     "remove_cell"
    ]
   },
   "outputs": [],
   "source": [
    "# delete all processed datapoints belonging to this pipeline\n",
    "reset_pipeline(pipeline)"
   ]
  }
 ],
 "metadata": {
  "kernelspec": {
   "display_name": "venv",
   "language": "python",
   "name": "python3"
  },
  "language_info": {
   "codemirror_mode": {
    "name": "ipython",
    "version": 3
   },
   "file_extension": ".py",
   "mimetype": "text/x-python",
   "name": "python",
   "nbconvert_exporter": "python",
   "pygments_lexer": "ipython3",
   "version": "3.12.0"
  }
 },
 "nbformat": 4,
 "nbformat_minor": 2
}
