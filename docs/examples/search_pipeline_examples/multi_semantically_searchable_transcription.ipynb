{
 "cells": [
  {
   "cell_type": "markdown",
   "metadata": {},
   "source": [
    "## Multi-Module Pipeline: Semantically-Searchable Transcription\n",
    "\n",
    "This document details a modular pipeline that takes in an audio/video file, [`transcribes`](../modules/ai_model_modules/transcribe_module.md) it, and makes the result [`semantically searchable`](../system/search_methods/semantic_search_method.md).\n",
    "\n",
    "The document is divided into the following sections:\n",
    "\n",
    "- [Pipeline Setup](#pipeline-setup)\n",
    "- [Processing an Input File](#processing-an-input-file)\n",
    "- [Performing Semantic Search](#performing-semantic-search)"
   ]
  },
  {
   "cell_type": "markdown",
   "metadata": {},
   "source": [
    "### Pipeline Setup\n",
    "\n",
    "To achieve what we've described above, let's set up a pipeline sequentially consisting of the following modules:\n",
    "\n",
    "- A [`transcribe`](../modules/ai_model_modules/transcribe_module.md) module.\n",
    "\n",
    "- A [`json-to-txt`](../modules/support_function_modules/json-to-txt_module.md) module.\n",
    "\n",
    "- A [`parser`](../modules/ai_model_modules/parser_module.md) module.\n",
    "\n",
    "- A [`text-embedder`](../modules/ai_model_modules/text-embedder_module.md) module.\n",
    "\n",
    "- A [`vector-db`](../modules/database_modules/vector-db_module.md) module.\n",
    "\n",
    "We use the [`json-to-txt`](../modules/support_function_modules/json-to-txt_module.md) and [`parser`](../modules/ai_model_modules/parser_module.md) combination, which combines the transcribed snippets into one document and then splices it again, to make sure that any pauses in speech don't make for partial snippets that can confuse the [`text-embedder`](../modules/ai_model_modules/text-embedder_module.md) model.\n",
    "\n",
    "Pipeline setup is accomplished through the [`.create_pipeline`](../system/pipeline_creation/create_pipeline.md) method, as follows:"
   ]
  },
  {
   "cell_type": "code",
   "execution_count": 4,
   "metadata": {},
   "outputs": [],
   "source": [
    "# create a pipeline as detailed above\n",
    "\n",
    "pipeline_1 = krixik.create_pipeline(name=\"multi_semantically_searchable_transcription\",\n",
    "                                    module_chain=[\"transcribe\",\n",
    "                                                  \"json-to-txt\",\n",
    "                                                  \"parser\",\n",
    "                                                  \"text-embedder\",\n",
    "                                                  \"vector-db\"])"
   ]
  },
  {
   "cell_type": "markdown",
   "metadata": {},
   "source": [
    "### Processing an Input File\n",
    "\n",
    "Lets take a quick look at a test file before processing."
   ]
  },
  {
   "cell_type": "code",
   "execution_count": 1,
   "metadata": {},
   "outputs": [
    {
     "data": {
      "text/html": [
       "<video src=\"../../../data/input/Interesting Facts About Colombia.mp4\" controls  >\n",
       "      Your browser does not support the <code>video</code> element.\n",
       "    </video>"
      ],
      "text/plain": [
       "<IPython.core.display.Video object>"
      ]
     },
     "execution_count": 1,
     "metadata": {},
     "output_type": "execute_result"
    }
   ],
   "source": [
    "# examine contents of input file\n",
    "\n",
    "from IPython.display import Video\n",
    "Video(\"../../../data/input/Interesting Facts About Colombia.mp4\")"
   ]
  },
  {
   "cell_type": "markdown",
   "metadata": {},
   "source": [
    "We will use the default models for every module in the pipeline, so the [`modules`](../system/parameters_processing_files_through_pipelines/process_method.md#selecting-models-via-the-modules-argument) argument of the [`.process`](../system/parameters_processing_files_through_pipelines/process_method.md) method doesn't need to be leveraged."
   ]
  },
  {
   "cell_type": "code",
   "execution_count": 9,
   "metadata": {},
   "outputs": [
    {
     "name": "stdout",
     "output_type": "stream",
     "text": [
      "INFO: Checking that file size falls within acceptable parameters...\n",
      "INFO:...success!\n",
      "converted ../../input_data/Interesting Facts About Colombia.mp4 to: /var/folders/k9/0vtmhf0s5h56gt15mkf07b1r0000gn/T/tmpb5m88eea/krixik_converted_version_Interesting Facts About Colombia.mp3\n",
      "INFO: hydrated input modules: {'transcribe': {'model': 'whisper-tiny', 'params': {}}, 'json-to-txt': {'model': 'base', 'params': {}}, 'parser': {'model': 'sentence', 'params': {}}, 'text-embedder': {'model': 'multi-qa-MiniLM-L6-cos-v1', 'params': {'quantize': True}}, 'vector-db': {'model': 'faiss', 'params': {}}}\n",
      "INFO: symbolic_directory_path was not set by user - setting to default of /etc\n",
      "INFO: file_name was not set by user - setting to random file name: krixik_generated_file_name_tnzlfqdsly.mp3\n",
      "INFO: wait_for_process is set to True.\n",
      "INFO: file will expire and be removed from you account in 300 seconds, at Mon Apr 29 16:02:50 2024 UTC\n",
      "INFO: transcribe-semantic-pipeline file process and input processing started...\n",
      "INFO: metadata can be updated using the .update api.\n",
      "INFO: This process's request_id is: e04aa020-3d5c-5391-531e-23c222c820cd\n",
      "INFO: File process and processing status:\n",
      "SUCCESS: module 1 (of 5) - transcribe processing complete.\n",
      "SUCCESS: module 2 (of 5) - json-to-txt processing complete.\n",
      "SUCCESS: module 3 (of 5) - parser processing complete.\n",
      "SUCCESS: module 4 (of 5) - text-embedder processing complete.\n",
      "SUCCESS: module 5 (of 5) - vector-db processing complete.\n",
      "SUCCESS: pipeline process complete.\n",
      "SUCCESS: process output downloaded\n"
     ]
    }
   ],
   "source": [
    "# process the file through the pipeline, as described above\n",
    "\n",
    "process_output_1 = pipeline_1.process(local_file_path = \"../../../data/input/Interesting Facts About Colombia.mp4\", # the initial local filepath where the input file is stored\n",
    "                                      local_save_directory=\"../../../data/output\", # the local directory that the output file will be saved to\n",
    "                                      expire_time=60*30, # process data will be deleted from the Krixik system in 30 minutes\n",
    "                                      wait_for_process=True, # wait for process to complete before returning IDE control to user\n",
    "                                      verbose=False) # do not display process update printouts upon running code"
   ]
  },
  {
   "cell_type": "markdown",
   "metadata": {},
   "source": [
    "The output of this process is printed below. To learn more about each component of the output, review documentation for the [`.process`](../system/parameters_processing_files_through_pipelines/process_method.md) method.\n",
    "\n",
    "Because the output of this particular module-model pair is a [`FAISS`](https://github.com/facebookresearch/faiss) database file, the process output is null. However, the output file has been saved to the location noted in the `process_output_files` key.  The `file_id` of the processed input is used as a filename prefix for the output file."
   ]
  },
  {
   "cell_type": "code",
   "execution_count": 10,
   "metadata": {},
   "outputs": [
    {
     "name": "stdout",
     "output_type": "stream",
     "text": [
      "{\n",
      "  \"status_code\": 200,\n",
      "  \"pipeline\": \"transcribe-semantic-pipeline\",\n",
      "  \"request_id\": \"37608ba0-db6e-44ef-b93e-7196616b3331\",\n",
      "  \"file_id\": \"e0024f60-9192-4e05-8bb3-a0a0423305ab\",\n",
      "  \"message\": \"SUCCESS - output fetched for file_id e0024f60-9192-4e05-8bb3-a0a0423305ab.Output saved to location(s) listed in process_output_files.\",\n",
      "  \"warnings\": [],\n",
      "  \"process_output\": null,\n",
      "  \"process_output_files\": [\n",
      "    \"/Users/jeremywatt/Desktop/krixik-cli/docs/examples/transcribe/e0024f60-9192-4e05-8bb3-a0a0423305ab.faiss\"\n",
      "  ]\n",
      "}\n"
     ]
    }
   ],
   "source": [
    "# nicely print the output of this process\n",
    "\n",
    "print(json.dumps(process_output_1, indent=2))"
   ]
  },
  {
   "cell_type": "markdown",
   "metadata": {},
   "source": [
    "### Performing Semantic Search\n",
    "\n",
    "Krixik's [`.semantic_search`](../system/search_methods/semantic_search_method.md) method enables semantic search on documents [processed](../system/parameters_processing_files_through_pipelines/process_method.md) through certain pipelines. Given that the [`.semantic_search`](../system/search_methods/semantic_search_method.md) method both [embeds](../modules/ai_model_modules/text-embedder_module.md) the query and performs the search, it can only be used with pipelines containing both a [`text-embedder`](../modules/ai_model_modules/text-embedder_module.md) module and a [`vector-db`](../modules/database_modules/vector-db_module.md) module in immediate succession.\n",
    "\n",
    "Since our pipeline satisfies this condition, it has access to the [`.semantic_search`](../system/search_methods/semantic_search_method.md) method. Let's use it to query our text with natural language, as shown below:"
   ]
  },
  {
   "cell_type": "code",
   "execution_count": 11,
   "metadata": {},
   "outputs": [
    {
     "name": "stdout",
     "output_type": "stream",
     "text": [
      "{\n",
      "  \"status_code\": 200,\n",
      "  \"request_id\": \"d88bf437-a742-41c1-8b28-5981d5c44bcc\",\n",
      "  \"message\": \"Successfully queried 1 user file.\",\n",
      "  \"warnings\": [],\n",
      "  \"items\": [\n",
      "    {\n",
      "      \"file_id\": \"e0024f60-9192-4e05-8bb3-a0a0423305ab\",\n",
      "      \"file_metadata\": {\n",
      "        \"file_name\": \"krixik_generated_file_name_tnzlfqdsly.mp3\",\n",
      "        \"symbolic_directory_path\": \"/etc\",\n",
      "        \"file_tags\": [],\n",
      "        \"num_vectors\": 41,\n",
      "        \"created_at\": \"2024-04-29 22:57:52\",\n",
      "        \"last_updated\": \"2024-04-29 22:57:52\"\n",
      "      },\n",
      "      \"search_results\": [\n",
      "        {\n",
      "          \"snippet\": \"Learn about Columbia.\",\n",
      "          \"line_numbers\": [\n",
      "            1\n",
      "          ],\n",
      "          \"distance\": 0.263\n",
      "        },\n",
      "        {\n",
      "          \"snippet\": \"And I know coffee is really important when it comes to talking about Columbia, but you guys really don't know how important it is with its culture.\",\n",
      "          \"line_numbers\": [\n",
      "            1\n",
      "          ],\n",
      "          \"distance\": 0.287\n",
      "        },\n",
      "        {\n",
      "          \"snippet\": \"You Columbia coffee right here.\",\n",
      "          \"line_numbers\": [\n",
      "            1\n",
      "          ],\n",
      "          \"distance\": 0.292\n",
      "        },\n",
      "        {\n",
      "          \"snippet\": \"Now interesting enough when it comes to the coffee in Columbia, believe it or not, it is not actually native to the country.\",\n",
      "          \"line_numbers\": [\n",
      "            1\n",
      "          ],\n",
      "          \"distance\": 0.298\n",
      "        },\n",
      "        {\n",
      "          \"snippet\": \"So we all know Columbia is famous for its coffee, right?\",\n",
      "          \"line_numbers\": [\n",
      "            1\n",
      "          ],\n",
      "          \"distance\": 0.306\n",
      "        }\n",
      "      ]\n",
      "    }\n",
      "  ]\n",
      "}\n"
     ]
    }
   ],
   "source": [
    "# perform semantic_search over the file in the pipeline\n",
    "\n",
    "semantic_output_1 = pipeline_1.semantic_search(query=\"Let's talk about the country of Colombia\", \n",
    "                                               file_ids=[\"XXXXX\"])\n",
    "\n",
    "# nicely print the output of this process\n",
    "\n",
    "print(json.dumps(semantic_output_1, indent=2))"
   ]
  },
  {
   "cell_type": "code",
   "execution_count": null,
   "metadata": {
    "tags": [
     "remove_cell"
    ]
   },
   "outputs": [],
   "source": [
    "# delete all processed datapoints belonging to this pipeline\n",
    "\n",
    "reset_pipeline(pipeline_1)"
   ]
  }
 ],
 "metadata": {
  "kernelspec": {
   "display_name": "venv",
   "language": "python",
   "name": "python3"
  },
  "language_info": {
   "codemirror_mode": {
    "name": "ipython",
    "version": 3
   },
   "file_extension": ".py",
   "mimetype": "text/x-python",
   "name": "python",
   "nbconvert_exporter": "python",
   "pygments_lexer": "ipython3",
   "version": "3.10.13"
  }
 },
 "nbformat": 4,
 "nbformat_minor": 2
}
