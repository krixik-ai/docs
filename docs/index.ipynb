{
 "cells": [
  {
   "cell_type": "markdown",
   "metadata": {},
   "source": [
    "# Welcome to Krixik Documentation!\n",
    "\n",
    "If you're seeking the Krixik cli repo on GitHub, please [click here](https://github.com/krixik-ai/krixik-cli)."
   ]
  },
  {
   "cell_type": "markdown",
   "metadata": {},
   "source": [
    "## Table of Contents\n",
    "\n",
    "-  [What can you do with Krixik?](#what-can-you-do-with-krixik?)\n",
    "-  [Core Concepts](#core-concepts)\n",
    "-  [Documentation Sections](#documentation-sections)"
   ]
  },
  {
   "cell_type": "markdown",
   "metadata": {},
   "source": [
    "## What can you do with Krixik?\n",
    "\n",
    "With Krixik, you can...\n",
    "\n",
    "- ...run semantic search on 540 focus group transcripts and then perform sentiment analysis on each result.\n",
    "  - Pipeline: [Parse → Embed → Vector Database → (Vector Search) → Sentiment Analysis]\n",
    "- ...transcribe a year's worth of Peruvian political speeches, translate them to English, and then summarize each one.\n",
    "  - Pipeline: [Transcribe → Translate → JSON-to-TXT → Summarize]\n",
    "- ...easily and serverlessly consume your open-source OCR model of choice.\n",
    "  - Pipeline: [OCR]"
   ]
  },
  {
   "cell_type": "markdown",
   "metadata": {},
   "source": [
    "## Core Concepts\n",
    "\n",
    "### Components of a Krixik Pipeline\n",
    "\n",
    "Krixik **pipelines** are comprised of one or more sequentially connected **modules**. These modules are containers for a range of **parameterizable** AI **models** or support functions.\n",
    "\n",
    "Let's examine each of the above-highlighted terms.\n",
    "\n",
    "A **pipeline** is a self-contained sequence of one or more modules that is consumed via a serverless API.  \n",
    "\n",
    "A **module** is a processing step with a unique input/output data footprint. Each model contains a parameterizable AI model or support function.\n",
    "\n",
    "A **model** is a bespoke processing function contained within a module. Many of these are AI models, but some are simpler \"support functions\" for inter-pipeline data preparation or transformation.\n",
    "\n",
    "**Parameters** can be set for each module when a pipeline is run and allow for further customization. Each has a default value, so setting them is optional. For instance, one parameterizable item is which specific AI model you want active within a given module."
   ]
  },
  {
   "cell_type": "markdown",
   "metadata": {},
   "source": [
    "## Documentation Sections\n",
    "\n",
    "Krixik Documentation is divided into the following three sections. Dive in!\n",
    "\n",
    "- [The Krixik System](system/system_overview.md) (including [installation](system/initialization/install_cli.md), [initialization](system/initialization/initialize_and_authenticate.md), [pipeline creation](system/pipeline_creation/create_pipeline.md), [file processing](system/parameters_processing_files_through_pipelines/process_method.md), and more)\n",
    "- [The Krixik Module Library](modules/modules_overview.md)\n",
    "- [Krixik Pipeline Examples](examples/pipeline_examples_overview.md)\n",
    "\n",
    "And we close with a brief note on the [Future of Krixik](future/future_of_krixik.md).\n",
    "\n",
    "Happy building—if you have any questions or comments, please feel free to reach out via GitHub Issues!"
   ]
  }
 ],
 "metadata": {
  "language_info": {
   "name": "python"
  }
 },
 "nbformat": 4,
 "nbformat_minor": 2
}
