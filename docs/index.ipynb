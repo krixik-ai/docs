{
 "cells": [
  {
   "cell_type": "markdown",
   "metadata": {},
   "source": [
    "# Welcome to krixik!\n",
    "\n",
    "Easily assemble and serverlessly consume modular AI pipelines through secure Python APIs."
   ]
  },
  {
   "cell_type": "markdown",
   "metadata": {},
   "source": [
    "### Install the krixik cli using pip\n",
    "\n",
    "pip install the krixik Python CLI by executing the following at your terminal"
   ]
  },
  {
   "cell_type": "markdown",
   "metadata": {},
   "source": [
    "```python\n",
    "# install the krixik cli\n",
    "pip install krixik\n",
    "```"
   ]
  },
  {
   "cell_type": "markdown",
   "metadata": {},
   "source": [
    "Note: Python version 3.8 or higher is required to use the cli."
   ]
  },
  {
   "cell_type": "markdown",
   "metadata": {},
   "source": [
    "### Initialize your session"
   ]
  },
  {
   "cell_type": "markdown",
   "metadata": {},
   "source": [
    "\n",
    "\n",
    "\n",
    "\n",
    "\n",
    "\n",
    "\n",
    "To initialize your Krixik CLI session you will need your unique `api_key` and `api_url` secrets.  Beta testers will receive their secrets from Krixik admin.\n",
    "\n",
    "Once you have your secrets, initialize your session as follows:\n",
    "\n",
    "\n",
    "```python\n",
    "from krixik import krixik\n",
    "krixik.init(api_key=MY_API_KEY, \n",
    "            api_url=MY_API_URL)\n",
    "```\n",
    "\n",
    "...where  `MY_API_KEY` and `MY_API_URL` are your account secrets.\n",
    "\n",
    "If you've misplaced your secrets, please reach out to us directly."
   ]
  },
  {
   "cell_type": "markdown",
   "metadata": {},
   "source": [
    "## Pipelines, modules, and models\n",
    "\n"
   ]
  },
  {
   "cell_type": "markdown",
   "metadata": {},
   "source": [
    "## What you can build\n"
   ]
  }
 ],
 "metadata": {
  "language_info": {
   "name": "python"
  }
 },
 "nbformat": 4,
 "nbformat_minor": 2
}
