{
 "cells": [
  {
   "cell_type": "markdown",
   "metadata": {},
   "source": [
    "# Welcome to krixik!\n",
    "\n",
    "Easily assemble and serverlessly consume modular AI pipelines through secure Python APIs."
   ]
  },
  {
   "cell_type": "markdown",
   "metadata": {},
   "source": [
    "## Quickstart guide"
   ]
  },
  {
   "cell_type": "markdown",
   "metadata": {},
   "source": [
    "Get started in three easy steps.\n",
    "\n",
    "1.  [install the krixik cli](#install-the-krixik-cli)\n",
    "2.  [initialize a session](#initialize-a-session)\n",
    "3.  [start building](#start-building)"
   ]
  },
  {
   "cell_type": "markdown",
   "metadata": {},
   "source": [
    "### Install the krixik cli using pip\n",
    "\n",
    "Install the krixik Python CLI using `pip` by executing the following at a terminal."
   ]
  },
  {
   "cell_type": "markdown",
   "metadata": {},
   "source": [
    "```python\n",
    "# install the krixik cli\n",
    "pip install krixik\n",
    "```"
   ]
  },
  {
   "cell_type": "markdown",
   "metadata": {},
   "source": [
    "Note: Python version 3.8 or higher is required to use the cli."
   ]
  },
  {
   "cell_type": "markdown",
   "metadata": {},
   "source": [
    "### Initialize a session"
   ]
  },
  {
   "cell_type": "markdown",
   "metadata": {},
   "source": [
    "Initialize a session by executing the following in a notebook or ide.\n",
    "\n",
    "```python\n",
    "from krixik import krixik\n",
    "krixik.init(api_key=MY_API_KEY, \n",
    "            api_url=MY_API_URL)\n",
    "```\n",
    "\n",
    "Here  `MY_API_KEY` and `MY_API_URL` are your account secrets.\n",
    "\n",
    "Note: [krixik](https://github.com/krixik-ai/krixik-cli) is currently in closed beta.  Please reach out to us directly if you have any issues initializing a session."
   ]
  },
  {
   "cell_type": "markdown",
   "metadata": {},
   "source": [
    "### Start building"
   ]
  },
  {
   "cell_type": "markdown",
   "metadata": {},
   "source": [
    "Start building modular pipelines!\n",
    "\n",
    "- Dive in headfirst into building [multi-module examples](examples/overview.md)\n",
    "- Learn how to build with [individual modules](modules/overview.md)\n",
    "- Learn about [krixik system methods](system/overview.md)"
   ]
  }
 ],
 "metadata": {
  "language_info": {
   "name": "python"
  }
 },
 "nbformat": 4,
 "nbformat_minor": 2
}
