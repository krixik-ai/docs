{
 "cells": [
  {
   "cell_type": "markdown",
   "metadata": {},
   "source": [
    "## The `vector-db` Module\n",
    "\n",
    "The `vector-db` module takes as input a NumPy array, indexes its vectors, and returns an indexed [FAISS database](https://github.com/facebookresearch/faiss).\n",
    "\n",
    "This overview of the `vector-db` module is divided into the following sections:\n",
    "\n",
    "- [Inputs and Outputs of the `vector-db` Module](#inputs-and-outputs-of-the-vector-db-module)\n",
    "- [Available Models in the `vector-db` Module](#available-models-in-the-vector-db-module)\n",
    "- [Model Parameters in the `vector-db` Module](#model-parameters-in-the-vector-db-module)\n",
    "- [A Single-Module Pipeline for the `vector-db` Module (and Local Querying)](#a-single-module-pipeline-for-the-vector-db-module-(and-local-querying))\n",
    "- [The `.semantic_search` Method](#the-.semantic_search-method)\n",
    "- [Further Information on `vector-db` Module I/O and Clickability](#further-information-on-vector-db-module-i/o-and-clickability)"
   ]
  },
  {
   "cell_type": "code",
   "execution_count": 1,
   "metadata": {
    "tags": [
     "remove_cell"
    ]
   },
   "outputs": [
    {
     "name": "stdout",
     "output_type": "stream",
     "text": [
      "SUCCESS: You are now authenticated.\n"
     ]
    }
   ],
   "source": [
    "# import utilities\n",
    "import sys \n",
    "import json\n",
    "import importlib\n",
    "sys.path.append('../../../')\n",
    "reset = importlib.import_module(\"utilities.reset\")\n",
    "reset_pipeline = reset.reset_pipeline\n",
    "\n",
    "# load secrets from a .env file using python-dotenv\n",
    "from dotenv import load_dotenv\n",
    "import os\n",
    "load_dotenv(\"../../../.env\")\n",
    "MY_API_KEY = os.getenv('MY_API_KEY')\n",
    "MY_API_URL = os.getenv('MY_API_URL')\n",
    "\n",
    "# import krixik and initialize it with your personal secrets\n",
    "from krixik import krixik\n",
    "krixik.init(api_key = MY_API_KEY, \n",
    "            api_url = MY_API_URL)"
   ]
  },
  {
   "cell_type": "markdown",
   "metadata": {},
   "source": [
    "### Inputs and Outputs of the `vector-db` Module\n",
    "\n",
    "The `vector-db` module accepts as input NPY files that consist of a single NumPy array. Each row is a vector to be indexed for vector search.\n",
    "\n",
    "The `vector-db` module returns an indexed vector [FAISS](https://github.com/facebookresearch/faiss) database file.\n",
    "\n",
    "For an example of what a small sample input file might look like, see the output of the following code:"
   ]
  },
  {
   "cell_type": "code",
   "execution_count": 3,
   "metadata": {},
   "outputs": [
    {
     "data": {
      "text/plain": [
       "array([[0, 1],\n",
       "       [1, 0],\n",
       "       [1, 1]], dtype=int64)"
      ]
     },
     "execution_count": 3,
     "metadata": {},
     "output_type": "execute_result"
    }
   ],
   "source": [
    "# examine contents of a small sample input file\n",
    "import numpy as np\n",
    "test_file = \"../../../data/input/vectors.npy\"\n",
    "np.load(test_file)"
   ]
  },
  {
   "cell_type": "markdown",
   "metadata": {},
   "source": [
    "### Available Models in the `vector-db` Module\n",
    "\n",
    "You use the following model when using the `vector-db` module:\n",
    "\n",
    "- [faiss](https://github.com/facebookresearch/faiss) (default)\n",
    "\n",
    "Use the [`modules`](../../system/parameters_processing_files_through_pipelines/process_method.md#selecting-models-via-the-modules-argument) argument in the [`.process`](../../system/parameters_processing_files_through_pipelines/process_method.md) method to determine what model you'd like active when you process files through the `vector-db` module, though note that at this time there is only one option."
   ]
  },
  {
   "cell_type": "markdown",
   "metadata": {},
   "source": [
    "### Model Parameters in the `vector-db` Module\n",
    "\n",
    "The `vector-db` module model is not parameterizable. Consequently, should you wish to specify what model you'll use through the [`.process`](../../system/parameters_processing_files_through_pipelines/process_method.md) method's [`modules`](../../system/parameters_processing_files_through_pipelines/process_method.md#selecting-models-via-the-modules-argument) argument, `params` will always be set to an empty dictionary. For example:\n",
    "\n",
    "```python\n",
    "# example model selection for vector-db module in .process\n",
    "modules={'vector-db': {'model':'base',\n",
    "                       'params': {}}}\n",
    "```"
   ]
  },
  {
   "cell_type": "markdown",
   "metadata": {},
   "source": [
    "### A Single-Module Pipeline for the `vector-db` Module (and Local Querying)\n",
    "\n",
    "Please click [here](../../examples/single_module_pipelines/single_vector-db.md) to visit the `Pipeline Examples` section of our documentation and review an example of a single-module pipeline for the `vector-db` module.\n",
    "\n",
    "Keep in mind that the output of this pipeline will be an [FAISS](https://github.com/facebookresearch/faiss) database file, which is not human-readable. Moreover, for this single-module pipeline to work, you'll need to separately have one or more properly formatted NPY files ready for input.\n",
    "\n",
    "This example will also include an overview of how to [locally query](../../examples/single_module_pipelines/single_vector-db.md#querying-output-databases-locally) your output databases."
   ]
  },
  {
   "cell_type": "markdown",
   "metadata": {},
   "source": [
    "### The `.semantic_search` Method\n",
    "\n",
    "Any pipeline containing a `vector-db` module preceded by a [`text-embedder`](../ai_model_modules/text-embedder_module.md) module has access to the [`.semantic_search`](../../system/search_methods/semantic_search_method.md) method. This provides you with the convenient ability to effect semantic queries on the created vector database(s)."
   ]
  },
  {
   "cell_type": "markdown",
   "metadata": {},
   "source": [
    "### Further Information on `vector-db` Module I/O and Clickability\n",
    "\n",
    "Please click [here](../../system/convenience_methods/convenience_methods.md) to visit the `Convenience Methods (and More!)` documentation. There you will find two tools to learn more about the `vector-db` module:\n",
    "\n",
    "- [View Module Input and Output Examples](../../system/convenience_methods/convenience_methods.md#view-module-input-and-output-examples)\n",
    "\n",
    "- [View Module Click Data with the `.click_data` Method](../../system/convenience_methods/convenience_methods.md#view-module-click-data-with-the-.click_data-method)"
   ]
  }
 ],
 "metadata": {
  "kernelspec": {
   "display_name": "venv",
   "language": "python",
   "name": "python3"
  },
  "language_info": {
   "codemirror_mode": {
    "name": "ipython",
    "version": 3
   },
   "file_extension": ".py",
   "mimetype": "text/x-python",
   "name": "python",
   "nbconvert_exporter": "python",
   "pygments_lexer": "ipython3",
   "version": "3.12.0"
  }
 },
 "nbformat": 4,
 "nbformat_minor": 2
}
