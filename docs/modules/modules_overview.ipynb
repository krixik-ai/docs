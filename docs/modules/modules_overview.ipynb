{
 "cells": [
  {
   "cell_type": "markdown",
   "metadata": {},
   "source": [
    "## Currently Available Modules"
   ]
  },
  {
   "cell_type": "markdown",
   "metadata": {},
   "source": [
    "What follows is a list of all modules currently available to [build](../system/pipeline_creation/create_pipeline.md) Krixik pipelines with. As you review the list and begin to ideate pipeline possibilities, keep in mind that (as long as outputs and inputs [match](../system/convenience_methods/convenience_methods.md)) there are no restrictions on how you can put these together. Repetition, even serial repetition, is permitted.\n",
    "\n",
    "Given that the list of Krixik modules—and of the models within them—will constantly grow, we suggest that you bookmark this page."
   ]
  },
  {
   "cell_type": "markdown",
   "metadata": {},
   "source": [
    "### AI Model Modules\n",
    "\n",
    "- [Image Caption](../modules/ai_model_modules/caption_module.md): Generates a textual caption for an input image.\n",
    "\n",
    "- [OCR (Optical Character Recognition)](../modules/modules/ai_model_modules/ocr_module.md): Extracts text from an input image.\n",
    "\n",
    "- [Sentiment Analysis](../modules/ai_model_modules/sentiment_module.md): Performs sentiment analysis on input snippets of text (i.e. is the text positive/negative/neutral?). \n",
    "\n",
    "- [Summarize](../modules/ai_model_modules/summarize_module.md): Summarizes input text. \n",
    "\n",
    "- [Text Embedder](../modules/ai_model_modules/text-embedder_module.md): Converts input text into numerical vectors. These can then be stored in a Vector database to enable [`.sematic_search`](../system/search_methods/semantic_search_method.md).\n",
    "\n",
    "- [Parser](../modules/ai_model_modules/parser_module.md): Divides input text files into (potentially overlapping) snippets in a JSON file.\n",
    "\n",
    "- [Transcribe](../modules/ai_model_modules/transcribe_module.md): Transcribes into text the audio from an audio or video file.\n",
    "\n",
    "- [Translate](../modules/ai_model_modules/translate_module.md): Translates input text into another language.\n",
    "\n",
    "### Database Modules\n",
    "\n",
    "- [Vector database](../modules/database_modules/vector-db_module.md): Creates a vector database with set of input vectors. Enables [`.semantic_search`](../system/search_methods/semantic_search_method.md).\n",
    "\n",
    "- [Keyword database](../modules/database_modules/keyword-db_module.md): Creates a relational database of keywords drawn from an input text file. Enables [`.keyword_search`](../system/search_methods/keyword_search_method.md).\n",
    "\n",
    "### Support Function Modules\n",
    "\n",
    "- [JSON-to-TXT](../modules/support_function_modules/json-to-txt_module.md): Converts an input JSON file to a TXT file."
   ]
  }
 ],
 "metadata": {
  "language_info": {
   "name": "python"
  }
 },
 "nbformat": 4,
 "nbformat_minor": 2
}
