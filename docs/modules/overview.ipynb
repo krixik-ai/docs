{
 "cells": [
  {
   "cell_type": "markdown",
   "metadata": {},
   "source": [
    "## Overview of currently available modules"
   ]
  },
  {
   "cell_type": "markdown",
   "metadata": {},
   "source": [
    "In this Section we describe currently available modules that can be used to build pipelines with krixik."
   ]
  },
  {
   "cell_type": "markdown",
   "metadata": {},
   "source": [
    "A table of contents for this section is shown below.\n",
    "\n",
    "- [caption](modules/caption.md): create a caption describing an input image\n",
    "- [json-to-txt](modules/json-to-txt.md): convert input json to text files\n",
    "- [keyword-db](modules/keyword-db.md): create a database consisting of keywords from an input text file\n",
    "- [ocr](modules/ocr.md): extract text from input images\n",
    "- [parser](modules/parser.md): chunk input text files into snippets for embedding and other downstream tasks\n",
    "- [sentiment](modules/sentiment.md): perform sentiment analysis on input text snippets\n",
    "- [summarize](modules/summarize.md): create summaries of input text \n",
    "- [text-embedder](modules/text-embedder.md): create vectors of input text for search and other downstream tasks \n",
    "- [transcribe](modules/transcribe.md): transcribe the audio from mp3 or mp4 files\n",
    "- [translate](modules/translate.md): translate input text in one language into another\n",
    "- [vector-db](modules/vector-db.md): create a database for vectors and make them searchable\n",
    "\n"
   ]
  }
 ],
 "metadata": {
  "language_info": {
   "name": "python"
  }
 },
 "nbformat": 4,
 "nbformat_minor": 2
}
