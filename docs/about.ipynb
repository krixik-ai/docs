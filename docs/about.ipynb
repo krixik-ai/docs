{
 "cells": [
  {
   "cell_type": "markdown",
   "metadata": {},
   "source": [
    "# Krixik\n",
    "\n",
    "Easily build and consume modular AI pipelines from a secure API, in python.\n",
    "\n",
    "Please post issues, comments, or questions on our github repository."
   ]
  }
 ],
 "metadata": {
  "language_info": {
   "name": "python"
  }
 },
 "nbformat": 4,
 "nbformat_minor": 2
}
